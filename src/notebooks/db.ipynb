{
 "cells": [
  {
   "cell_type": "code",
   "execution_count": 28,
   "metadata": {},
   "outputs": [],
   "source": [
    "import pandas as pd"
   ]
  },
  {
   "cell_type": "code",
   "execution_count": 29,
   "metadata": {},
   "outputs": [],
   "source": [
    "df = pd.read_csv('data/ultimate_routes.csv')"
   ]
  },
  {
   "cell_type": "code",
   "execution_count": 30,
   "metadata": {},
   "outputs": [],
   "source": [
    "df = df.drop('route_id', axis = 1)"
   ]
  },
  {
   "cell_type": "code",
   "execution_count": 31,
   "metadata": {},
   "outputs": [],
   "source": [
    "df = df.rename({\"end\": \"end_point\"}, axis=1)"
   ]
  },
  {
   "cell_type": "code",
   "execution_count": 32,
   "metadata": {},
   "outputs": [],
   "source": [
    "df2 = pd.read_csv('data/ultimate_points.csv')"
   ]
  },
  {
   "cell_type": "code",
   "execution_count": 33,
   "metadata": {},
   "outputs": [],
   "source": [
    "df2 = df2.drop('nombre_ruta', axis = 1)"
   ]
  },
  {
   "cell_type": "code",
   "execution_count": 34,
   "metadata": {},
   "outputs": [],
   "source": [
    "df2 = df2.rename({\"id_route\": \"route_id\"}, axis=1)"
   ]
  },
  {
   "cell_type": "code",
   "execution_count": 35,
   "metadata": {},
   "outputs": [],
   "source": [
    "df2['route_id'] = df2.route_id + 1"
   ]
  },
  {
   "cell_type": "code",
   "execution_count": 36,
   "metadata": {},
   "outputs": [
    {
     "data": {
      "text/plain": [
       "6504"
      ]
     },
     "execution_count": 36,
     "metadata": {},
     "output_type": "execute_result"
    }
   ],
   "source": [
    "lenght = []\n",
    "for i in df2.eng_descripcion:\n",
    "    lenght.append(len(i))\n",
    "max(lenght)"
   ]
  },
  {
   "cell_type": "code",
   "execution_count": 37,
   "metadata": {},
   "outputs": [],
   "source": [
    "df.to_csv(\"data/routes.csv\")\n",
    "df2.to_csv(\"data/poi.csv\")"
   ]
  },
  {
   "cell_type": "code",
   "execution_count": 38,
   "metadata": {},
   "outputs": [],
   "source": [
    "route_24 = {'route_id': 24, 'name': 'Entre Naranjos', 'difficulty': 'baja', 'image': 'https://cultural.valencia.es/wp-content/uploads/2018/07/entre-naranjos-1-wpcf_199x300.jpg', 'duration': 105.0, 'startingPoint': 'Estación de Tren', 'endingPoint': 'Alameda', 'description_es': 'Ateniéndonos al narrado en la novela Entre *naranjos, se traza una ruta donde se sitúan los espacios por los cuales transitó el protagonista *alcireny del relato en su breve estancia en la ciudad antes de emprender una fuga amorosa con la bella cantante de ópera *Leonora. En concreto, partiendo desde la esquina de la calle *Lauria con la plaza del Ayuntamiento, se sigue hasta el lugar donde estuvo el desaparecido Café de España. Por la calle de las Barcas se llega hasta el Teatro Principal, y desde allí al Hotel Inglés (antaño de Roma), informando sobre la plaza de *Villarrasa y el palacio del Marqués de Dos Aguas. Después, se accede en la Universidad Literaria desde la calle de la Nave, para marchar a continuación al Parterre, cruzando después por el puente del Real hasta desembocar en la Alameda. Si bien la historia narrada en Entre *naranjos transcurre, fundamentalmente, en un ámbito rural que condiciona de manera decisiva la peripecia amorosa de los protagonistas y sirve al autor para denunciar las maneras del caciquismo y la política local, el desplazamiento de los personajes hasta València permite materializar un interesante itinerario.', 'description_va': 'Atenint-nos al narrat en la novel·la Entre naranjos, es traça una ruta on se situen els espais pels quals va transitar el protagonista alcireny del relat en la seua breu estada en la ciutat abans d’emprendre una fugida amorosa amb la bella cantant d’òpera Leonora. En concret, partint des de la cantonada del carrer Lauria amb la plaça de l’Ajuntament, se segueix fins al lloc on va estar el desaparegut Café de España. Per el carrer de les Barques s’arriba fins al Teatre Principal, i des d’allí a l’Hotel Inglés (antany de Roma), informant sobre la plaça de Villarrasa i el palau del Marquès de Dosaigües. Després, s’accedeix a la Universitat Literària des del carrer de la Nau, per a marxar a continuació al Parterre, creuant després pel pont del Real fins a desembocar en l’Albereda.Si bé la història narrada en Entre naranjos transcorre, fonamentalment, en un àmbit rural que condiciona de manera decisiva la peripècia amorosa dels protagonistes i servix a l’autor per a denunciar les maneres del caciquisme i la política local, el desplaçament dels personatges fins a València permet materialitzar un interessant itinerari.', 'description_en': 'Attening to the narrated one in the novel Between *naranjos, a route is traced where the spaces are located by which the protagonist *alcireny of the story transited in his brief stay in the city before undertaking an amorous escape with the beautiful singer of opera *Leonora. Specifically, starting from the corner of the street *Lauria with the square of the Town hall, one continues up to the place where the disappeared Café de España was. By the street of the Barcas one arrives until the Principal Theater, and from there to the English Hotel (formerly of Rome), reporting on the square of *Villarrasa and the palace of the Marqués de Dos Aguas. Afterwards, one enters the Literary University from the street of the Nave, to march next to the Parterre, crossing later by the bridge of the Real until flowing into the Alameda. Although the story narrated in Entre *naranjos takes place, fundamentally, in a rural environment that conditions in a decisive way the amorous vicissitude of the protagonists and serves to the author to denounce the ways of the caciquismo and the local politics, the displacement of the characters until València allows to materialize an interesting itinerary.', 'transport': 'peu', 'type': 'Literària', 'url': 'https://cultural.valencia.es/es/ruta/entre-naranjos/', 'poi': [{'poi_id': 317, 'name': 'Plaça de Tetuan', 'description_es': 'Plaza de Tetuán', 'description_va': 'Plaça de Tetuan', 'description_en': 'Tetuan Square', 'latitude': -0.3699372, 'longitude': 39.47417}, {'poi_id': 319, 'name': 'Carrer de la Pau', 'description_es': 'Calle de la Pau', 'description_va': 'Carrer de la Pau', 'description_en': 'Pau Street', 'latitude': -0.3705541, 'longitude': 39.472763}, {'poi_id': 322, 'name': 'Estació del Nord', 'description_es': 'Calle de Xàtiva, 24', 'description_va': 'Carrer de Xàtiva, 24', 'description_en': 'Xàtiva Street, 24', 'latitude': -0.3773669, 'longitude': 39.46721}, {'poi_id': 324, 'name': 'Col·legi dels Jesuïtes', 'description_es': 'Gran Vía Fernando el Católico, 78', 'description_va': 'Gran Via Ferran el Catòlic, 78', 'description_en': 'Grand Via Ferdinand the Catholic, 78', 'latitude': -0.388879, 'longitude': 39.47633}, {'poi_id': 326, 'name': 'Presó Model', 'description_es': 'Calle de la Democracia, 77', 'description_va': 'Carrer de la Democràcia, 77', 'description_en': 'Democracy Street, 77', 'latitude': -0.4040925, 'longitude': 39.47155}, {'poi_id': 328, 'name': 'Hospital de sang de Natzaret', 'description_es': 'Calle Mayor de Nazaret, 80', 'description_va': 'Carrer Major de Natzaret, 80', 'description_en': 'Main Street of Nazareth, 80', 'latitude': -0.3340263, 'longitude': 39.45091}, {'poi_id': 331, 'name': 'Hospital Sant Joan de Déu', 'description_es': 'Calle Riu Tajo, 1', 'description_va': 'Carrer Riu Tajo, 1', 'description_en': 'Riu Tajo Street, 1', 'latitude': -0.3309846, 'longitude': 39.47693}, {'poi_id': 307, 'name': 'Entorn del Palau de la Generalitat', 'description_es': 'Calle de Caballeros', 'description_va': 'Carrer de Cavallers', 'description_en': 'Street of Knights', 'latitude': -0.3768315, 'longitude': 39.476654}, {'poi_id': 309, 'name': 'Palau dels Borja', 'description_es': 'Plaza de Sant Llorenç, 3', 'description_va': 'Plaça de Sant Llorenç, 3', 'description_en': 'Sant Llorenç Square, 3', 'latitude': -0.3748249, 'longitude': 39.477745}, {'poi_id': 278, 'name': \"Edifici de l'Ajuntament\", 'description_es': 'Comité Ejecutivo Popular (gobierno municipal)Sede del Congreso de los DiputadosSede del II Congreso Internacional de EscritoresRefugio antiaéreoCuando València fue capital de la II República española (1936-1937), este edificio de la entonces Plaza de Emilio Castelar acogió la sede oficial de las Cortes republicanas. En mayo del 1937 patín serios daños narran uno de los más de 400 bombardeos franquistas sobre la ciudad durante la Guerra Civil (1936-1939). Dos meses después acogió el II Congreso Internacional de Escritores para la Defensa de la Cultura. Al sótano se conserva un refugio antiaéreo con capacidad para más de 700 personas. Plaza del Ayuntamiento, 1', 'description_va': \"\"\"Comitè Executiu Popular (govern municipal)\n",
    "Seu del Congrés dels Diputats\n",
    "Seu del II Congrés Internacional d’Escriptors\n",
    "Refugi antiaeri\n",
    "Quan València fou capital de la II República espanyola (1936-1937), aquest edifici de la llavors Plaça d’Emilio Castelar acollí la seu oficial de les Corts republicanes. Al maig del 1937 patí seriosos danys arran un dels més de 400 bombardejos franquistes sobre la ciutat durant la Guerra Civil (1936-1939). Dos mesos després acollí el II Congrés Internacional d’Escriptors per a la Defensa de la Cultura. Al soterrani es conserva un refugi antiaeri amb capacitat per a més de 700 persones.\n",
    "\n",
    "Plaça de l’Ajuntament, 1\"\"\", 'description_en': 'Popular Executive Committee (municipal government)Headquarters of the Congress of DeputiesHeadquarters of the II International Congress of WritersAir-raid shelterWhen Valencia was the capital of the II Spanish Republic (1936-1937), this building in what was then Plaza de Emilio Castelar housed the official headquarters of the republican courts. In May 1937 skid serious damagenone of the more than 400 Francoist bombardments of the city during the Civil War (1936-1939). Two months later it hosted the II International Congress of Writers for the Defense of Culture. In the basement there is an anti-aircraft shelter with a capacity for more than 700 people. Town Hall Square, 1', 'latitude': -0.3769713, 'longitude': 39.469757}, {'poi_id': 280, 'name': 'Torres de Serrans', 'description_es': 'Plaza de los Fueros', 'description_va': 'Plaça dels Furs, s/n', 'description_en': 'Plaza of the Fueros, s/', 'latitude': -0.3760527, 'longitude': 39.479164}, {'poi_id': 282, 'name': 'Refugi Dalt / Ripalda', 'description_es': 'Calle de Arriba, 33, esquina calle Ripalda', 'description_va': 'Carrer de Dalt, 33, cantonada carrer Ripalda', 'description_en': 'Calle de Arriba, 33, corner of Calle Ripalda', 'latitude': -0.3800812, 'longitude': 39.478252}, {'poi_id': 284, 'name': 'Palau del Marquès de Campo', 'description_es': 'Plaza del Arzobispo, 3', 'description_va': 'Plaça de l’Arquebisbe, 3', 'description_en': 'Archbishops Square, 3', 'latitude': -0.3739132, 'longitude': 39.475937}, {'poi_id': 286, 'name': 'Entorn del Palau de la Generalitat', 'description_es': 'Calle de Caballeros', 'description_va': 'Carrer de Cavallers', 'description_en': 'Street of Knights', 'latitude': -0.3768315, 'longitude': 39.476654}, {'poi_id': 288, 'name': 'Palau dels Borja', 'description_es': 'Plaza de Sant Llorenç, 3', 'description_va': 'Plaça de Sant Llorenç, 3', 'description_en': 'Sant Llorenç Square, 3', 'latitude': -0.3748249, 'longitude': 39.477745}, {'poi_id': 289, 'name': 'Sant Pius V - Trinitat', 'description_es': 'Calles de San Pío V, 9, y de la Trinidad, 13', 'description_va': 'Carrers de Sant Pius V, 9, i de la Trinitat, 13', 'description_en': 'Street of San Pio V, 9, and Trinidad, 13', 'latitude': -0.3715312, 'longitude': 39.47937}, {'poi_id': 291, 'name': 'Edifici del Monte de Piedad', 'description_es': 'Calle General Tovar, 3', 'description_va': 'Carrer General Tovar, 3', 'description_en': 'General Tovar Street, 3', 'latitude': -0.3700708, 'longitude': 39.473392}, {'poi_id': 293, 'name': 'Refugi Espada', 'description_es': 'Calle Espada, 22', 'description_va': 'Carrer Espada, 22', 'description_en': 'Sword Street, 22', 'latitude': -0.3701625, 'longitude': 39.4754}, {'poi_id': 295, 'name': 'Plaça de Tetuan', 'description_es': 'Plaza de Tetuán', 'description_va': 'Plaça de Tetuan', 'description_en': 'Tetuan Square', 'latitude': -0.3699372, 'longitude': 39.47417}, {'poi_id': 297, 'name': 'Carrer de la Pau', 'description_es': 'Calle de la Pau', 'description_va': 'Carrer de la Pau', 'description_en': 'Pau Street', 'latitude': -0.3705541, 'longitude': 39.472763}, {'poi_id': 299, 'name': 'Estació del Nord', 'description_es': 'Calle de Xàtiva, 24', 'description_va': 'Carrer de Xàtiva, 24', 'description_en': 'Xàtiva Street, 24', 'latitude': -0.3773669, 'longitude': 39.46721}, {'poi_id': 301, 'name': 'Col·legi dels Jesuïtes', 'description_es': 'Gran Vía Fernando el Católico, 78', 'description_va': 'Gran Via Ferran el Catòlic, 78', 'description_en': 'Grand Via Ferdinand the Catholic, 78', 'latitude': -0.388879, 'longitude': 39.47633}, {'poi_id': 302, 'name': 'Presó Model', 'description_es': 'Calle de la Democracia, 77', 'description_va': 'Carrer de la Democràcia, 77', 'description_en': 'Democracy Street, 77', 'latitude': -0.4040925, 'longitude': 39.47155}, {'poi_id': 304, 'name': 'Hospital de sang de Natzaret', 'description_es': 'Calle Mayor de Nazaret, 80', 'description_va': 'Carrer Major de Natzaret, 80', 'description_en': 'Main Street of Nazareth, 80', 'latitude': -0.3340263, 'longitude': 39.45091}, {'poi_id': 306, 'name': 'Hospital Sant Joan de Déu', 'description_es': 'Calle Riu Tajo, 1', 'description_va': 'Carrer Riu Tajo, 1', 'description_en': 'Riu Tajo Street, 1', 'latitude': -0.3309846, 'longitude': 39.47693}, {'poi_id': 311, 'name': 'Sant Pius V - Trinitat', 'description_es': 'Calles de San Pío V, 9, y de la Trinidad, 13', 'description_va': 'Carrers de Sant Pius V, 9, i de la Trinitat, 13', 'description_en': 'Street of San Pio V, 9, and Trinidad, 13', 'latitude': -0.3715312, 'longitude': 39.47937}, {'poi_id': 313, 'name': 'Edifici del Monte de Piedad', 'description_es': 'Calle General Tovar, 3', 'description_va': 'Carrer General Tovar, 3', 'description_en': 'General Tovar Street, 3', 'latitude': -0.3700708, 'longitude': 39.473392}, {'poi_id': 315, 'name': 'Refugi Espada', 'description_es': 'Calle Espada, 22', 'description_va': 'Carrer Espada, 22', 'description_en': 'Sword Street, 22', 'latitude': -0.3701625, 'longitude': 39.4754}, {'poi_id': 298, 'name': \"Edifici de l'Ajuntament\", 'description_es': 'Comité Ejecutivo Popular (gobierno municipal)Sede del Congreso de los DiputadosSede del II Congreso Internacional de EscritoresRefugio antiaéreoCuando València fue capital de la II República española (1936-1937), este edificio de la entonces Plaza de Emilio Castelar acogió la sede oficial de las Cortes republicanas. En mayo del 1937 patín serios daños narran uno de los más de 400 bombardeos franquistas sobre la ciudad durante la Guerra Civil (1936-1939). Dos meses después acogió el II Congreso Internacional de Escritores para la Defensa de la Cultura. Al sótano se conserva un refugio antiaéreo con capacidad para más de 700 personas. Plaza del Ayuntamiento, 1', 'description_va': \"\"\"Comitè Executiu Popular (govern municipal)\n",
    "Seu del Congrés dels Diputats\n",
    "Seu del II Congrés Internacional d’Escriptors\n",
    "Refugi antiaeri\n",
    "Quan València fou capital de la II República espanyola (1936-1937), aquest edifici de la llavors Plaça d’Emilio Castelar acollí la seu oficial de les Corts republicanes. Al maig del 1937 patí seriosos danys arran un dels més de 400 bombardejos franquistes sobre la ciutat durant la Guerra Civil (1936-1939). Dos mesos després acollí el II Congrés Internacional d’Escriptors per a la Defensa de la Cultura. Al soterrani es conserva un refugi antiaeri amb capacitat per a més de 700 persones.\n",
    "\n",
    "Plaça de l’Ajuntament, 1\"\"\", 'description_en': 'Popular Executive Committee (municipal government)Headquarters of the Congress of DeputiesHeadquarters of the II International Congress of WritersAir-raid shelterWhen Valencia was the capital of the II Spanish Republic (1936-1937), this building in what was then Plaza de Emilio Castelar housed the official headquarters of the republican courts. In May 1937 skid serious damagenone of the more than 400 Francoist bombardments of the city during the Civil War (1936-1939). Two months later it hosted the II International Congress of Writers for the Defense of Culture. In the basement there is an anti-aircraft shelter with a capacity for more than 700 people. Town Hall Square, 1', 'latitude': -0.3769713, 'longitude': 39.469757}, {'poi_id': 300, 'name': 'Torres de Serrans', 'description_es': 'Plaza de los Fueros', 'description_va': 'Plaça dels Furs, s/n', 'description_en': 'Plaza of the Fueros, s/', 'latitude': -0.3760527, 'longitude': 39.479164}, {'poi_id': 303, 'name': 'Refugi Dalt / Ripalda', 'description_es': 'Calle de Arriba, 33, esquina calle Ripalda', 'description_va': 'Carrer de Dalt, 33, cantonada carrer Ripalda', 'description_en': 'Calle de Arriba, 33, corner of Calle Ripalda', 'latitude': -0.3800812, 'longitude': 39.478252}, {'poi_id': 305, 'name': 'Palau del Marquès de Campo', 'description_es': 'Plaza del Arzobispo, 3', 'description_va': 'Plaça de l’Arquebisbe, 3', 'description_en': 'Archbishops Square, 3', 'latitude': -0.3739132, 'longitude': 39.475937}]}"
   ]
  },
  {
   "cell_type": "code",
   "execution_count": 39,
   "metadata": {},
   "outputs": [
    {
     "name": "stdout",
     "output_type": "stream",
     "text": [
      "24\n",
      "Entre Naranjos\n",
      "baja\n",
      "https://cultural.valencia.es/wp-content/uploads/2018/07/entre-naranjos-1-wpcf_199x300.jpg\n",
      "105.0\n",
      "Estación de Tren\n",
      "Alameda\n",
      "peu\n",
      "Literària\n",
      "https://cultural.valencia.es/es/ruta/entre-naranjos/\n",
      "Ateniéndonos al narrado en la novela Entre *naranjos, se traza una ruta donde se sitúan los espacios por los cuales transitó el protagonista *alcireny del relato en su breve estancia en la ciudad antes de emprender una fuga amorosa con la bella cantante de ópera *Leonora. En concreto, partiendo desde la esquina de la calle *Lauria con la plaza del Ayuntamiento, se sigue hasta el lugar donde estuvo el desaparecido Café de España. Por la calle de las Barcas se llega hasta el Teatro Principal, y desde allí al Hotel Inglés (antaño de Roma), informando sobre la plaza de *Villarrasa y el palacio del Marqués de Dos Aguas. Después, se accede en la Universidad Literaria desde la calle de la Nave, para marchar a continuación al Parterre, cruzando después por el puente del Real hasta desembocar en la Alameda. Si bien la historia narrada en Entre *naranjos transcurre, fundamentalmente, en un ámbito rural que condiciona de manera decisiva la peripecia amorosa de los protagonistas y sirve al autor para denunciar las maneras del caciquismo y la política local, el desplazamiento de los personajes hasta València permite materializar un interesante itinerario.\n",
      "\n",
      "Atenint-nos al narrat en la novel·la Entre naranjos, es traça una ruta on se situen els espais pels quals va transitar el protagonista alcireny del relat en la seua breu estada en la ciutat abans d’emprendre una fugida amorosa amb la bella cantant d’òpera Leonora. En concret, partint des de la cantonada del carrer Lauria amb la plaça de l’Ajuntament, se segueix fins al lloc on va estar el desaparegut Café de España. Per el carrer de les Barques s’arriba fins al Teatre Principal, i des d’allí a l’Hotel Inglés (antany de Roma), informant sobre la plaça de Villarrasa i el palau del Marquès de Dosaigües. Després, s’accedeix a la Universitat Literària des del carrer de la Nau, per a marxar a continuació al Parterre, creuant després pel pont del Real fins a desembocar en l’Albereda.Si bé la història narrada en Entre naranjos transcorre, fonamentalment, en un àmbit rural que condiciona de manera decisiva la peripècia amorosa dels protagonistes i servix a l’autor per a denunciar les maneres del caciquisme i la política local, el desplaçament dels personatges fins a València permet materialitzar un interessant itinerari.\n",
      "\n",
      "Attening to the narrated one in the novel Between *naranjos, a route is traced where the spaces are located by which the protagonist *alcireny of the story transited in his brief stay in the city before undertaking an amorous escape with the beautiful singer of opera *Leonora. Specifically, starting from the corner of the street *Lauria with the square of the Town hall, one continues up to the place where the disappeared Café de España was. By the street of the Barcas one arrives until the Principal Theater, and from there to the English Hotel (formerly of Rome), reporting on the square of *Villarrasa and the palace of the Marqués de Dos Aguas. Afterwards, one enters the Literary University from the street of the Nave, to march next to the Parterre, crossing later by the bridge of the Real until flowing into the Alameda. Although the story narrated in Entre *naranjos takes place, fundamentally, in a rural environment that conditions in a decisive way the amorous vicissitude of the protagonists and serves to the author to denounce the ways of the caciquismo and the local politics, the displacement of the characters until València allows to materialize an interesting itinerary.\n"
     ]
    }
   ],
   "source": [
    "print(route_24['route_id'])\n",
    "print(route_24['name'])\n",
    "print(route_24['difficulty'])\n",
    "print(route_24['image'])\n",
    "print(route_24['duration'])\n",
    "print(route_24['startingPoint'])\n",
    "print(route_24['endingPoint'])\n",
    "print(route_24['transport'])\n",
    "print(route_24['type'])\n",
    "print(route_24['url'])\n",
    "print(route_24['description_es'])\n",
    "print()\n",
    "print(route_24['description_va'])\n",
    "print()\n",
    "print(route_24['description_en'])"
   ]
  },
  {
   "cell_type": "code",
   "execution_count": 40,
   "metadata": {},
   "outputs": [
    {
     "name": "stdout",
     "output_type": "stream",
     "text": [
      "32\n"
     ]
    }
   ],
   "source": [
    "print(len(route_24['poi']))"
   ]
  },
  {
   "cell_type": "code",
   "execution_count": 41,
   "metadata": {},
   "outputs": [
    {
     "name": "stdout",
     "output_type": "stream",
     "text": [
      "{'poi_id': 319, 'name': 'Carrer de la Pau', 'description_es': 'Calle de la Pau', 'description_va': 'Carrer de la Pau', 'description_en': 'Pau Street', 'latitude': -0.3705541, 'longitude': 39.472763}\n"
     ]
    }
   ],
   "source": [
    "print(route_24['poi'][1])"
   ]
  }
 ],
 "metadata": {
  "kernelspec": {
   "display_name": "Python 3.8.13 ('desafio')",
   "language": "python",
   "name": "python3"
  },
  "language_info": {
   "codemirror_mode": {
    "name": "ipython",
    "version": 3
   },
   "file_extension": ".py",
   "mimetype": "text/x-python",
   "name": "python",
   "nbconvert_exporter": "python",
   "pygments_lexer": "ipython3",
   "version": "3.8.13"
  },
  "orig_nbformat": 4,
  "vscode": {
   "interpreter": {
    "hash": "5d04af2a4c2eebf185407e64277cc7655766a357171489808da903e927244626"
   }
  }
 },
 "nbformat": 4,
 "nbformat_minor": 2
}
