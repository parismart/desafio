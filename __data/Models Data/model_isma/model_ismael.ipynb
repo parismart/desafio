{
 "cells": [
  {
   "cell_type": "code",
   "execution_count": 83,
   "metadata": {},
   "outputs": [],
   "source": [
    "import pandas as pd\n",
    "import numpy as np\n",
    "import seaborn as sns\n",
    "from matplotlib import pyplot as plt\n",
    "\n",
    "from sklearn.ensemble import RandomForestClassifier\n",
    "from sklearn.inspection import plot_partial_dependence, permutation_importance\n",
    "from sklearn.metrics import confusion_matrix, accuracy_score\n",
    "from sklearn.model_selection import train_test_split\n",
    "from sklearn.impute import SimpleImputer"
   ]
  },
  {
   "cell_type": "code",
   "execution_count": 84,
   "metadata": {},
   "outputs": [],
   "source": [
    "df = pd.read_csv('fake_users_data.csv', index_col=0)"
   ]
  },
  {
   "cell_type": "code",
   "execution_count": 85,
   "metadata": {},
   "outputs": [],
   "source": [
    "#df = df.loc[df.route_id != 'No hay ruta', :]"
   ]
  },
  {
   "cell_type": "code",
   "execution_count": 86,
   "metadata": {},
   "outputs": [],
   "source": [
    "df['age'] = SimpleImputer(strategy='mode')"
   ]
  },
  {
   "cell_type": "code",
   "execution_count": 87,
   "metadata": {},
   "outputs": [],
   "source": [
    "df = pd.get_dummies(df, prefix=['age', 'gender', 'type', 'diff', 'comp', 'trans'], columns=['age', 'gender', 'type_route', 'difficulty','accompaniment', 'transport'])"
   ]
  },
  {
   "cell_type": "code",
   "execution_count": 88,
   "metadata": {},
   "outputs": [],
   "source": [
    "def mapping(x):\n",
    "    if x == 'Gratis':\n",
    "        return 1\n",
    "    elif x == '1-50 Euros':\n",
    "        return 2\n",
    "    elif x == '+50 Euros':\n",
    "        return 3\n",
    "    else:\n",
    "        return 9999\n",
    "\n",
    "df['price'] = df['price'].apply(mapping)"
   ]
  },
  {
   "cell_type": "code",
   "execution_count": 89,
   "metadata": {},
   "outputs": [],
   "source": [
    "#df['time'] =  df.time.str.replace(' ','').str.replace('horas','').str.split('-')"
   ]
  },
  {
   "cell_type": "code",
   "execution_count": 90,
   "metadata": {},
   "outputs": [],
   "source": [
    "#df['time'] = df.time.map(lambda x: ( ( int(x[0]) + int(x[1]) )/ 2))\n"
   ]
  },
  {
   "cell_type": "code",
   "execution_count": 91,
   "metadata": {},
   "outputs": [
    {
     "data": {
      "text/html": [
       "<div>\n",
       "<style scoped>\n",
       "    .dataframe tbody tr th:only-of-type {\n",
       "        vertical-align: middle;\n",
       "    }\n",
       "\n",
       "    .dataframe tbody tr th {\n",
       "        vertical-align: top;\n",
       "    }\n",
       "\n",
       "    .dataframe thead th {\n",
       "        text-align: right;\n",
       "    }\n",
       "</style>\n",
       "<table border=\"1\" class=\"dataframe\">\n",
       "  <thead>\n",
       "    <tr style=\"text-align: right;\">\n",
       "      <th></th>\n",
       "      <th>time</th>\n",
       "      <th>price</th>\n",
       "      <th>route_id</th>\n",
       "      <th>age_SimpleImputer(strategy='mode')</th>\n",
       "      <th>gender_Hombre</th>\n",
       "      <th>gender_Mujer</th>\n",
       "      <th>gender_Prefiero no decirlo</th>\n",
       "      <th>type_Historica</th>\n",
       "      <th>type_Literaria</th>\n",
       "      <th>type_Patrimonio</th>\n",
       "      <th>type_Turistica</th>\n",
       "      <th>diff_Alta</th>\n",
       "      <th>diff_Baja</th>\n",
       "      <th>comp_Amigos</th>\n",
       "      <th>comp_Familia</th>\n",
       "      <th>comp_Pareja</th>\n",
       "      <th>comp_Solo</th>\n",
       "      <th>trans_Bicicleta</th>\n",
       "      <th>trans_Pie</th>\n",
       "    </tr>\n",
       "  </thead>\n",
       "  <tbody>\n",
       "    <tr>\n",
       "      <th>0</th>\n",
       "      <td>3.5</td>\n",
       "      <td>1</td>\n",
       "      <td>Contes Blasco Ibañez – Ruta 1</td>\n",
       "      <td>1</td>\n",
       "      <td>1</td>\n",
       "      <td>0</td>\n",
       "      <td>0</td>\n",
       "      <td>0</td>\n",
       "      <td>1</td>\n",
       "      <td>0</td>\n",
       "      <td>0</td>\n",
       "      <td>0</td>\n",
       "      <td>1</td>\n",
       "      <td>0</td>\n",
       "      <td>0</td>\n",
       "      <td>1</td>\n",
       "      <td>0</td>\n",
       "      <td>0</td>\n",
       "      <td>1</td>\n",
       "    </tr>\n",
       "    <tr>\n",
       "      <th>1</th>\n",
       "      <td>1.5</td>\n",
       "      <td>3</td>\n",
       "      <td>Trinitat - L'Almodí</td>\n",
       "      <td>1</td>\n",
       "      <td>1</td>\n",
       "      <td>0</td>\n",
       "      <td>0</td>\n",
       "      <td>1</td>\n",
       "      <td>0</td>\n",
       "      <td>0</td>\n",
       "      <td>0</td>\n",
       "      <td>1</td>\n",
       "      <td>0</td>\n",
       "      <td>1</td>\n",
       "      <td>0</td>\n",
       "      <td>0</td>\n",
       "      <td>0</td>\n",
       "      <td>0</td>\n",
       "      <td>1</td>\n",
       "    </tr>\n",
       "    <tr>\n",
       "      <th>2</th>\n",
       "      <td>3.5</td>\n",
       "      <td>3</td>\n",
       "      <td>Glorieta-Santa Catalina</td>\n",
       "      <td>1</td>\n",
       "      <td>0</td>\n",
       "      <td>0</td>\n",
       "      <td>1</td>\n",
       "      <td>0</td>\n",
       "      <td>0</td>\n",
       "      <td>1</td>\n",
       "      <td>0</td>\n",
       "      <td>1</td>\n",
       "      <td>0</td>\n",
       "      <td>1</td>\n",
       "      <td>0</td>\n",
       "      <td>0</td>\n",
       "      <td>0</td>\n",
       "      <td>1</td>\n",
       "      <td>0</td>\n",
       "    </tr>\n",
       "    <tr>\n",
       "      <th>3</th>\n",
       "      <td>5.5</td>\n",
       "      <td>1</td>\n",
       "      <td>Glorieta-Santa Catalina</td>\n",
       "      <td>1</td>\n",
       "      <td>0</td>\n",
       "      <td>0</td>\n",
       "      <td>1</td>\n",
       "      <td>0</td>\n",
       "      <td>0</td>\n",
       "      <td>1</td>\n",
       "      <td>0</td>\n",
       "      <td>1</td>\n",
       "      <td>0</td>\n",
       "      <td>1</td>\n",
       "      <td>0</td>\n",
       "      <td>0</td>\n",
       "      <td>0</td>\n",
       "      <td>1</td>\n",
       "      <td>0</td>\n",
       "    </tr>\n",
       "    <tr>\n",
       "      <th>4</th>\n",
       "      <td>3.5</td>\n",
       "      <td>3</td>\n",
       "      <td>Ruta dels Pecats a l'entorn del Mercat Central</td>\n",
       "      <td>1</td>\n",
       "      <td>1</td>\n",
       "      <td>0</td>\n",
       "      <td>0</td>\n",
       "      <td>1</td>\n",
       "      <td>0</td>\n",
       "      <td>0</td>\n",
       "      <td>0</td>\n",
       "      <td>0</td>\n",
       "      <td>1</td>\n",
       "      <td>0</td>\n",
       "      <td>0</td>\n",
       "      <td>1</td>\n",
       "      <td>0</td>\n",
       "      <td>1</td>\n",
       "      <td>0</td>\n",
       "    </tr>\n",
       "    <tr>\n",
       "      <th>...</th>\n",
       "      <td>...</td>\n",
       "      <td>...</td>\n",
       "      <td>...</td>\n",
       "      <td>...</td>\n",
       "      <td>...</td>\n",
       "      <td>...</td>\n",
       "      <td>...</td>\n",
       "      <td>...</td>\n",
       "      <td>...</td>\n",
       "      <td>...</td>\n",
       "      <td>...</td>\n",
       "      <td>...</td>\n",
       "      <td>...</td>\n",
       "      <td>...</td>\n",
       "      <td>...</td>\n",
       "      <td>...</td>\n",
       "      <td>...</td>\n",
       "      <td>...</td>\n",
       "      <td>...</td>\n",
       "    </tr>\n",
       "    <tr>\n",
       "      <th>29995</th>\n",
       "      <td>5.5</td>\n",
       "      <td>3</td>\n",
       "      <td>Ruta València amb bicicleta</td>\n",
       "      <td>1</td>\n",
       "      <td>1</td>\n",
       "      <td>0</td>\n",
       "      <td>0</td>\n",
       "      <td>0</td>\n",
       "      <td>1</td>\n",
       "      <td>0</td>\n",
       "      <td>0</td>\n",
       "      <td>1</td>\n",
       "      <td>0</td>\n",
       "      <td>0</td>\n",
       "      <td>0</td>\n",
       "      <td>1</td>\n",
       "      <td>0</td>\n",
       "      <td>1</td>\n",
       "      <td>0</td>\n",
       "    </tr>\n",
       "    <tr>\n",
       "      <th>29996</th>\n",
       "      <td>3.5</td>\n",
       "      <td>2</td>\n",
       "      <td>Ruta dels Pecats a l'entorn del Mercat Central</td>\n",
       "      <td>1</td>\n",
       "      <td>0</td>\n",
       "      <td>0</td>\n",
       "      <td>1</td>\n",
       "      <td>1</td>\n",
       "      <td>0</td>\n",
       "      <td>0</td>\n",
       "      <td>0</td>\n",
       "      <td>0</td>\n",
       "      <td>1</td>\n",
       "      <td>0</td>\n",
       "      <td>1</td>\n",
       "      <td>0</td>\n",
       "      <td>0</td>\n",
       "      <td>1</td>\n",
       "      <td>0</td>\n",
       "    </tr>\n",
       "    <tr>\n",
       "      <th>29997</th>\n",
       "      <td>3.5</td>\n",
       "      <td>3</td>\n",
       "      <td>Trinitat - L'Almodí</td>\n",
       "      <td>1</td>\n",
       "      <td>1</td>\n",
       "      <td>0</td>\n",
       "      <td>0</td>\n",
       "      <td>0</td>\n",
       "      <td>0</td>\n",
       "      <td>0</td>\n",
       "      <td>1</td>\n",
       "      <td>1</td>\n",
       "      <td>0</td>\n",
       "      <td>0</td>\n",
       "      <td>0</td>\n",
       "      <td>1</td>\n",
       "      <td>0</td>\n",
       "      <td>0</td>\n",
       "      <td>1</td>\n",
       "    </tr>\n",
       "    <tr>\n",
       "      <th>29998</th>\n",
       "      <td>3.5</td>\n",
       "      <td>1</td>\n",
       "      <td>Glorieta-Santa Catalina</td>\n",
       "      <td>1</td>\n",
       "      <td>1</td>\n",
       "      <td>0</td>\n",
       "      <td>0</td>\n",
       "      <td>0</td>\n",
       "      <td>0</td>\n",
       "      <td>1</td>\n",
       "      <td>0</td>\n",
       "      <td>1</td>\n",
       "      <td>0</td>\n",
       "      <td>0</td>\n",
       "      <td>0</td>\n",
       "      <td>0</td>\n",
       "      <td>1</td>\n",
       "      <td>1</td>\n",
       "      <td>0</td>\n",
       "    </tr>\n",
       "    <tr>\n",
       "      <th>29999</th>\n",
       "      <td>5.5</td>\n",
       "      <td>3</td>\n",
       "      <td>Ruta Cultural Anell Ciclista</td>\n",
       "      <td>1</td>\n",
       "      <td>1</td>\n",
       "      <td>0</td>\n",
       "      <td>0</td>\n",
       "      <td>0</td>\n",
       "      <td>1</td>\n",
       "      <td>0</td>\n",
       "      <td>0</td>\n",
       "      <td>0</td>\n",
       "      <td>1</td>\n",
       "      <td>0</td>\n",
       "      <td>0</td>\n",
       "      <td>0</td>\n",
       "      <td>1</td>\n",
       "      <td>1</td>\n",
       "      <td>0</td>\n",
       "    </tr>\n",
       "  </tbody>\n",
       "</table>\n",
       "<p>30000 rows × 19 columns</p>\n",
       "</div>"
      ],
      "text/plain": [
       "       time  price                                        route_id  \\\n",
       "0       3.5      1                   Contes Blasco Ibañez – Ruta 1   \n",
       "1       1.5      3                             Trinitat - L'Almodí   \n",
       "2       3.5      3                         Glorieta-Santa Catalina   \n",
       "3       5.5      1                         Glorieta-Santa Catalina   \n",
       "4       3.5      3  Ruta dels Pecats a l'entorn del Mercat Central   \n",
       "...     ...    ...                                             ...   \n",
       "29995   5.5      3                     Ruta València amb bicicleta   \n",
       "29996   3.5      2  Ruta dels Pecats a l'entorn del Mercat Central   \n",
       "29997   3.5      3                             Trinitat - L'Almodí   \n",
       "29998   3.5      1                         Glorieta-Santa Catalina   \n",
       "29999   5.5      3                    Ruta Cultural Anell Ciclista   \n",
       "\n",
       "       age_SimpleImputer(strategy='mode')  gender_Hombre  gender_Mujer  \\\n",
       "0                                       1              1             0   \n",
       "1                                       1              1             0   \n",
       "2                                       1              0             0   \n",
       "3                                       1              0             0   \n",
       "4                                       1              1             0   \n",
       "...                                   ...            ...           ...   \n",
       "29995                                   1              1             0   \n",
       "29996                                   1              0             0   \n",
       "29997                                   1              1             0   \n",
       "29998                                   1              1             0   \n",
       "29999                                   1              1             0   \n",
       "\n",
       "       gender_Prefiero no decirlo  type_Historica  type_Literaria  \\\n",
       "0                               0               0               1   \n",
       "1                               0               1               0   \n",
       "2                               1               0               0   \n",
       "3                               1               0               0   \n",
       "4                               0               1               0   \n",
       "...                           ...             ...             ...   \n",
       "29995                           0               0               1   \n",
       "29996                           1               1               0   \n",
       "29997                           0               0               0   \n",
       "29998                           0               0               0   \n",
       "29999                           0               0               1   \n",
       "\n",
       "       type_Patrimonio  type_Turistica  diff_Alta  diff_Baja  comp_Amigos  \\\n",
       "0                    0               0          0          1            0   \n",
       "1                    0               0          1          0            1   \n",
       "2                    1               0          1          0            1   \n",
       "3                    1               0          1          0            1   \n",
       "4                    0               0          0          1            0   \n",
       "...                ...             ...        ...        ...          ...   \n",
       "29995                0               0          1          0            0   \n",
       "29996                0               0          0          1            0   \n",
       "29997                0               1          1          0            0   \n",
       "29998                1               0          1          0            0   \n",
       "29999                0               0          0          1            0   \n",
       "\n",
       "       comp_Familia  comp_Pareja  comp_Solo  trans_Bicicleta  trans_Pie  \n",
       "0                 0            1          0                0          1  \n",
       "1                 0            0          0                0          1  \n",
       "2                 0            0          0                1          0  \n",
       "3                 0            0          0                1          0  \n",
       "4                 0            1          0                1          0  \n",
       "...             ...          ...        ...              ...        ...  \n",
       "29995             0            1          0                1          0  \n",
       "29996             1            0          0                1          0  \n",
       "29997             0            1          0                0          1  \n",
       "29998             0            0          1                1          0  \n",
       "29999             0            0          1                1          0  \n",
       "\n",
       "[30000 rows x 19 columns]"
      ]
     },
     "execution_count": 91,
     "metadata": {},
     "output_type": "execute_result"
    }
   ],
   "source": [
    "df"
   ]
  },
  {
   "cell_type": "code",
   "execution_count": 92,
   "metadata": {},
   "outputs": [],
   "source": [
    "df.to_csv('isma_synthetic_data.csv')"
   ]
  },
  {
   "cell_type": "code",
   "execution_count": 93,
   "metadata": {},
   "outputs": [],
   "source": [
    "#df = df.drop('routes', axis=1)"
   ]
  },
  {
   "cell_type": "markdown",
   "metadata": {},
   "source": [
    "# DATA PREPARATION"
   ]
  },
  {
   "cell_type": "code",
   "execution_count": 94,
   "metadata": {},
   "outputs": [],
   "source": [
    "X = df.drop(columns=['route_id'], axis=1)\n",
    "y = df[['route_id']]"
   ]
  },
  {
   "cell_type": "code",
   "execution_count": 95,
   "metadata": {},
   "outputs": [],
   "source": [
    "X_train, X_test, y_train, y_test = train_test_split(X, y, test_size=0.2, random_state=42)"
   ]
  },
  {
   "cell_type": "code",
   "execution_count": 96,
   "metadata": {},
   "outputs": [
    {
     "name": "stderr",
     "output_type": "stream",
     "text": [
      "C:\\Users\\Usuario\\AppData\\Local\\Temp\\ipykernel_8164\\2477965460.py:4: DataConversionWarning: A column-vector y was passed when a 1d array was expected. Please change the shape of y to (n_samples,), for example using ravel().\n",
      "  rnd_clf.fit(X_train, y_train)\n"
     ]
    }
   ],
   "source": [
    "rnd_clf = RandomForestClassifier(n_estimators=500,\n",
    "                                 max_leaf_nodes=16,\n",
    "                                 random_state=42)\n",
    "rnd_clf.fit(X_train, y_train)\n",
    "\n",
    "y_pred_rf = rnd_clf.predict(X_test)"
   ]
  },
  {
   "cell_type": "code",
   "execution_count": 97,
   "metadata": {},
   "outputs": [
    {
     "data": {
      "text/plain": [
       "0.5121666666666667"
      ]
     },
     "execution_count": 97,
     "metadata": {},
     "output_type": "execute_result"
    }
   ],
   "source": [
    "accuracy_score(y_test, y_pred_rf)"
   ]
  },
  {
   "cell_type": "code",
   "execution_count": 98,
   "metadata": {},
   "outputs": [
    {
     "data": {
      "text/plain": [
       "<AxesSubplot:>"
      ]
     },
     "execution_count": 98,
     "metadata": {},
     "output_type": "execute_result"
    },
    {
     "data": {
      "image/png": "[encoded data removed]",
      "text/plain": [
       "<Figure size 1440x1440 with 2 Axes>"
      ]
     },
     "metadata": {
      "needs_background": "light"
     },
     "output_type": "display_data"
    }
   ],
   "source": [
    "plt.figure(figsize=(20,20))\n",
    "sns.heatmap(confusion_matrix(y_test, y_pred_rf), annot=True)"
   ]
  },
  {
   "cell_type": "code",
   "execution_count": 99,
   "metadata": {},
   "outputs": [
    {
     "data": {
      "text/plain": [
       "array(['time', 'price', \"age_SimpleImputer(strategy='mode')\",\n",
       "       'gender_Hombre', 'gender_Mujer', 'gender_Prefiero no decirlo',\n",
       "       'type_Historica', 'type_Literaria', 'type_Patrimonio',\n",
       "       'type_Turistica', 'diff_Alta', 'diff_Baja', 'comp_Amigos',\n",
       "       'comp_Familia', 'comp_Pareja', 'comp_Solo', 'trans_Bicicleta',\n",
       "       'trans_Pie'], dtype=object)"
      ]
     },
     "execution_count": 99,
     "metadata": {},
     "output_type": "execute_result"
    }
   ],
   "source": [
    "rnd_clf.feature_names_in_"
   ]
  },
  {
   "cell_type": "code",
   "execution_count": 100,
   "metadata": {},
   "outputs": [
    {
     "data": {
      "text/plain": [
       "array([3.64051573e-02, 5.80140021e-04, 0.00000000e+00, 3.03237018e-04,\n",
       "       1.97352843e-04, 1.82314287e-04, 1.33848634e-01, 8.18357779e-02,\n",
       "       8.14215290e-02, 1.23158555e-01, 2.67350499e-01, 2.29512240e-01,\n",
       "       1.75528033e-04, 2.89051453e-04, 2.34046814e-04, 2.53461396e-04,\n",
       "       2.23676524e-02, 2.18848248e-02])"
      ]
     },
     "execution_count": 100,
     "metadata": {},
     "output_type": "execute_result"
    }
   ],
   "source": [
    "rnd_clf.feature_importances_"
   ]
  },
  {
   "cell_type": "code",
   "execution_count": 101,
   "metadata": {},
   "outputs": [],
   "source": [
    "import pickle\n",
    "\n",
    "# Guardar modelo\n",
    "\n",
    "filename = 'finished_model'\n",
    "\n",
    "with open(filename, 'wb') as archivo_salida:\n",
    "    pickle.dump(rnd_clf, archivo_salida)"
   ]
  }
 ],
 "metadata": {
  "kernelspec": {
   "display_name": "Python 3.8.13 ('Desafio')",
   "language": "python",
   "name": "python3"
  },
  "language_info": {
   "codemirror_mode": {
    "name": "ipython",
    "version": 3
   },
   "file_extension": ".py",
   "mimetype": "text/x-python",
   "name": "python",
   "nbconvert_exporter": "python",
   "pygments_lexer": "ipython3",
   "version": "3.8.13"
  },
  "orig_nbformat": 4,
  "vscode": {
   "interpreter": {
    "hash": "6f859f9c55cc19213dc1deb62dbf10845fa2b4fff4d235bd7e0ca5725c038bb1"
   }
  }
 },
 "nbformat": 4,
 "nbformat_minor": 2
}
