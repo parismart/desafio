{
 "cells": [
  {
   "cell_type": "code",
   "execution_count": 230,
   "metadata": {},
   "outputs": [],
   "source": [
    "import pandas as pd\n",
    "import os\n",
    "import datetime as dt\n",
    "import numpy as np"
   ]
  },
  {
   "cell_type": "code",
   "execution_count": 231,
   "metadata": {},
   "outputs": [
    {
     "data": {
      "text/plain": [
       "['isma_synthetic_data.csv', 'model_ismael.ipynb', 'reetiquetado.ipynb']"
      ]
     },
     "execution_count": 231,
     "metadata": {},
     "output_type": "execute_result"
    }
   ],
   "source": [
    "os.listdir()"
   ]
  },
  {
   "cell_type": "code",
   "execution_count": 232,
   "metadata": {},
   "outputs": [],
   "source": [
    "df = pd.read_csv('../data/Survey _Rutas.csv')"
   ]
  },
  {
   "cell_type": "code",
   "execution_count": 233,
   "metadata": {},
   "outputs": [],
   "source": [
    "df = df.rename({'Edad\\r\\n':'edad', \n",
    "            '¿De cuánto tiempo dispones para realizar la ruta?':'time', \n",
    "            'Tipo de ruta preferida':'type_route', \n",
    "            'Coste dispuesto a pagar':'cost',\n",
    "            'Selecciona las rutas de tu interés':'routes1',\n",
    "            'Selecciona la ruta a pie de dificultad alta de tu interés': 'routes_alta_pie',\n",
    "            'Selecciona la ruta a pie de dificultad baja de tu interés': 'routes_baja_pie',\n",
    "            'Selecciona la ruta en bici de tu interés':'routes_bici',\n",
    "            'Submitted At': 'submmit'}, axis=1)"
   ]
  },
  {
   "cell_type": "code",
   "execution_count": 234,
   "metadata": {},
   "outputs": [],
   "source": [
    "df['submmit'] = pd.to_datetime(df['submmit'])"
   ]
  },
  {
   "cell_type": "code",
   "execution_count": 235,
   "metadata": {},
   "outputs": [],
   "source": [
    "df['Transporte'] = df.Transporte.str.replace('A','')"
   ]
  },
  {
   "cell_type": "code",
   "execution_count": 236,
   "metadata": {},
   "outputs": [],
   "source": [
    "df_1 = df.loc[df.routes1.isnull() == False, :].reset_index(drop='index')"
   ]
  },
  {
   "cell_type": "code",
   "execution_count": 237,
   "metadata": {},
   "outputs": [
    {
     "data": {
      "text/plain": [
       "2     Arbres monumentals i singulars, Arbres: La vol...\n",
       "4                          Ruta Cultural Anell Ciclista\n",
       "11    Arbres monumentals i singulars, Ruta dels Peca...\n",
       "13                      Ruta Carrer Russafa - la Llotja\n",
       "15    Torres de Quart - Temple, Ruta dels Pecats a l...\n",
       "18                           Ruta València en bicicleta\n",
       "19                          Ruta Valencia en la Memòria\n",
       "20    Ruta Valencia en la Memòria, Arbres monumental...\n",
       "21    Arbres: Els indians, Arbres monumentals i sing...\n",
       "24    Arbres monumentals i singulars, Arbres: Un pas...\n",
       "28    Ruta de la Seda, Ruta pel Centre Històric, Rut...\n",
       "33    Arbres: La volta al món, Ruta de la Seda, Ruta...\n",
       "34    Glorieta-Santa Catalina, Entre Naranjos, Arbre...\n",
       "38                          Ruta Valencia en la Memòria\n",
       "40                         Ruta Cultural Anell Ciclista\n",
       "41                              Arbres: La volta al món\n",
       "43                          Ruta Valencia en la Memòria\n",
       "49                          Ruta Valencia en la Memòria\n",
       "51                       Arbres monumentals i singulars\n",
       "54                              Arbres: La volta al món\n",
       "Name: routes1, dtype: object"
      ]
     },
     "execution_count": 237,
     "metadata": {},
     "output_type": "execute_result"
    }
   ],
   "source": [
    "df_1.loc[df_1.Transporte == 'Bicicleta', 'routes1']"
   ]
  },
  {
   "cell_type": "code",
   "execution_count": 238,
   "metadata": {},
   "outputs": [],
   "source": [
    "df_1.loc[2, 'routes1'] = 'Arbres monumentals i singulars'"
   ]
  },
  {
   "cell_type": "code",
   "execution_count": 239,
   "metadata": {},
   "outputs": [],
   "source": [
    "df_1.loc[11, 'routes1'] = 'Arbres monumentals i singulars'"
   ]
  },
  {
   "cell_type": "code",
   "execution_count": 240,
   "metadata": {},
   "outputs": [],
   "source": [
    "df_1.loc[13, 'routes1'] = 'Ruta Cultural Anell Ciclista'"
   ]
  },
  {
   "cell_type": "code",
   "execution_count": 241,
   "metadata": {},
   "outputs": [],
   "source": [
    "df_1.loc[15, 'routes1'] = 'Arbres monumentals i singulars'"
   ]
  },
  {
   "cell_type": "code",
   "execution_count": 242,
   "metadata": {},
   "outputs": [],
   "source": [
    "df_1.loc[19, 'routes1'] = 'Ruta València en bicicleta'"
   ]
  },
  {
   "cell_type": "code",
   "execution_count": 243,
   "metadata": {},
   "outputs": [],
   "source": [
    "df_1.loc[20, 'routes1'] = 'Arbres monumentals i singulars'"
   ]
  },
  {
   "cell_type": "code",
   "execution_count": 244,
   "metadata": {},
   "outputs": [],
   "source": [
    "df_1.loc[21, 'routes1'] = 'Arbres monumentals i singulars'"
   ]
  },
  {
   "cell_type": "code",
   "execution_count": 245,
   "metadata": {},
   "outputs": [],
   "source": [
    "df_1.loc[24, 'routes1'] = 'Arbres monumentals i singulars'"
   ]
  },
  {
   "cell_type": "code",
   "execution_count": 246,
   "metadata": {},
   "outputs": [],
   "source": [
    "df_1.loc[28, 'routes1'] = 'Ruta València en bicicleta'"
   ]
  },
  {
   "cell_type": "code",
   "execution_count": 247,
   "metadata": {},
   "outputs": [],
   "source": [
    "df_1.loc[33, 'routes1'] = 'Ruta València en bicicleta'"
   ]
  },
  {
   "cell_type": "code",
   "execution_count": 248,
   "metadata": {},
   "outputs": [],
   "source": [
    "df_1.loc[34, 'routes1'] = 'Arbres monumentals i singulars'"
   ]
  },
  {
   "cell_type": "code",
   "execution_count": 249,
   "metadata": {},
   "outputs": [],
   "source": [
    "df_1.loc[38, 'routes1'] = 'Ruta Cultural Anell Ciclista'"
   ]
  },
  {
   "cell_type": "code",
   "execution_count": 250,
   "metadata": {},
   "outputs": [],
   "source": [
    "df_1.loc[41, 'routes1'] = 'Ruta Cultural Anell Ciclista'"
   ]
  },
  {
   "cell_type": "code",
   "execution_count": 251,
   "metadata": {},
   "outputs": [],
   "source": [
    "df_1.loc[43, 'routes1'] = 'Ruta Cultural Anell Ciclista'"
   ]
  },
  {
   "cell_type": "code",
   "execution_count": 252,
   "metadata": {},
   "outputs": [],
   "source": [
    "df_1.loc[49, 'routes1'] = 'Ruta Cultural Anell Ciclista'"
   ]
  },
  {
   "cell_type": "code",
   "execution_count": 253,
   "metadata": {},
   "outputs": [],
   "source": [
    "df_1.loc[51, 'routes1'] = 'Arbres monumentals i singulars'"
   ]
  },
  {
   "cell_type": "code",
   "execution_count": 254,
   "metadata": {},
   "outputs": [
    {
     "data": {
      "text/plain": [
       "1                                   Trinitat - L'Almodí\n",
       "7                          Jardins del Reial - Glorieta\n",
       "17    Ruta pel Centre Històric, Jardins del Reial - ...\n",
       "22    Jardins del Reial - Glorieta, Glorieta-Santa C...\n",
       "26    Ruta Carrer Russafa - la Llotja, Glorieta-Sant...\n",
       "30    Ruta Carrer Russafa - la Llotja, La barraca, R...\n",
       "31    Ruta Valencia en la Memòria, Arbres monumental...\n",
       "36                          Ruta Valencia en la Memòria\n",
       "39                                  Trinitat - L'Almodí\n",
       "44                                      Ruta de la Seda\n",
       "46                          Ruta Valencia en la Memòria\n",
       "47                             Ruta pel Centre Històric\n",
       "48                             Ruta pel Centre Històric\n",
       "50             Ruta recinte enmurallat d'època islàmica\n",
       "53                       Arbres monumentals i singulars\n",
       "Name: routes1, dtype: object"
      ]
     },
     "execution_count": 254,
     "metadata": {},
     "output_type": "execute_result"
    }
   ],
   "source": [
    "df_1.loc[(df_1.Transporte == 'Pie') &  (df_1.type_route == 'Historica'), 'routes1']"
   ]
  },
  {
   "cell_type": "code",
   "execution_count": 255,
   "metadata": {},
   "outputs": [],
   "source": [
    "df_1.loc[1, 'routes1'] = 'Ruta de la Seda'\n",
    "df_1.loc[7, 'routes1'] = 'Ruta de la Seda'\n",
    "df_1.loc[17, 'routes1'] = 'Ruta de la Seda'\n",
    "df_1.loc[22, 'routes1'] = \"Ruta recinte enmurallat d'època islàmica\"\n",
    "df_1.loc[26, 'routes1'] = 'Ruta de la Seda'\n",
    "df_1.loc[30, 'routes1'] = 'Ruta Valencia en la Memòria'\n",
    "df_1.loc[31, 'routes1'] = 'Ruta Valencia en la Memòria'\n",
    "df_1.loc[39, 'routes1'] = \"Ruta recinte enmurallat d'època islàmica\"\n",
    "df_1.loc[47, 'routes1'] = \"Ruta recinte enmurallat d'època islàmica\"\n",
    "df_1.loc[48, 'routes1'] = 'Ruta de la Seda'\n",
    "df_1.loc[53, 'routes1'] = \"Ruta recinte enmurallat d'època islàmica\"\n",
    "\n"
   ]
  },
  {
   "cell_type": "code",
   "execution_count": 256,
   "metadata": {},
   "outputs": [
    {
     "data": {
      "text/plain": [
       "0     Arbres monumentals i singulars, Ruta Carrer Ru...\n",
       "5                        Arbres monumentals i singulars\n",
       "27    Arbres: Un viatge pel Mediterrani, Arbres monu...\n",
       "29                    Arbres: Un viatge pel Mediterrani\n",
       "Name: routes1, dtype: object"
      ]
     },
     "execution_count": 256,
     "metadata": {},
     "output_type": "execute_result"
    }
   ],
   "source": [
    "df_1.loc[(df_1.Transporte == 'Pie') &  (df_1.type_route == 'Literaria'), 'routes1']"
   ]
  },
  {
   "cell_type": "code",
   "execution_count": 257,
   "metadata": {},
   "outputs": [],
   "source": [
    "df_1.loc[0, 'routes1'] = 'La barraca'\n",
    "df_1.loc[5, 'routes1'] = 'Contes Blasco Ibañez Ruta 1'\n",
    "df_1.loc[27, 'routes1'] = 'Contes Blasco Ibañez Ruta 2'\n",
    "df_1.loc[29, 'routes1'] = 'Entre naranjos'\n"
   ]
  },
  {
   "cell_type": "code",
   "execution_count": 258,
   "metadata": {},
   "outputs": [
    {
     "data": {
      "text/plain": [
       "3     Ruta recinte enmurallat d'època islàmica, Sant...\n",
       "23                             Torres de Quart - Temple\n",
       "45                          Ruta Valencia en la Memòria\n",
       "Name: routes1, dtype: object"
      ]
     },
     "execution_count": 258,
     "metadata": {},
     "output_type": "execute_result"
    }
   ],
   "source": [
    "df_1.loc[(df_1.Transporte == 'Pie') &  (df_1.type_route == 'Patrimonio'), 'routes1']"
   ]
  },
  {
   "cell_type": "code",
   "execution_count": 259,
   "metadata": {},
   "outputs": [],
   "source": [
    "df_1.loc[3, 'routes1'] = 'Sant Agustí Pont de Fusta'\n",
    "df_1.loc[45, 'routes1'] = 'Sant Agustí Portal Nou'\n"
   ]
  },
  {
   "cell_type": "code",
   "execution_count": 260,
   "metadata": {},
   "outputs": [
    {
     "data": {
      "text/plain": [
       "6     Arbres monumentals i singulars, Arbres: La vol...\n",
       "8     Arbres monumentals i singulars, Arbres: La vol...\n",
       "9     Ruta Valencia en la Memòria, Arbres: Els india...\n",
       "10    Arbres monumentals i singulars, Arbres: Un pas...\n",
       "12    Ruta pel Centre Històric, Ruta València en bic...\n",
       "14                       Arbres monumentals i singulars\n",
       "16    Ruta València en bicicleta, Torres de Quart - ...\n",
       "25    Ruta pel Centre Històric, Ruta dels Pecats a l...\n",
       "32    Jardins del Reial - Glorieta, La barraca, Ruta...\n",
       "35    Arbres monumentals i singulars, Contes Blasco ...\n",
       "37                         Jardins del Reial - Glorieta\n",
       "42       Ruta dels Pecats a l'entorn del Mercat Central\n",
       "52                           Ruta València en bicicleta\n",
       "Name: routes1, dtype: object"
      ]
     },
     "execution_count": 260,
     "metadata": {},
     "output_type": "execute_result"
    }
   ],
   "source": [
    "df_1.loc[(df_1.Transporte == 'Pie') &  (df_1.type_route == 'Turistica'), 'routes1']"
   ]
  },
  {
   "cell_type": "code",
   "execution_count": 261,
   "metadata": {},
   "outputs": [],
   "source": [
    "df_1.loc[6, 'routes1'] = 'Arbres: La volta al món'\n",
    "df_1.loc[8, 'routes1'] = 'Arbres: Els indians'\n",
    "df_1.loc[9, 'routes1'] = 'Arbres: Els indians'\n",
    "df_1.loc[10, 'routes1'] = 'Arbres: Un viatge pel Mediterrani'\n",
    "df_1.loc[12, 'routes1'] = 'Arbres: Els indians'\n",
    "df_1.loc[14, 'routes1'] = 'Arbres: Els indians'\n",
    "df_1.loc[16, 'routes1'] = 'Ruta pel centre históric'\n",
    "df_1.loc[25, 'routes1'] = 'Arbres: Un passeig per l’Albereda'\n",
    "df_1.loc[32, 'routes1'] = 'Ruta pel centre históric'\n",
    "df_1.loc[35, 'routes1'] = 'Arbres: Els indians'\n",
    "df_1.loc[37, 'routes1'] = 'Ruta pel centre históric'\n",
    "df_1.loc[42, 'routes1'] = 'Arbres: Un passeig per l’Albereda'\n",
    "df_1.loc[52, 'routes1'] = 'Ruta pel centre históric'"
   ]
  },
  {
   "cell_type": "code",
   "execution_count": 262,
   "metadata": {},
   "outputs": [],
   "source": [
    "df_2 = df.loc[df.routes1.isnull() == True, :].reset_index(drop='index')"
   ]
  },
  {
   "cell_type": "code",
   "execution_count": 263,
   "metadata": {},
   "outputs": [],
   "source": [
    "df_2 = df_2.dropna(thresh=12)"
   ]
  },
  {
   "cell_type": "code",
   "execution_count": 264,
   "metadata": {},
   "outputs": [],
   "source": [
    "df_2['routes1'] = df_2.routes1.fillna('')\n",
    "df_2['routes_alta_pie'] = df_2['routes_alta_pie'].fillna('')\n",
    "df_2['routes_baja_pie'] = df_2['routes_baja_pie'].fillna('')\n",
    "df_2['routes_bici'] = df_2['routes_bici'].fillna('')\n"
   ]
  },
  {
   "cell_type": "code",
   "execution_count": 265,
   "metadata": {},
   "outputs": [],
   "source": [
    "df_2['routes1'] = df_2['routes_alta_pie'] + df_2['routes_baja_pie'] + df_2['routes_bici']"
   ]
  },
  {
   "cell_type": "code",
   "execution_count": 266,
   "metadata": {},
   "outputs": [],
   "source": [
    "df_3 = pd.concat([df_1,df_2])"
   ]
  },
  {
   "cell_type": "code",
   "execution_count": 267,
   "metadata": {},
   "outputs": [],
   "source": [
    "df_3 = df_3.reset_index(drop=True)"
   ]
  },
  {
   "cell_type": "code",
   "execution_count": 268,
   "metadata": {},
   "outputs": [],
   "source": [
    "df_3 = df_3.drop(['routes_alta_pie', 'routes_baja_pie', 'routes_bici', 'submmit', 'Token','score'],axis=1)"
   ]
  },
  {
   "cell_type": "code",
   "execution_count": 269,
   "metadata": {},
   "outputs": [],
   "source": [
    "df_3 = df_3.rename({'edad':'age', 'Género':'gender', 'Dificultad':'difficulty', 'Acompañamiento':'company', 'Transporte':'transport', 'routes1':'routes'}, axis=1)"
   ]
  },
  {
   "cell_type": "code",
   "execution_count": 270,
   "metadata": {},
   "outputs": [
    {
     "data": {
      "text/plain": [
       "array(['La barraca', 'Ruta de la Seda', 'Arbres monumentals i singulars',\n",
       "       'Sant Agustí Pont de Fusta', 'Ruta Cultural Anell Ciclista',\n",
       "       'Contes Blasco Ibañez Ruta 1', 'Arbres: La volta al món',\n",
       "       'Arbres: Els indians', 'Arbres: Un viatge pel Mediterrani',\n",
       "       'Ruta pel centre históric', 'Ruta València en bicicleta',\n",
       "       \"Ruta recinte enmurallat d'època islàmica\",\n",
       "       'Torres de Quart - Temple', 'Arbres: Un passeig per l’Albereda',\n",
       "       'Contes Blasco Ibañez Ruta 2', 'Entre naranjos',\n",
       "       'Ruta Valencia en la Memòria', 'Sant Agustí Portal Nou',\n",
       "       'Serrans - Palau de la Generalitat',\n",
       "       \"Ruta dels Pecats a l'entorn del Mercat Central\",\n",
       "       'Jardins del Reial - Glorieta'], dtype=object)"
      ]
     },
     "execution_count": 270,
     "metadata": {},
     "output_type": "execute_result"
    }
   ],
   "source": [
    "df_3.routes.unique()"
   ]
  },
  {
   "cell_type": "code",
   "execution_count": 271,
   "metadata": {},
   "outputs": [],
   "source": [
    "routes_dictionary ={'Arbres monumentals i singulars':0,\n",
    "                    'Arbres: La volta al món':1,\n",
    "                    'Arbres: Els indians':2,\n",
    "                    'Arbres: Un passeig per l’Albereda':3,\n",
    "                    'Arbres: Un viatge pel Mediterrani':4,\n",
    "                    'Ruta Carrer Russafa - la Llotja':5,\n",
    "                    'Contes Blasco Ibañez Ruta 1':6,\n",
    "                    'Contes Blasco Ibañez Ruta 2':7,\n",
    "                    'Entre naranjos':8,\n",
    "                    'Glorieta-Santa Catalina':9,\n",
    "                    'Jardins del Reial - Glorieta':10,\n",
    "                    'La barraca':11,\n",
    "                    'Ruta Cultural Anell Ciclista':12,\n",
    "                    'Ruta de la Seda':13,\n",
    "                    \"Ruta dels Pecats a l'entorn del Mercat Central\":14,\n",
    "                    'Ruta pel centre históric':15,\n",
    "                    \"Ruta recinte enmurallat d'època islàmica\":16,\n",
    "                    'Ruta València en bicicleta':17,\n",
    "                    'Sant Agustí Pont de Fusta':18,\n",
    "                    'Sant Agustí Portal Nou':19,\n",
    "                    'Serrans - Palau de la Generalitat':20,\n",
    "                    'Torres de Quart - Temple':21,\n",
    "                    'Trinitat L Almodí':22,\n",
    "                    'Ruta Valencia en la Memòria':23}\n"
   ]
  },
  {
   "cell_type": "code",
   "execution_count": 272,
   "metadata": {},
   "outputs": [],
   "source": [
    "df_3['route_id'] = df_3['routes'].map(routes_dictionary)"
   ]
  },
  {
   "cell_type": "code",
   "execution_count": 277,
   "metadata": {},
   "outputs": [],
   "source": [
    "df_3.to_csv('survey_data_clean.csv')"
   ]
  }
 ],
 "metadata": {
  "kernelspec": {
   "display_name": "Python 3.8.13 ('Desafio')",
   "language": "python",
   "name": "python3"
  },
  "language_info": {
   "codemirror_mode": {
    "name": "ipython",
    "version": 3
   },
   "file_extension": ".py",
   "mimetype": "text/x-python",
   "name": "python",
   "nbconvert_exporter": "python",
   "pygments_lexer": "ipython3",
   "version": "3.8.13"
  },
  "orig_nbformat": 4,
  "vscode": {
   "interpreter": {
    "hash": "6f859f9c55cc19213dc1deb62dbf10845fa2b4fff4d235bd7e0ca5725c038bb1"
   }
  }
 },
 "nbformat": 4,
 "nbformat_minor": 2
}
