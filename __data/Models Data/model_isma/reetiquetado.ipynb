{
 "cells": [
  {
   "cell_type": "code",
   "execution_count": 278,
   "metadata": {},
   "outputs": [],
   "source": [
    "import pandas as pd\n",
    "import os\n",
    "import datetime as dt\n",
    "import numpy as np"
   ]
  },
  {
   "cell_type": "code",
   "execution_count": 279,
   "metadata": {},
   "outputs": [
    {
     "data": {
      "text/plain": [
       "['Fake profiles.ipynb',\n",
       " 'fake_users_data.csv',\n",
       " 'isma_synthetic_data.csv',\n",
       " 'model_ismael.ipynb',\n",
       " 'reetiquetado.ipynb',\n",
       " 'routes.csv',\n",
       " 'survey_data_clean.csv']"
      ]
     },
     "execution_count": 279,
     "metadata": {},
     "output_type": "execute_result"
    }
   ],
   "source": [
    "os.listdir()"
   ]
  },
  {
   "cell_type": "code",
   "execution_count": 280,
   "metadata": {},
   "outputs": [],
   "source": [
    "df = pd.read_csv('../data/Survey _Rutas.csv')"
   ]
  },
  {
   "cell_type": "code",
   "execution_count": 281,
   "metadata": {},
   "outputs": [],
   "source": [
    "df = df.rename({'Edad\\r\\n':'edad', \n",
    "            '¿De cuánto tiempo dispones para realizar la ruta?':'time', \n",
    "            'Tipo de ruta preferida':'type_route', \n",
    "            'Coste dispuesto a pagar':'cost',\n",
    "            'Selecciona las rutas de tu interés':'routes1',\n",
    "            'Selecciona la ruta a pie de dificultad alta de tu interés': 'routes_alta_pie',\n",
    "            'Selecciona la ruta a pie de dificultad baja de tu interés': 'routes_baja_pie',\n",
    "            'Selecciona la ruta en bici de tu interés':'routes_bici',\n",
    "            'Submitted At': 'submmit'}, axis=1)"
   ]
  },
  {
   "cell_type": "code",
   "execution_count": 282,
   "metadata": {},
   "outputs": [],
   "source": [
    "df['submmit'] = pd.to_datetime(df['submmit'])"
   ]
  },
  {
   "cell_type": "code",
   "execution_count": 283,
   "metadata": {},
   "outputs": [],
   "source": [
    "df['Transporte'] = df.Transporte.str.replace('A','')"
   ]
  },
  {
   "cell_type": "code",
   "execution_count": 284,
   "metadata": {},
   "outputs": [],
   "source": [
    "df_1 = df.loc[df.routes1.isnull() == False, :].reset_index(drop='index')"
   ]
  },
  {
   "cell_type": "code",
   "execution_count": 285,
   "metadata": {},
   "outputs": [
    {
     "data": {
      "text/plain": [
       "2     Arbres monumentals i singulars, Arbres: La vol...\n",
       "4                          Ruta Cultural Anell Ciclista\n",
       "11    Arbres monumentals i singulars, Ruta dels Peca...\n",
       "13                      Ruta Carrer Russafa - la Llotja\n",
       "15    Torres de Quart - Temple, Ruta dels Pecats a l...\n",
       "18                           Ruta València en bicicleta\n",
       "19                          Ruta Valencia en la Memòria\n",
       "20    Ruta Valencia en la Memòria, Arbres monumental...\n",
       "21    Arbres: Els indians, Arbres monumentals i sing...\n",
       "24    Arbres monumentals i singulars, Arbres: Un pas...\n",
       "28    Ruta de la Seda, Ruta pel Centre Històric, Rut...\n",
       "33    Arbres: La volta al món, Ruta de la Seda, Ruta...\n",
       "34    Glorieta-Santa Catalina, Entre Naranjos, Arbre...\n",
       "38                          Ruta Valencia en la Memòria\n",
       "40                         Ruta Cultural Anell Ciclista\n",
       "41                              Arbres: La volta al món\n",
       "43                          Ruta Valencia en la Memòria\n",
       "49                          Ruta Valencia en la Memòria\n",
       "51                       Arbres monumentals i singulars\n",
       "54                              Arbres: La volta al món\n",
       "Name: routes1, dtype: object"
      ]
     },
     "execution_count": 285,
     "metadata": {},
     "output_type": "execute_result"
    }
   ],
   "source": [
    "df_1.loc[df_1.Transporte == 'Bicicleta', 'routes1']"
   ]
  },
  {
   "cell_type": "code",
   "execution_count": 286,
   "metadata": {},
   "outputs": [],
   "source": [
    "df_1.loc[2, 'routes1'] = 'Arbres monumentals i singulars'"
   ]
  },
  {
   "cell_type": "code",
   "execution_count": 287,
   "metadata": {},
   "outputs": [],
   "source": [
    "df_1.loc[11, 'routes1'] = 'Arbres monumentals i singulars'"
   ]
  },
  {
   "cell_type": "code",
   "execution_count": 288,
   "metadata": {},
   "outputs": [],
   "source": [
    "df_1.loc[13, 'routes1'] = 'Ruta Cultural Anell Ciclista'"
   ]
  },
  {
   "cell_type": "code",
   "execution_count": 289,
   "metadata": {},
   "outputs": [],
   "source": [
    "df_1.loc[15, 'routes1'] = 'Arbres monumentals i singulars'"
   ]
  },
  {
   "cell_type": "code",
   "execution_count": 290,
   "metadata": {},
   "outputs": [],
   "source": [
    "df_1.loc[19, 'routes1'] = 'Ruta València en bicicleta'"
   ]
  },
  {
   "cell_type": "code",
   "execution_count": 291,
   "metadata": {},
   "outputs": [],
   "source": [
    "df_1.loc[20, 'routes1'] = 'Arbres monumentals i singulars'"
   ]
  },
  {
   "cell_type": "code",
   "execution_count": 292,
   "metadata": {},
   "outputs": [],
   "source": [
    "df_1.loc[21, 'routes1'] = 'Arbres monumentals i singulars'"
   ]
  },
  {
   "cell_type": "code",
   "execution_count": 293,
   "metadata": {},
   "outputs": [],
   "source": [
    "df_1.loc[24, 'routes1'] = 'Arbres monumentals i singulars'"
   ]
  },
  {
   "cell_type": "code",
   "execution_count": 294,
   "metadata": {},
   "outputs": [],
   "source": [
    "df_1.loc[28, 'routes1'] = 'Ruta València en bicicleta'"
   ]
  },
  {
   "cell_type": "code",
   "execution_count": 295,
   "metadata": {},
   "outputs": [],
   "source": [
    "df_1.loc[33, 'routes1'] = 'Ruta València en bicicleta'"
   ]
  },
  {
   "cell_type": "code",
   "execution_count": 296,
   "metadata": {},
   "outputs": [],
   "source": [
    "df_1.loc[34, 'routes1'] = 'Arbres monumentals i singulars'"
   ]
  },
  {
   "cell_type": "code",
   "execution_count": 297,
   "metadata": {},
   "outputs": [],
   "source": [
    "df_1.loc[38, 'routes1'] = 'Ruta Cultural Anell Ciclista'"
   ]
  },
  {
   "cell_type": "code",
   "execution_count": 298,
   "metadata": {},
   "outputs": [],
   "source": [
    "df_1.loc[41, 'routes1'] = 'Ruta Cultural Anell Ciclista'"
   ]
  },
  {
   "cell_type": "code",
   "execution_count": 299,
   "metadata": {},
   "outputs": [],
   "source": [
    "df_1.loc[43, 'routes1'] = 'Ruta Cultural Anell Ciclista'"
   ]
  },
  {
   "cell_type": "code",
   "execution_count": 300,
   "metadata": {},
   "outputs": [],
   "source": [
    "df_1.loc[49, 'routes1'] = 'Ruta Cultural Anell Ciclista'"
   ]
  },
  {
   "cell_type": "code",
   "execution_count": 301,
   "metadata": {},
   "outputs": [],
   "source": [
    "df_1.loc[51, 'routes1'] = 'Arbres monumentals i singulars'"
   ]
  },
  {
   "cell_type": "code",
   "execution_count": 302,
   "metadata": {},
   "outputs": [
    {
     "data": {
      "text/plain": [
       "1                                   Trinitat - L'Almodí\n",
       "7                          Jardins del Reial - Glorieta\n",
       "17    Ruta pel Centre Històric, Jardins del Reial - ...\n",
       "22    Jardins del Reial - Glorieta, Glorieta-Santa C...\n",
       "26    Ruta Carrer Russafa - la Llotja, Glorieta-Sant...\n",
       "30    Ruta Carrer Russafa - la Llotja, La barraca, R...\n",
       "31    Ruta Valencia en la Memòria, Arbres monumental...\n",
       "36                          Ruta Valencia en la Memòria\n",
       "39                                  Trinitat - L'Almodí\n",
       "44                                      Ruta de la Seda\n",
       "46                          Ruta Valencia en la Memòria\n",
       "47                             Ruta pel Centre Històric\n",
       "48                             Ruta pel Centre Històric\n",
       "50             Ruta recinte enmurallat d'època islàmica\n",
       "53                       Arbres monumentals i singulars\n",
       "Name: routes1, dtype: object"
      ]
     },
     "execution_count": 302,
     "metadata": {},
     "output_type": "execute_result"
    }
   ],
   "source": [
    "df_1.loc[(df_1.Transporte == 'Pie') &  (df_1.type_route == 'Historica'), 'routes1']"
   ]
  },
  {
   "cell_type": "code",
   "execution_count": 303,
   "metadata": {},
   "outputs": [],
   "source": [
    "df_1.loc[1, 'routes1'] = 'Ruta de la Seda'\n",
    "df_1.loc[7, 'routes1'] = 'Ruta de la Seda'\n",
    "df_1.loc[17, 'routes1'] = 'Ruta de la Seda'\n",
    "df_1.loc[22, 'routes1'] = \"Ruta recinte enmurallat d'època islàmica\"\n",
    "df_1.loc[26, 'routes1'] = 'Ruta de la Seda'\n",
    "df_1.loc[30, 'routes1'] = 'Ruta Valencia en la Memòria'\n",
    "df_1.loc[31, 'routes1'] = 'Ruta Valencia en la Memòria'\n",
    "df_1.loc[39, 'routes1'] = \"Ruta recinte enmurallat d'època islàmica\"\n",
    "df_1.loc[47, 'routes1'] = \"Ruta recinte enmurallat d'època islàmica\"\n",
    "df_1.loc[48, 'routes1'] = 'Ruta de la Seda'\n",
    "df_1.loc[53, 'routes1'] = \"Ruta recinte enmurallat d'època islàmica\"\n",
    "\n"
   ]
  },
  {
   "cell_type": "code",
   "execution_count": 304,
   "metadata": {},
   "outputs": [
    {
     "data": {
      "text/plain": [
       "0     Arbres monumentals i singulars, Ruta Carrer Ru...\n",
       "5                        Arbres monumentals i singulars\n",
       "27    Arbres: Un viatge pel Mediterrani, Arbres monu...\n",
       "29                    Arbres: Un viatge pel Mediterrani\n",
       "Name: routes1, dtype: object"
      ]
     },
     "execution_count": 304,
     "metadata": {},
     "output_type": "execute_result"
    }
   ],
   "source": [
    "df_1.loc[(df_1.Transporte == 'Pie') &  (df_1.type_route == 'Literaria'), 'routes1']"
   ]
  },
  {
   "cell_type": "code",
   "execution_count": 305,
   "metadata": {},
   "outputs": [],
   "source": [
    "df_1.loc[0, 'routes1'] = 'La barraca'\n",
    "df_1.loc[5, 'routes1'] = 'Contes Blasco Ibañez Ruta 1'\n",
    "df_1.loc[27, 'routes1'] = 'Contes Blasco Ibañez Ruta 2'\n",
    "df_1.loc[29, 'routes1'] = 'Entre naranjos'\n"
   ]
  },
  {
   "cell_type": "code",
   "execution_count": 306,
   "metadata": {},
   "outputs": [
    {
     "data": {
      "text/plain": [
       "3     Ruta recinte enmurallat d'època islàmica, Sant...\n",
       "23                             Torres de Quart - Temple\n",
       "45                          Ruta Valencia en la Memòria\n",
       "Name: routes1, dtype: object"
      ]
     },
     "execution_count": 306,
     "metadata": {},
     "output_type": "execute_result"
    }
   ],
   "source": [
    "df_1.loc[(df_1.Transporte == 'Pie') &  (df_1.type_route == 'Patrimonio'), 'routes1']"
   ]
  },
  {
   "cell_type": "code",
   "execution_count": 307,
   "metadata": {},
   "outputs": [],
   "source": [
    "df_1.loc[3, 'routes1'] = 'Sant Agustí Pont de Fusta'\n",
    "df_1.loc[45, 'routes1'] = 'Sant Agustí Portal Nou'\n"
   ]
  },
  {
   "cell_type": "code",
   "execution_count": 308,
   "metadata": {},
   "outputs": [
    {
     "data": {
      "text/plain": [
       "6     Arbres monumentals i singulars, Arbres: La vol...\n",
       "8     Arbres monumentals i singulars, Arbres: La vol...\n",
       "9     Ruta Valencia en la Memòria, Arbres: Els india...\n",
       "10    Arbres monumentals i singulars, Arbres: Un pas...\n",
       "12    Ruta pel Centre Històric, Ruta València en bic...\n",
       "14                       Arbres monumentals i singulars\n",
       "16    Ruta València en bicicleta, Torres de Quart - ...\n",
       "25    Ruta pel Centre Històric, Ruta dels Pecats a l...\n",
       "32    Jardins del Reial - Glorieta, La barraca, Ruta...\n",
       "35    Arbres monumentals i singulars, Contes Blasco ...\n",
       "37                         Jardins del Reial - Glorieta\n",
       "42       Ruta dels Pecats a l'entorn del Mercat Central\n",
       "52                           Ruta València en bicicleta\n",
       "Name: routes1, dtype: object"
      ]
     },
     "execution_count": 308,
     "metadata": {},
     "output_type": "execute_result"
    }
   ],
   "source": [
    "df_1.loc[(df_1.Transporte == 'Pie') &  (df_1.type_route == 'Turistica'), 'routes1']"
   ]
  },
  {
   "cell_type": "code",
   "execution_count": 309,
   "metadata": {},
   "outputs": [],
   "source": [
    "df_1.loc[6, 'routes1'] = 'Arbres: La volta al món'\n",
    "df_1.loc[8, 'routes1'] = 'Arbres: Els indians'\n",
    "df_1.loc[9, 'routes1'] = 'Arbres: Els indians'\n",
    "df_1.loc[10, 'routes1'] = 'Arbres: Un viatge pel Mediterrani'\n",
    "df_1.loc[12, 'routes1'] = 'Arbres: Els indians'\n",
    "df_1.loc[14, 'routes1'] = 'Arbres: Els indians'\n",
    "df_1.loc[16, 'routes1'] = 'Ruta pel centre históric'\n",
    "df_1.loc[25, 'routes1'] = 'Arbres: Un passeig per l’Albereda'\n",
    "df_1.loc[32, 'routes1'] = 'Ruta pel centre históric'\n",
    "df_1.loc[35, 'routes1'] = 'Arbres: Els indians'\n",
    "df_1.loc[37, 'routes1'] = 'Ruta pel centre históric'\n",
    "df_1.loc[42, 'routes1'] = 'Arbres: Un passeig per l’Albereda'\n",
    "df_1.loc[52, 'routes1'] = 'Ruta pel centre históric'"
   ]
  },
  {
   "cell_type": "code",
   "execution_count": 310,
   "metadata": {},
   "outputs": [],
   "source": [
    "df_2 = df.loc[df.routes1.isnull() == True, :].reset_index(drop='index')"
   ]
  },
  {
   "cell_type": "code",
   "execution_count": 311,
   "metadata": {},
   "outputs": [],
   "source": [
    "df_2 = df_2.dropna(thresh=12)"
   ]
  },
  {
   "cell_type": "code",
   "execution_count": 312,
   "metadata": {},
   "outputs": [],
   "source": [
    "df_2['routes1'] = df_2.routes1.fillna('')\n",
    "df_2['routes_alta_pie'] = df_2['routes_alta_pie'].fillna('')\n",
    "df_2['routes_baja_pie'] = df_2['routes_baja_pie'].fillna('')\n",
    "df_2['routes_bici'] = df_2['routes_bici'].fillna('')\n"
   ]
  },
  {
   "cell_type": "code",
   "execution_count": 313,
   "metadata": {},
   "outputs": [],
   "source": [
    "df_2['routes1'] = df_2['routes_alta_pie'] + df_2['routes_baja_pie'] + df_2['routes_bici']"
   ]
  },
  {
   "cell_type": "code",
   "execution_count": 314,
   "metadata": {},
   "outputs": [],
   "source": [
    "df_3 = pd.concat([df_1,df_2])"
   ]
  },
  {
   "cell_type": "code",
   "execution_count": 315,
   "metadata": {},
   "outputs": [],
   "source": [
    "df_3 = df_3.reset_index(drop=True)"
   ]
  },
  {
   "cell_type": "code",
   "execution_count": 316,
   "metadata": {},
   "outputs": [],
   "source": [
    "df_3 = df_3.drop(['routes_alta_pie', 'routes_baja_pie', 'routes_bici', 'submmit', 'Token','score'],axis=1)"
   ]
  },
  {
   "cell_type": "code",
   "execution_count": 317,
   "metadata": {},
   "outputs": [],
   "source": [
    "df_3 = df_3.rename({'edad':'age', 'Género':'gender', 'Dificultad':'difficulty', 'Acompañamiento':'company', 'Transporte':'transport', 'routes1':'routes'}, axis=1)"
   ]
  },
  {
   "cell_type": "code",
   "execution_count": 318,
   "metadata": {},
   "outputs": [
    {
     "data": {
      "text/plain": [
       "array(['La barraca', 'Ruta de la Seda', 'Arbres monumentals i singulars',\n",
       "       'Sant Agustí Pont de Fusta', 'Ruta Cultural Anell Ciclista',\n",
       "       'Contes Blasco Ibañez Ruta 1', 'Arbres: La volta al món',\n",
       "       'Arbres: Els indians', 'Arbres: Un viatge pel Mediterrani',\n",
       "       'Ruta pel centre históric', 'Ruta València en bicicleta',\n",
       "       \"Ruta recinte enmurallat d'època islàmica\",\n",
       "       'Torres de Quart - Temple', 'Arbres: Un passeig per l’Albereda',\n",
       "       'Contes Blasco Ibañez Ruta 2', 'Entre naranjos',\n",
       "       'Ruta Valencia en la Memòria', 'Sant Agustí Portal Nou',\n",
       "       'Serrans - Palau de la Generalitat',\n",
       "       \"Ruta dels Pecats a l'entorn del Mercat Central\",\n",
       "       'Jardins del Reial - Glorieta'], dtype=object)"
      ]
     },
     "execution_count": 318,
     "metadata": {},
     "output_type": "execute_result"
    }
   ],
   "source": [
    "df_3.routes.unique()"
   ]
  },
  {
   "cell_type": "code",
   "execution_count": 319,
   "metadata": {},
   "outputs": [],
   "source": [
    "routes_dictionary ={'Arbres monumentals i singulars':0,\n",
    "                    'Arbres: La volta al món':1,\n",
    "                    'Arbres: Els indians':2,\n",
    "                    'Arbres: Un passeig per l’Albereda':3,\n",
    "                    'Arbres: Un viatge pel Mediterrani':4,\n",
    "                    'Ruta Carrer Russafa - la Llotja':5,\n",
    "                    'Contes Blasco Ibañez Ruta 1':6,\n",
    "                    'Contes Blasco Ibañez Ruta 2':7,\n",
    "                    'Entre naranjos':8,\n",
    "                    'Glorieta-Santa Catalina':9,\n",
    "                    'Jardins del Reial - Glorieta':10,\n",
    "                    'La barraca':11,\n",
    "                    'Ruta Cultural Anell Ciclista':12,\n",
    "                    'Ruta de la Seda':13,\n",
    "                    \"Ruta dels Pecats a l'entorn del Mercat Central\":14,\n",
    "                    'Ruta pel centre históric':15,\n",
    "                    \"Ruta recinte enmurallat d'època islàmica\":16,\n",
    "                    'Ruta València en bicicleta':17,\n",
    "                    'Sant Agustí Pont de Fusta':18,\n",
    "                    'Sant Agustí Portal Nou':19,\n",
    "                    'Serrans - Palau de la Generalitat':20,\n",
    "                    'Torres de Quart - Temple':21,\n",
    "                    'Trinitat L Almodí':22,\n",
    "                    'Ruta Valencia en la Memòria':23}\n"
   ]
  },
  {
   "cell_type": "code",
   "execution_count": 320,
   "metadata": {},
   "outputs": [],
   "source": [
    "df_3['route_id'] = df_3['routes'].map(routes_dictionary)"
   ]
  },
  {
   "cell_type": "code",
   "execution_count": 343,
   "metadata": {},
   "outputs": [],
   "source": [
    "df_3.transport = df_3.transport.str.strip()"
   ]
  },
  {
   "cell_type": "code",
   "execution_count": 333,
   "metadata": {},
   "outputs": [
    {
     "data": {
      "text/plain": [
       "['La barraca',\n",
       " 'Arbres monumentals i singulars',\n",
       " 'Sant Agustí Pont de Fusta',\n",
       " 'Ruta Cultural Anell Ciclista',\n",
       " 'Arbres: Els indians',\n",
       " 'Arbres: Un viatge pel Mediterrani',\n",
       " 'Ruta de la Seda',\n",
       " 'Ruta València en bicicleta',\n",
       " \"Ruta recinte enmurallat d'època islàmica\",\n",
       " 'Arbres: Un passeig per l’Albereda',\n",
       " 'Contes Blasco Ibañez Ruta 2',\n",
       " 'Ruta Valencia en la Memòria',\n",
       " 'Ruta pel centre históric',\n",
       " 'Jardins del Reial - Glorieta',\n",
       " 'Serrans - Palau de la Generalitat']"
      ]
     },
     "execution_count": 333,
     "metadata": {},
     "output_type": "execute_result"
    }
   ],
   "source": [
    "list(df_3.loc[df_3.age == '18-35', 'routes'].unique())"
   ]
  },
  {
   "cell_type": "code",
   "execution_count": 345,
   "metadata": {},
   "outputs": [
    {
     "data": {
      "text/plain": [
       "['La barraca',\n",
       " 'Sant Agustí Pont de Fusta',\n",
       " 'Arbres: Els indians',\n",
       " 'Arbres: Un viatge pel Mediterrani',\n",
       " 'Ruta de la Seda',\n",
       " \"Ruta recinte enmurallat d'època islàmica\",\n",
       " 'Arbres: Un passeig per l’Albereda',\n",
       " 'Contes Blasco Ibañez Ruta 2',\n",
       " 'Ruta Valencia en la Memòria',\n",
       " 'Ruta pel centre históric',\n",
       " 'Jardins del Reial - Glorieta',\n",
       " 'Serrans - Palau de la Generalitat']"
      ]
     },
     "execution_count": 345,
     "metadata": {},
     "output_type": "execute_result"
    }
   ],
   "source": [
    "list(df_3.loc[(df_3.age == '18-35') & (df_3.transport == 'Pie'), 'routes'].unique())"
   ]
  },
  {
   "cell_type": "code",
   "execution_count": 346,
   "metadata": {},
   "outputs": [
    {
     "data": {
      "text/html": [
       "<div>\n",
       "<style scoped>\n",
       "    .dataframe tbody tr th:only-of-type {\n",
       "        vertical-align: middle;\n",
       "    }\n",
       "\n",
       "    .dataframe tbody tr th {\n",
       "        vertical-align: top;\n",
       "    }\n",
       "\n",
       "    .dataframe thead th {\n",
       "        text-align: right;\n",
       "    }\n",
       "</style>\n",
       "<table border=\"1\" class=\"dataframe\">\n",
       "  <thead>\n",
       "    <tr style=\"text-align: right;\">\n",
       "      <th></th>\n",
       "      <th>age</th>\n",
       "      <th>gender</th>\n",
       "      <th>time</th>\n",
       "      <th>type_route</th>\n",
       "      <th>cost</th>\n",
       "      <th>difficulty</th>\n",
       "      <th>company</th>\n",
       "      <th>transport</th>\n",
       "      <th>routes</th>\n",
       "      <th>route_id</th>\n",
       "    </tr>\n",
       "  </thead>\n",
       "  <tbody>\n",
       "    <tr>\n",
       "      <th>0</th>\n",
       "      <td>18-35</td>\n",
       "      <td>Hombre</td>\n",
       "      <td>3 - 4 horas</td>\n",
       "      <td>Literaria</td>\n",
       "      <td>1-50 Euros</td>\n",
       "      <td>Alta</td>\n",
       "      <td>Solo</td>\n",
       "      <td>Pie</td>\n",
       "      <td>La barraca</td>\n",
       "      <td>11</td>\n",
       "    </tr>\n",
       "    <tr>\n",
       "      <th>1</th>\n",
       "      <td>35-45</td>\n",
       "      <td>Hombre</td>\n",
       "      <td>1 - 2 horas</td>\n",
       "      <td>Historica</td>\n",
       "      <td>Gratis</td>\n",
       "      <td>Baja</td>\n",
       "      <td>Pareja</td>\n",
       "      <td>Pie</td>\n",
       "      <td>Ruta de la Seda</td>\n",
       "      <td>13</td>\n",
       "    </tr>\n",
       "    <tr>\n",
       "      <th>2</th>\n",
       "      <td>18-35</td>\n",
       "      <td>Hombre</td>\n",
       "      <td>3 - 4 horas</td>\n",
       "      <td>Historica</td>\n",
       "      <td>Gratis</td>\n",
       "      <td>Baja</td>\n",
       "      <td>Solo</td>\n",
       "      <td>Bicicleta</td>\n",
       "      <td>Arbres monumentals i singulars</td>\n",
       "      <td>0</td>\n",
       "    </tr>\n",
       "    <tr>\n",
       "      <th>3</th>\n",
       "      <td>18-35</td>\n",
       "      <td>Hombre</td>\n",
       "      <td>3 - 4 horas</td>\n",
       "      <td>Patrimonio</td>\n",
       "      <td>Gratis</td>\n",
       "      <td>Baja</td>\n",
       "      <td>Pareja</td>\n",
       "      <td>Pie</td>\n",
       "      <td>Sant Agustí Pont de Fusta</td>\n",
       "      <td>18</td>\n",
       "    </tr>\n",
       "    <tr>\n",
       "      <th>4</th>\n",
       "      <td>18-35</td>\n",
       "      <td>Mujer</td>\n",
       "      <td>3 - 4 horas</td>\n",
       "      <td>Turistica</td>\n",
       "      <td>Gratis</td>\n",
       "      <td>Baja</td>\n",
       "      <td>Pareja</td>\n",
       "      <td>Bicicleta</td>\n",
       "      <td>Ruta Cultural Anell Ciclista</td>\n",
       "      <td>12</td>\n",
       "    </tr>\n",
       "    <tr>\n",
       "      <th>...</th>\n",
       "      <td>...</td>\n",
       "      <td>...</td>\n",
       "      <td>...</td>\n",
       "      <td>...</td>\n",
       "      <td>...</td>\n",
       "      <td>...</td>\n",
       "      <td>...</td>\n",
       "      <td>...</td>\n",
       "      <td>...</td>\n",
       "      <td>...</td>\n",
       "    </tr>\n",
       "    <tr>\n",
       "      <th>66</th>\n",
       "      <td>18-35</td>\n",
       "      <td>Mujer</td>\n",
       "      <td>1 - 2 horas</td>\n",
       "      <td>Turistica</td>\n",
       "      <td>Gratis</td>\n",
       "      <td>Baja</td>\n",
       "      <td>Pareja</td>\n",
       "      <td>Pie</td>\n",
       "      <td>Ruta Valencia en la Memòria</td>\n",
       "      <td>23</td>\n",
       "    </tr>\n",
       "    <tr>\n",
       "      <th>67</th>\n",
       "      <td>18-35</td>\n",
       "      <td>Mujer</td>\n",
       "      <td>1 - 2 horas</td>\n",
       "      <td>Turistica</td>\n",
       "      <td>Gratis</td>\n",
       "      <td>Baja</td>\n",
       "      <td>Pareja</td>\n",
       "      <td>Pie</td>\n",
       "      <td>Arbres: Un passeig per l’Albereda</td>\n",
       "      <td>3</td>\n",
       "    </tr>\n",
       "    <tr>\n",
       "      <th>68</th>\n",
       "      <td>35-45</td>\n",
       "      <td>Hombre</td>\n",
       "      <td>1 - 2 horas</td>\n",
       "      <td>Turistica</td>\n",
       "      <td>Gratis</td>\n",
       "      <td>Alta</td>\n",
       "      <td>Amigos</td>\n",
       "      <td>Bicicleta</td>\n",
       "      <td>Ruta València en bicicleta</td>\n",
       "      <td>17</td>\n",
       "    </tr>\n",
       "    <tr>\n",
       "      <th>69</th>\n",
       "      <td>35-45</td>\n",
       "      <td>Mujer</td>\n",
       "      <td>3 - 4 horas</td>\n",
       "      <td>Historica</td>\n",
       "      <td>1-50 Euros</td>\n",
       "      <td>Baja</td>\n",
       "      <td>Familia</td>\n",
       "      <td>Bicicleta</td>\n",
       "      <td>Arbres monumentals i singulars</td>\n",
       "      <td>0</td>\n",
       "    </tr>\n",
       "    <tr>\n",
       "      <th>70</th>\n",
       "      <td>18-35</td>\n",
       "      <td>Mujer</td>\n",
       "      <td>1 - 2 horas</td>\n",
       "      <td>Literaria</td>\n",
       "      <td>Gratis</td>\n",
       "      <td>Baja</td>\n",
       "      <td>Solo</td>\n",
       "      <td>Bicicleta</td>\n",
       "      <td>Arbres monumentals i singulars</td>\n",
       "      <td>0</td>\n",
       "    </tr>\n",
       "  </tbody>\n",
       "</table>\n",
       "<p>71 rows × 10 columns</p>\n",
       "</div>"
      ],
      "text/plain": [
       "      age  gender         time  type_route        cost difficulty  company  \\\n",
       "0   18-35  Hombre  3 - 4 horas   Literaria  1-50 Euros       Alta     Solo   \n",
       "1   35-45  Hombre  1 - 2 horas   Historica      Gratis       Baja   Pareja   \n",
       "2   18-35  Hombre  3 - 4 horas   Historica      Gratis       Baja     Solo   \n",
       "3   18-35  Hombre  3 - 4 horas  Patrimonio      Gratis       Baja   Pareja   \n",
       "4   18-35   Mujer  3 - 4 horas   Turistica      Gratis       Baja   Pareja   \n",
       "..    ...     ...          ...         ...         ...        ...      ...   \n",
       "66  18-35   Mujer  1 - 2 horas   Turistica      Gratis       Baja   Pareja   \n",
       "67  18-35   Mujer  1 - 2 horas   Turistica      Gratis       Baja   Pareja   \n",
       "68  35-45  Hombre  1 - 2 horas   Turistica      Gratis       Alta   Amigos   \n",
       "69  35-45   Mujer  3 - 4 horas   Historica  1-50 Euros       Baja  Familia   \n",
       "70  18-35   Mujer  1 - 2 horas   Literaria      Gratis       Baja     Solo   \n",
       "\n",
       "    transport                             routes  route_id  \n",
       "0         Pie                         La barraca        11  \n",
       "1         Pie                    Ruta de la Seda        13  \n",
       "2   Bicicleta     Arbres monumentals i singulars         0  \n",
       "3         Pie          Sant Agustí Pont de Fusta        18  \n",
       "4   Bicicleta       Ruta Cultural Anell Ciclista        12  \n",
       "..        ...                                ...       ...  \n",
       "66        Pie        Ruta Valencia en la Memòria        23  \n",
       "67        Pie  Arbres: Un passeig per l’Albereda         3  \n",
       "68  Bicicleta         Ruta València en bicicleta        17  \n",
       "69  Bicicleta     Arbres monumentals i singulars         0  \n",
       "70  Bicicleta     Arbres monumentals i singulars         0  \n",
       "\n",
       "[71 rows x 10 columns]"
      ]
     },
     "execution_count": 346,
     "metadata": {},
     "output_type": "execute_result"
    }
   ],
   "source": [
    "df_3"
   ]
  },
  {
   "cell_type": "code",
   "execution_count": 354,
   "metadata": {},
   "outputs": [
    {
     "data": {
      "text/html": [
       "<div>\n",
       "<style scoped>\n",
       "    .dataframe tbody tr th:only-of-type {\n",
       "        vertical-align: middle;\n",
       "    }\n",
       "\n",
       "    .dataframe tbody tr th {\n",
       "        vertical-align: top;\n",
       "    }\n",
       "\n",
       "    .dataframe thead th {\n",
       "        text-align: right;\n",
       "    }\n",
       "</style>\n",
       "<table border=\"1\" class=\"dataframe\">\n",
       "  <thead>\n",
       "    <tr style=\"text-align: right;\">\n",
       "      <th></th>\n",
       "      <th>routes</th>\n",
       "      <th>type_route</th>\n",
       "    </tr>\n",
       "  </thead>\n",
       "  <tbody>\n",
       "    <tr>\n",
       "      <th>0</th>\n",
       "      <td>La barraca</td>\n",
       "      <td>Literaria</td>\n",
       "    </tr>\n",
       "    <tr>\n",
       "      <th>8</th>\n",
       "      <td>Arbres: Els indians</td>\n",
       "      <td>Turistica</td>\n",
       "    </tr>\n",
       "    <tr>\n",
       "      <th>9</th>\n",
       "      <td>Arbres: Els indians</td>\n",
       "      <td>Turistica</td>\n",
       "    </tr>\n",
       "    <tr>\n",
       "      <th>27</th>\n",
       "      <td>Contes Blasco Ibañez Ruta 2</td>\n",
       "      <td>Literaria</td>\n",
       "    </tr>\n",
       "    <tr>\n",
       "      <th>39</th>\n",
       "      <td>Ruta recinte enmurallat d'època islàmica</td>\n",
       "      <td>Historica</td>\n",
       "    </tr>\n",
       "    <tr>\n",
       "      <th>46</th>\n",
       "      <td>Ruta Valencia en la Memòria</td>\n",
       "      <td>Historica</td>\n",
       "    </tr>\n",
       "    <tr>\n",
       "      <th>50</th>\n",
       "      <td>Ruta recinte enmurallat d'època islàmica</td>\n",
       "      <td>Historica</td>\n",
       "    </tr>\n",
       "    <tr>\n",
       "      <th>52</th>\n",
       "      <td>Ruta pel centre históric</td>\n",
       "      <td>Turistica</td>\n",
       "    </tr>\n",
       "    <tr>\n",
       "      <th>56</th>\n",
       "      <td>Ruta recinte enmurallat d'època islàmica</td>\n",
       "      <td>Historica</td>\n",
       "    </tr>\n",
       "    <tr>\n",
       "      <th>59</th>\n",
       "      <td>Ruta recinte enmurallat d'època islàmica</td>\n",
       "      <td>Historica</td>\n",
       "    </tr>\n",
       "    <tr>\n",
       "      <th>60</th>\n",
       "      <td>Ruta recinte enmurallat d'època islàmica</td>\n",
       "      <td>Patrimonio</td>\n",
       "    </tr>\n",
       "    <tr>\n",
       "      <th>65</th>\n",
       "      <td>Serrans - Palau de la Generalitat</td>\n",
       "      <td>Patrimonio</td>\n",
       "    </tr>\n",
       "  </tbody>\n",
       "</table>\n",
       "</div>"
      ],
      "text/plain": [
       "                                      routes  type_route\n",
       "0                                 La barraca   Literaria\n",
       "8                        Arbres: Els indians   Turistica\n",
       "9                        Arbres: Els indians   Turistica\n",
       "27               Contes Blasco Ibañez Ruta 2   Literaria\n",
       "39  Ruta recinte enmurallat d'època islàmica   Historica\n",
       "46               Ruta Valencia en la Memòria   Historica\n",
       "50  Ruta recinte enmurallat d'època islàmica   Historica\n",
       "52                  Ruta pel centre históric   Turistica\n",
       "56  Ruta recinte enmurallat d'època islàmica   Historica\n",
       "59  Ruta recinte enmurallat d'època islàmica   Historica\n",
       "60  Ruta recinte enmurallat d'època islàmica  Patrimonio\n",
       "65         Serrans - Palau de la Generalitat  Patrimonio"
      ]
     },
     "execution_count": 354,
     "metadata": {},
     "output_type": "execute_result"
    }
   ],
   "source": [
    "df_3.loc[(df_3.age == '18-35') & (df_3.transport == 'Pie') & (df_3.difficulty == 'Alta'), ['routes','type_route']]"
   ]
  },
  {
   "cell_type": "code",
   "execution_count": 277,
   "metadata": {},
   "outputs": [],
   "source": [
    "df_3.to_csv('survey_data_clean.csv')"
   ]
  }
 ],
 "metadata": {
  "kernelspec": {
   "display_name": "Python 3.8.13 ('Desafio')",
   "language": "python",
   "name": "python3"
  },
  "language_info": {
   "codemirror_mode": {
    "name": "ipython",
    "version": 3
   },
   "file_extension": ".py",
   "mimetype": "text/x-python",
   "name": "python",
   "nbconvert_exporter": "python",
   "pygments_lexer": "ipython3",
   "version": "3.8.13"
  },
  "orig_nbformat": 4,
  "vscode": {
   "interpreter": {
    "hash": "6f859f9c55cc19213dc1deb62dbf10845fa2b4fff4d235bd7e0ca5725c038bb1"
   }
  }
 },
 "nbformat": 4,
 "nbformat_minor": 2
}
