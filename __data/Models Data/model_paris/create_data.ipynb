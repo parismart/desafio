{
 "cells": [
  {
   "cell_type": "code",
   "execution_count": 200,
   "metadata": {},
   "outputs": [],
   "source": [
    "import numpy as np\n",
    "import pandas as pd"
   ]
  },
  {
   "cell_type": "markdown",
   "metadata": {},
   "source": [
    "### Creating fake data with random choices"
   ]
  },
  {
   "cell_type": "code",
   "execution_count": 201,
   "metadata": {},
   "outputs": [],
   "source": [
    "# function to create a dataframe with fake values for our synthetic users\n",
    "def make_users(num):\n",
    "    \n",
    "    fake_users = []\n",
    "\n",
    "    for i in range(num): \n",
    "        # lists to randomly assign to users\n",
    "        age\t = ['0-18', '18-35','35-45','+45']\n",
    "        gender = ['hombre', 'mujer', 'otro']\n",
    "        company = ['solo','pareja','amigos','familia']\n",
    "        time = [1.5,3.5,5.5,7.5]\n",
    "        price = [1, 2, 3]\n",
    "        difficulty = ['alta', 'baja']\n",
    "        transport = ['a pie', 'bicicleta']\n",
    "        type_route = ['historica', 'turistica', 'literaria', 'patrimonio']\n",
    "        route = [None]\n",
    "\n",
    "        fake_user = {\n",
    "            'age':np.random.choice(age),\n",
    "            'gender': np.random.choice(gender),\n",
    "            'time': np.random.choice(time),\n",
    "            'type_route': np.random.choice(type_route),\n",
    "            'price': np.random.choice(price),\n",
    "            'difficulty': np.random.choice(difficulty),\n",
    "            'accompaniment': np.random.choice(company),\n",
    "            'transport': np.random.choice(transport),\n",
    "            'route': np.nan,}\n",
    "        \n",
    "        fake_users.append(fake_user)\n",
    "\n",
    "    users_df = pd.DataFrame(fake_users)\n",
    "    \n",
    "    return users_df"
   ]
  },
  {
   "cell_type": "code",
   "execution_count": 202,
   "metadata": {},
   "outputs": [],
   "source": [
    "df = pd.read_csv('data/routes.csv', index_col=0)"
   ]
  },
  {
   "cell_type": "code",
   "execution_count": 204,
   "metadata": {},
   "outputs": [],
   "source": [
    "df_fake = make_users(100000)"
   ]
  },
  {
   "cell_type": "code",
   "execution_count": 205,
   "metadata": {},
   "outputs": [],
   "source": [
    "def input_target(df_users):\n",
    "    df = pd.read_csv('data/routes.csv', index_col=0)\n",
    "\n",
    "    for idx, i in enumerate(df_users.iterrows()):\n",
    "        df_routes = df.copy()\n",
    "        if i[1].age == '18-35':\n",
    "            df_routes = df_routes.loc[df_routes.age == 0, :]\n",
    "            if i[1].transport == 'a pie':\n",
    "                df_routes = df_routes.loc[df_routes.transport == 'peu', :]\n",
    "                if i[1].difficulty == 'alta':\n",
    "                    df_routes = df_routes.loc[df_routes.dificulty == 'media', :]\n",
    "                    if i[1].type_route == 'turistica':\n",
    "                        df_routes = df_routes.loc[df_routes.type == 'Turística', :]\n",
    "                    elif i[1].type_route == 'historica':\n",
    "                        df_routes = df_routes.loc[df_routes.type == 'Històrica', :]\n",
    "                        if i[1].time < 3.5:\n",
    "                            df_routes = df_routes.loc[df_routes.duration == 120, :]\n",
    "                        else:\n",
    "                            df_routes = df_routes.loc[df_routes.duration == 300, :]\n",
    "                    elif i[1].type_route == 'patrimonio':\n",
    "                        df_routes = df_routes.loc[df_routes.type == 'Patrimonial', :]\n",
    "                        if i[1].time < 5.5:\n",
    "                            df_routes = df_routes.loc[df_routes.duration == 180, :]\n",
    "                        else:\n",
    "                            df_routes = df_routes.loc[df_routes.duration == 360, :]\n",
    "                else:\n",
    "                    df_routes = df_routes.loc[df_routes.dificulty == 'baja', :]\n",
    "                    if i[1].type_route == 'literaria':\n",
    "                        df_routes = df_routes.loc[df_routes.type == 'Literària', :]\n",
    "                    elif i[1].type_route == 'turistica':\n",
    "                        df_routes = df_routes.loc[df_routes.type == 'Turística', :]\n",
    "                        if i[1].accompaniment == 'solo':\n",
    "                            df_routes = df_routes.loc[df_routes.name == 'Arbres: Els indians', :]\n",
    "                        elif i[1].accompaniment == 'pareja':\n",
    "                            df_routes = df_routes.loc[df_routes.name == 'Arbres: Un passeig per l’Albereda', :]\n",
    "                        else:\n",
    "                            df_routes = df_routes.loc[df_routes.name == 'Arbres: Un viatge pel Mediterrani', :]\n",
    "                    elif i[1].type_route == 'historica':\n",
    "                         df_routes = df_routes.loc[df_routes.type == 'Històrica', :]\n",
    "                    elif i[1].type_route == 'patrimonio':\n",
    "                         df_routes = df_routes.loc[df_routes.type == 'Patrimonial', :]\n",
    "            else:\n",
    "                df_routes = df_routes.loc[df_routes.transport == 'bicicleta', :]\n",
    "                if i[1].difficulty == 'alta':\n",
    "                    df_routes = df_routes.loc[df_routes.dificulty == 'media', :]\n",
    "                else: \n",
    "                    df_routes = df_routes.loc[df_routes.dificulty == 'baja', :]\n",
    "                    if i[1].time > 1.5:\n",
    "                        df_routes = df_routes.loc[df_routes.duration == 120, :]\n",
    "                    else:\n",
    "                        df_routes = df_routes.loc[df_routes.duration == 90, :]\n",
    "        else:\n",
    "            df_routes = df_routes.loc[df_routes.age == 1, :]\n",
    "            if i[1].difficulty == 'alta':\n",
    "                df_routes = df_routes.loc[df_routes.dificulty == 'media', :]\n",
    "                if (i[1].accompaniment == 'solo'):\n",
    "                    df_routes = df_routes.loc[df_routes.name == \"Trinitat - L'Almodí\", :]\n",
    "                else:\n",
    "                    df_routes = df_routes.loc[df_routes.name == 'Glorieta-Santa Catalina', :]\n",
    "                    if i[1].type_route == 'turistica':\n",
    "                        df_routes['name'] = 'Arbres: Els indians'\n",
    "                    elif i[1].type_route == 'historica':\n",
    "                        df_routes['name'] = \"Arbres: Un passeig per l’Albereda\"\n",
    "                    elif i[1].type_route == 'literaria':\n",
    "                        df_routes['name'] = \"Arbres: Un viatge pel Mediterrani\"\n",
    "            else:\n",
    "                df_routes = df_routes.loc[df_routes.dificulty == 'baja', :]\n",
    "                if i[1].type_route == 'literaria':\n",
    "                    df_routes = df_routes.loc[df_routes.type == 'Literària', :]\n",
    "                    if (i[1].accompaniment == 'solo'):\n",
    "                        df_routes = df_routes.loc[df_routes.name == \"Contes Blasco Ibañez – Ruta 1\", :]\n",
    "                    else:\n",
    "                        df_routes = df_routes.loc[df_routes.name == 'Entre Naranjos', :]\n",
    "                elif i[1].type_route == 'turistica':\n",
    "                        df_routes = df_routes.loc[df_routes.type == 'Turística', :]\n",
    "                elif i[1].type_route == 'historica':\n",
    "                        df_routes = df_routes.loc[df_routes.type == 'Històrica', :]\n",
    "                elif i[1].type_route == 'patrimonio':\n",
    "                        df_routes = df_routes.loc[df_routes.type == 'Patrimonial', :]\n",
    "                        if i[1].time < 3.5:\n",
    "                            df_routes = df_routes.loc[df_routes.duration == 60, :]\n",
    "                        elif i[1].time > 5.5:\n",
    "                            df_routes = df_routes.loc[df_routes.duration == 420, :]\n",
    "                        else:\n",
    "                            df_routes = df_routes.loc[df_routes.duration == 360, :]\n",
    "        routes = list(df_routes.name)\n",
    "        df_users.loc[idx, 'route'] = np.random.choice(routes)          \n",
    "    return df_users"
   ]
  },
  {
   "cell_type": "code",
   "execution_count": 206,
   "metadata": {},
   "outputs": [],
   "source": [
    "df_fake = input_target(df_fake)"
   ]
  },
  {
   "cell_type": "code",
   "execution_count": 207,
   "metadata": {},
   "outputs": [
    {
     "data": {
      "text/plain": [
       "Trinitat - L'Almodí                               9415\n",
       "Arbres: La volta al món                           9399\n",
       "Ruta dels Pecats a l'entorn del Mercat Central    9340\n",
       "Arbres: Un viatge pel Mediterrani                 7951\n",
       "Arbres: Els indians                               7390\n",
       "Arbres: Un passeig per l’Albereda                 7364\n",
       "Glorieta-Santa Catalina                           7103\n",
       "Entre Naranjos                                    6928\n",
       "Ruta València amb bicicleta                       6318\n",
       "Ruta Carrer Russafa - la Llotja                   4724\n",
       "Arbres monumentals i singulars                    4568\n",
       "Contes Blasco Ibañez – Ruta 1                     2376\n",
       "Torres de Quart - Temple                          2345\n",
       "Sant Agustí - Portal Nou                          2286\n",
       "Ruta pel Centre Històric                          1882\n",
       "Serrans - Palau de la Generalitat                 1552\n",
       "Ruta Cultural Anell Ciclista                      1549\n",
       "Ruta Valencia en la Memòria                       1537\n",
       "Ruta recinte enmurallat d'època islàmica          1490\n",
       "Sant Agustí – Pont de Fusta                       1135\n",
       "Jardins del Reial - Glorieta                      1061\n",
       "Contes Blasco Ibañez – Ruta 2                      775\n",
       "La barraca                                         770\n",
       "Ruta de la Seda                                    742\n",
       "Name: route, dtype: int64"
      ]
     },
     "execution_count": 207,
     "metadata": {},
     "output_type": "execute_result"
    }
   ],
   "source": [
    "df_fake.route.value_counts()"
   ]
  },
  {
   "cell_type": "code",
   "execution_count": 208,
   "metadata": {},
   "outputs": [],
   "source": [
    "df_fake.to_csv('data/fake_users_data.csv', index=False)"
   ]
  }
 ],
 "metadata": {
  "kernelspec": {
   "display_name": "Python 3.8.13 ('desafio')",
   "language": "python",
   "name": "python3"
  },
  "language_info": {
   "codemirror_mode": {
    "name": "ipython",
    "version": 3
   },
   "file_extension": ".py",
   "mimetype": "text/x-python",
   "name": "python",
   "nbconvert_exporter": "python",
   "pygments_lexer": "ipython3",
   "version": "3.8.13"
  },
  "orig_nbformat": 4,
  "vscode": {
   "interpreter": {
    "hash": "5d04af2a4c2eebf185407e64277cc7655766a357171489808da903e927244626"
   }
  }
 },
 "nbformat": 4,
 "nbformat_minor": 2
}
