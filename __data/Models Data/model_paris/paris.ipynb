{
 "cells": [
  {
   "cell_type": "code",
   "execution_count": 223,
   "metadata": {},
   "outputs": [],
   "source": [
    "import pandas as pd\n",
    "import numpy as np\n",
    "import seaborn as sns\n",
    "import matplotlib.pyplot as plt\n",
    "from sklearn.model_selection import train_test_split\n",
    "from sklearn.metrics import accuracy_score, confusion_matrix"
   ]
  },
  {
   "cell_type": "code",
   "execution_count": 224,
   "metadata": {},
   "outputs": [],
   "source": [
    "df = pd.read_csv('fake_users_data.csv', index_col=0)"
   ]
  },
  {
   "cell_type": "code",
   "execution_count": 225,
   "metadata": {},
   "outputs": [],
   "source": [
    "df = pd.get_dummies(df, prefix=['age', 'gender', 'type', 'diff', 'comp', 'trans'], columns=['age', 'gender', 'type_route', 'difficulty','accompaniment', 'transport'])"
   ]
  },
  {
   "cell_type": "code",
   "execution_count": 226,
   "metadata": {},
   "outputs": [],
   "source": [
    "def mapping(x):\n",
    "    if x == 'Gratis':\n",
    "        return 1\n",
    "    elif x == '1-50 Euros':\n",
    "        return 2\n",
    "    elif x == '+50 Euros':\n",
    "        return 3\n",
    "    else:\n",
    "        return 9999\n",
    "\n",
    "df['price'] = df['price'].apply(mapping)"
   ]
  },
  {
   "cell_type": "code",
   "execution_count": 227,
   "metadata": {},
   "outputs": [],
   "source": [
    "routes_dictionary ={'Arbres monumentals i singulars':0,\n",
    "                    'Arbres: La volta al món':1,\n",
    "                    'Arbres: Els indians':2,\n",
    "                    'Arbres: Un passeig per l’Albereda':3,\n",
    "                    'Arbres: Un viatge pel Mediterrani':4,\n",
    "                    'Ruta Carrer Russafa - la Llotja':5,\n",
    "                    'Contes Blasco Ibañez – Ruta 1':6,\n",
    "                    'Contes Blasco Ibañez – Ruta 2':7,\n",
    "                    'Entre Naranjos':8,\n",
    "                    'Glorieta-Santa Catalina':9,\n",
    "                    'Jardins del Reial - Glorieta':10,\n",
    "                    'La barraca':11,\n",
    "                    'Ruta Cultural Anell Ciclista':12,\n",
    "                    'Ruta de la Seda':13,\n",
    "                    \"Ruta dels Pecats a l'entorn del Mercat Central\":14,\n",
    "                    'Ruta pel Centre Històric':15,\n",
    "                    \"Ruta recinte enmurallat d'època islàmica\":16,\n",
    "                    'Ruta València amb bicicleta':17,\n",
    "                    'Sant Agustí – Pont de Fusta':18,\n",
    "                    'Sant Agustí - Portal Nou':19,\n",
    "                    'Serrans - Palau de la Generalitat':20,\n",
    "                    'Torres de Quart - Temple':21,\n",
    "                    \"Trinitat - L'Almodí\":22,\n",
    "                    'Ruta Valencia en la Memòria':23,\n",
    "                    'No hay ruta':24}"
   ]
  },
  {
   "cell_type": "code",
   "execution_count": 228,
   "metadata": {},
   "outputs": [],
   "source": [
    "df = df.rename({'route_id':'route'}, axis=1)"
   ]
  },
  {
   "cell_type": "code",
   "execution_count": 229,
   "metadata": {},
   "outputs": [],
   "source": [
    "df['route_id'] = df['route'].map(routes_dictionary)"
   ]
  },
  {
   "cell_type": "code",
   "execution_count": 230,
   "metadata": {},
   "outputs": [],
   "source": [
    "X = df.drop(columns=['route_id','route'], axis=1)\n",
    "y = df[['route_id']]"
   ]
  },
  {
   "cell_type": "code",
   "execution_count": 231,
   "metadata": {},
   "outputs": [],
   "source": [
    "X_train,X_test,y_train,y_test = train_test_split(X, y, test_size=0.2, random_state=42)"
   ]
  },
  {
   "cell_type": "code",
   "execution_count": 232,
   "metadata": {},
   "outputs": [],
   "source": [
    "from sklearn.linear_model import LogisticRegression\n",
    "log = LogisticRegression()\n",
    "\n",
    "from sklearn.tree import DecisionTreeClassifier\n",
    "tree = DecisionTreeClassifier(max_depth=3, random_state=42)\n",
    "\n",
    "from sklearn.ensemble import RandomForestClassifier\n",
    "forest = RandomForestClassifier(n_estimators=500, max_leaf_nodes=16, random_state=42)\n",
    "\n",
    "from sklearn.ensemble import AdaBoostClassifier\n",
    "from sklearn.tree import DecisionTreeClassifier\n",
    "estimator = DecisionTreeClassifier(max_depth=3)\n",
    "ada = AdaBoostClassifier(base_estimator = estimator, n_estimators=200, learning_rate=0.5, random_state=42)\n",
    "\n",
    "from sklearn.ensemble import GradientBoostingClassifier\n",
    "gbct = GradientBoostingClassifier(max_depth=3, n_estimators=100, random_state=42)\n",
    "\n",
    "from xgboost import XGBRFClassifier\n",
    "xgb = XGBRFClassifier(random_state=42)\n",
    "\n",
    "from lightgbm import LGBMClassifier\n",
    "lgb = LGBMClassifier()\n",
    "\n",
    "from catboost import CatBoostClassifier\n",
    "cat = CatBoostClassifier(verbose=0)"
   ]
  },
  {
   "cell_type": "code",
   "execution_count": 233,
   "metadata": {},
   "outputs": [
    {
     "name": "stderr",
     "output_type": "stream",
     "text": [
      "c:\\Users\\Paris\\anaconda3\\envs\\desafio\\lib\\site-packages\\sklearn\\utils\\validation.py:1111: DataConversionWarning: A column-vector y was passed when a 1d array was expected. Please change the shape of y to (n_samples, ), for example using ravel().\n",
      "  y = column_or_1d(y, warn=True)\n",
      "c:\\Users\\Paris\\anaconda3\\envs\\desafio\\lib\\site-packages\\sklearn\\linear_model\\_logistic.py:444: ConvergenceWarning: lbfgs failed to converge (status=1):\n",
      "STOP: TOTAL NO. of ITERATIONS REACHED LIMIT.\n",
      "\n",
      "Increase the number of iterations (max_iter) or scale the data as shown in:\n",
      "    https://scikit-learn.org/stable/modules/preprocessing.html\n",
      "Please also refer to the documentation for alternative solver options:\n",
      "    https://scikit-learn.org/stable/modules/linear_model.html#logistic-regression\n",
      "  n_iter_i = _check_optimize_result(\n",
      "C:\\Users\\Paris\\AppData\\Local\\Temp\\ipykernel_10668\\2367934231.py:6: DataConversionWarning: A column-vector y was passed when a 1d array was expected. Please change the shape of y to (n_samples,), for example using ravel().\n",
      "  model.fit(X_train,y_train)\n",
      "c:\\Users\\Paris\\anaconda3\\envs\\desafio\\lib\\site-packages\\sklearn\\utils\\validation.py:1111: DataConversionWarning: A column-vector y was passed when a 1d array was expected. Please change the shape of y to (n_samples, ), for example using ravel().\n",
      "  y = column_or_1d(y, warn=True)\n",
      "c:\\Users\\Paris\\anaconda3\\envs\\desafio\\lib\\site-packages\\sklearn\\ensemble\\_gb.py:570: DataConversionWarning: A column-vector y was passed when a 1d array was expected. Please change the shape of y to (n_samples, ), for example using ravel().\n",
      "  y = column_or_1d(y, warn=True)\n",
      "c:\\Users\\Paris\\anaconda3\\envs\\desafio\\lib\\site-packages\\sklearn\\preprocessing\\_label.py:98: DataConversionWarning: A column-vector y was passed when a 1d array was expected. Please change the shape of y to (n_samples, ), for example using ravel().\n",
      "  y = column_or_1d(y, warn=True)\n",
      "c:\\Users\\Paris\\anaconda3\\envs\\desafio\\lib\\site-packages\\sklearn\\preprocessing\\_label.py:133: DataConversionWarning: A column-vector y was passed when a 1d array was expected. Please change the shape of y to (n_samples, ), for example using ravel().\n",
      "  y = column_or_1d(y, warn=True)\n"
     ]
    }
   ],
   "source": [
    "models = [log, tree, forest, ada, gbct, cat, lgb, xgb]\n",
    "names = ['Logistic', 'Decision Tree', 'Random Forest', 'AdaBoost', 'Gradient Boosting', 'CatBoost', 'Lightgbm', 'XGBoost']\n",
    "scores = []\n",
    "predictions = {}\n",
    "for idx, model in enumerate(models):\n",
    "    model.fit(X_train,y_train)\n",
    "    y_pred = model.predict(X_test)\n",
    "    predictions[names[idx]] = y_pred\n",
    "    scores.append(accuracy_score(y_pred, y_test))"
   ]
  },
  {
   "cell_type": "code",
   "execution_count": 234,
   "metadata": {},
   "outputs": [
    {
     "data": {
      "text/html": [
       "<div>\n",
       "<style scoped>\n",
       "    .dataframe tbody tr th:only-of-type {\n",
       "        vertical-align: middle;\n",
       "    }\n",
       "\n",
       "    .dataframe tbody tr th {\n",
       "        vertical-align: top;\n",
       "    }\n",
       "\n",
       "    .dataframe thead th {\n",
       "        text-align: right;\n",
       "    }\n",
       "</style>\n",
       "<table border=\"1\" class=\"dataframe\">\n",
       "  <thead>\n",
       "    <tr style=\"text-align: right;\">\n",
       "      <th></th>\n",
       "      <th>Accuracy</th>\n",
       "    </tr>\n",
       "  </thead>\n",
       "  <tbody>\n",
       "    <tr>\n",
       "      <th>XGBoost</th>\n",
       "      <td>0.704000</td>\n",
       "    </tr>\n",
       "    <tr>\n",
       "      <th>Logistic</th>\n",
       "      <td>0.702667</td>\n",
       "    </tr>\n",
       "    <tr>\n",
       "      <th>Lightgbm</th>\n",
       "      <td>0.700333</td>\n",
       "    </tr>\n",
       "    <tr>\n",
       "      <th>Gradient Boosting</th>\n",
       "      <td>0.699500</td>\n",
       "    </tr>\n",
       "    <tr>\n",
       "      <th>AdaBoost</th>\n",
       "      <td>0.699000</td>\n",
       "    </tr>\n",
       "    <tr>\n",
       "      <th>CatBoost</th>\n",
       "      <td>0.697667</td>\n",
       "    </tr>\n",
       "    <tr>\n",
       "      <th>Random Forest</th>\n",
       "      <td>0.692000</td>\n",
       "    </tr>\n",
       "    <tr>\n",
       "      <th>Decision Tree</th>\n",
       "      <td>0.519667</td>\n",
       "    </tr>\n",
       "  </tbody>\n",
       "</table>\n",
       "</div>"
      ],
      "text/plain": [
       "                   Accuracy\n",
       "XGBoost            0.704000\n",
       "Logistic           0.702667\n",
       "Lightgbm           0.700333\n",
       "Gradient Boosting  0.699500\n",
       "AdaBoost           0.699000\n",
       "CatBoost           0.697667\n",
       "Random Forest      0.692000\n",
       "Decision Tree      0.519667"
      ]
     },
     "execution_count": 234,
     "metadata": {},
     "output_type": "execute_result"
    }
   ],
   "source": [
    "names = ['Logistic', 'Decision Tree', 'Random Forest', 'AdaBoost', 'Gradient Boosting', 'CatBoost', 'Lightgbm', 'XGBoost']\n",
    "pd.DataFrame(scores, index=names, columns=['Accuracy']).sort_values(by='Accuracy', ascending=False)"
   ]
  },
  {
   "cell_type": "code",
   "execution_count": 235,
   "metadata": {},
   "outputs": [
    {
     "data": {
      "text/html": [
       "<div>\n",
       "<style scoped>\n",
       "    .dataframe tbody tr th:only-of-type {\n",
       "        vertical-align: middle;\n",
       "    }\n",
       "\n",
       "    .dataframe tbody tr th {\n",
       "        vertical-align: top;\n",
       "    }\n",
       "\n",
       "    .dataframe thead th {\n",
       "        text-align: right;\n",
       "    }\n",
       "</style>\n",
       "<table border=\"1\" class=\"dataframe\">\n",
       "  <thead>\n",
       "    <tr style=\"text-align: right;\">\n",
       "      <th></th>\n",
       "      <th>feature_importance</th>\n",
       "    </tr>\n",
       "  </thead>\n",
       "  <tbody>\n",
       "    <tr>\n",
       "      <th>diff_Alta</th>\n",
       "      <td>28.688936</td>\n",
       "    </tr>\n",
       "    <tr>\n",
       "      <th>age_18-35</th>\n",
       "      <td>24.270747</td>\n",
       "    </tr>\n",
       "    <tr>\n",
       "      <th>type_Turistica</th>\n",
       "      <td>8.523921</td>\n",
       "    </tr>\n",
       "    <tr>\n",
       "      <th>type_Historica</th>\n",
       "      <td>8.488202</td>\n",
       "    </tr>\n",
       "    <tr>\n",
       "      <th>type_Patrimonio</th>\n",
       "      <td>6.761074</td>\n",
       "    </tr>\n",
       "    <tr>\n",
       "      <th>trans_A Pie</th>\n",
       "      <td>6.635629</td>\n",
       "    </tr>\n",
       "    <tr>\n",
       "      <th>diff_Baja</th>\n",
       "      <td>6.567617</td>\n",
       "    </tr>\n",
       "    <tr>\n",
       "      <th>type_Literaria</th>\n",
       "      <td>2.664253</td>\n",
       "    </tr>\n",
       "    <tr>\n",
       "      <th>time</th>\n",
       "      <td>2.456156</td>\n",
       "    </tr>\n",
       "    <tr>\n",
       "      <th>trans_Bicicleta</th>\n",
       "      <td>1.622730</td>\n",
       "    </tr>\n",
       "    <tr>\n",
       "      <th>age_35-45</th>\n",
       "      <td>0.557437</td>\n",
       "    </tr>\n",
       "    <tr>\n",
       "      <th>price</th>\n",
       "      <td>0.496386</td>\n",
       "    </tr>\n",
       "    <tr>\n",
       "      <th>age_0-18</th>\n",
       "      <td>0.495320</td>\n",
       "    </tr>\n",
       "    <tr>\n",
       "      <th>age_+45</th>\n",
       "      <td>0.464639</td>\n",
       "    </tr>\n",
       "    <tr>\n",
       "      <th>comp_Pareja</th>\n",
       "      <td>0.207870</td>\n",
       "    </tr>\n",
       "    <tr>\n",
       "      <th>comp_Amigos</th>\n",
       "      <td>0.201224</td>\n",
       "    </tr>\n",
       "    <tr>\n",
       "      <th>comp_Familia</th>\n",
       "      <td>0.198050</td>\n",
       "    </tr>\n",
       "    <tr>\n",
       "      <th>gender_Otro</th>\n",
       "      <td>0.185555</td>\n",
       "    </tr>\n",
       "    <tr>\n",
       "      <th>comp_Solo</th>\n",
       "      <td>0.184380</td>\n",
       "    </tr>\n",
       "    <tr>\n",
       "      <th>gender_Hombre</th>\n",
       "      <td>0.167711</td>\n",
       "    </tr>\n",
       "    <tr>\n",
       "      <th>gender_Mujer</th>\n",
       "      <td>0.162163</td>\n",
       "    </tr>\n",
       "  </tbody>\n",
       "</table>\n",
       "</div>"
      ],
      "text/plain": [
       "                 feature_importance\n",
       "diff_Alta                 28.688936\n",
       "age_18-35                 24.270747\n",
       "type_Turistica             8.523921\n",
       "type_Historica             8.488202\n",
       "type_Patrimonio            6.761074\n",
       "trans_A Pie                6.635629\n",
       "diff_Baja                  6.567617\n",
       "type_Literaria             2.664253\n",
       "time                       2.456156\n",
       "trans_Bicicleta            1.622730\n",
       "age_35-45                  0.557437\n",
       "price                      0.496386\n",
       "age_0-18                   0.495320\n",
       "age_+45                    0.464639\n",
       "comp_Pareja                0.207870\n",
       "comp_Amigos                0.201224\n",
       "comp_Familia               0.198050\n",
       "gender_Otro                0.185555\n",
       "comp_Solo                  0.184380\n",
       "gender_Hombre              0.167711\n",
       "gender_Mujer               0.162163"
      ]
     },
     "execution_count": 235,
     "metadata": {},
     "output_type": "execute_result"
    }
   ],
   "source": [
    "df_feature = pd.DataFrame(cat.get_feature_importance(), index=X.columns, columns=['feature_importance']).sort_values(by='feature_importance', ascending=False)\n",
    "df_feature"
   ]
  }
 ],
 "metadata": {
  "kernelspec": {
   "display_name": "Python 3.8.13 ('desafio')",
   "language": "python",
   "name": "python3"
  },
  "language_info": {
   "codemirror_mode": {
    "name": "ipython",
    "version": 3
   },
   "file_extension": ".py",
   "mimetype": "text/x-python",
   "name": "python",
   "nbconvert_exporter": "python",
   "pygments_lexer": "ipython3",
   "version": "3.8.13"
  },
  "orig_nbformat": 4,
  "vscode": {
   "interpreter": {
    "hash": "5d04af2a4c2eebf185407e64277cc7655766a357171489808da903e927244626"
   }
  }
 },
 "nbformat": 4,
 "nbformat_minor": 2
}
