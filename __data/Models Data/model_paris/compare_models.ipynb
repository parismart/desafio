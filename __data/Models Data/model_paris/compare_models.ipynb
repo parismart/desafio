{
 "cells": [
  {
   "cell_type": "code",
   "execution_count": 56,
   "metadata": {},
   "outputs": [],
   "source": [
    "import pandas as pd\n",
    "import numpy as np\n",
    "from sklearn.model_selection import train_test_split\n",
    "from sklearn.metrics import accuracy_score, confusion_matrix"
   ]
  },
  {
   "cell_type": "code",
   "execution_count": 57,
   "metadata": {},
   "outputs": [],
   "source": [
    "df = pd.read_csv('data/fake_users_data.csv')"
   ]
  },
  {
   "cell_type": "code",
   "execution_count": 58,
   "metadata": {},
   "outputs": [],
   "source": [
    "df = pd.get_dummies(df, prefix=['age', 'gender', 'type', 'diff', 'comp', 'trans'], columns=['age', 'gender', 'type_route', 'difficulty','accompaniment', 'transport'])"
   ]
  },
  {
   "cell_type": "code",
   "execution_count": 59,
   "metadata": {},
   "outputs": [],
   "source": [
    "routes_dictionary ={'Arbres monumentals i singulars':0,\n",
    "                    'Arbres: La volta al món':1,\n",
    "                    'Arbres: Els indians':2,\n",
    "                    'Arbres: Un passeig per l’Albereda':3,\n",
    "                    'Arbres: Un viatge pel Mediterrani':4,\n",
    "                    'Ruta Carrer Russafa - la Llotja':5,\n",
    "                    'Contes Blasco Ibañez – Ruta 1':6,\n",
    "                    'Contes Blasco Ibañez – Ruta 2':7,\n",
    "                    'Entre Naranjos':8,\n",
    "                    'Glorieta-Santa Catalina':9,\n",
    "                    'Jardins del Reial - Glorieta':10,\n",
    "                    'La barraca':11,\n",
    "                    'Ruta Cultural Anell Ciclista':12,\n",
    "                    'Ruta de la Seda':13,\n",
    "                    \"Ruta dels Pecats a l'entorn del Mercat Central\":14,\n",
    "                    'Ruta pel Centre Històric':15,\n",
    "                    \"Ruta recinte enmurallat d'època islàmica\":16,\n",
    "                    'Ruta València amb bicicleta':17,\n",
    "                    'Sant Agustí – Pont de Fusta':18,\n",
    "                    'Sant Agustí - Portal Nou':19,\n",
    "                    'Serrans - Palau de la Generalitat':20,\n",
    "                    'Torres de Quart - Temple':21,\n",
    "                    \"Trinitat - L'Almodí\":22,\n",
    "                    'Ruta Valencia en la Memòria':23}"
   ]
  },
  {
   "cell_type": "code",
   "execution_count": 60,
   "metadata": {},
   "outputs": [],
   "source": [
    "df['route_id'] = df['route'].map(routes_dictionary)"
   ]
  },
  {
   "cell_type": "code",
   "execution_count": 61,
   "metadata": {},
   "outputs": [],
   "source": [
    "X = df.drop(columns=['route_id','route'], axis=1)\n",
    "y = df[['route_id']]"
   ]
  },
  {
   "cell_type": "code",
   "execution_count": 62,
   "metadata": {},
   "outputs": [],
   "source": [
    "X_train,X_test,y_train,y_test = train_test_split(X, y, test_size=0.2, random_state=42)"
   ]
  },
  {
   "cell_type": "code",
   "execution_count": 63,
   "metadata": {},
   "outputs": [],
   "source": [
    "from sklearn.linear_model import LogisticRegression\n",
    "log = LogisticRegression()\n",
    "\n",
    "from sklearn.tree import DecisionTreeClassifier\n",
    "tree = DecisionTreeClassifier(max_depth=3, random_state=42)\n",
    "\n",
    "from sklearn.ensemble import RandomForestClassifier\n",
    "forest = RandomForestClassifier(n_estimators=500, max_leaf_nodes=16, random_state=42)\n",
    "\n",
    "from sklearn.ensemble import AdaBoostClassifier\n",
    "from sklearn.tree import DecisionTreeClassifier\n",
    "estimator = DecisionTreeClassifier(max_depth=3)\n",
    "ada = AdaBoostClassifier(base_estimator = estimator, n_estimators=200, learning_rate=0.5, random_state=42)\n",
    "\n",
    "from sklearn.ensemble import GradientBoostingClassifier\n",
    "gbct = GradientBoostingClassifier(max_depth=3, n_estimators=100, random_state=42)\n",
    "\n",
    "from xgboost import XGBRFClassifier\n",
    "xgb = XGBRFClassifier(random_state=42)\n",
    "\n",
    "from lightgbm import LGBMClassifier\n",
    "lgb = LGBMClassifier()\n",
    "\n",
    "from catboost import CatBoostClassifier\n",
    "cat = CatBoostClassifier(verbose=0)"
   ]
  },
  {
   "cell_type": "code",
   "execution_count": 64,
   "metadata": {},
   "outputs": [],
   "source": [
    "# from sklearn.ensemble import VotingClassifier\n",
    "# estimators = [('xgb', xgb), ('lgb', lgb)]\n",
    "# voting = VotingClassifier(estimators=estimators, voting='soft')"
   ]
  },
  {
   "cell_type": "code",
   "execution_count": 65,
   "metadata": {},
   "outputs": [],
   "source": [
    "# voting.fit(X_train,y_train)\n",
    "# y_pred = voting.predict(X_test)\n",
    "# accuracy_score(y_pred, y_test)"
   ]
  },
  {
   "cell_type": "code",
   "execution_count": 66,
   "metadata": {},
   "outputs": [
    {
     "name": "stderr",
     "output_type": "stream",
     "text": [
      "c:\\Users\\Paris\\anaconda3\\envs\\desafio\\lib\\site-packages\\sklearn\\utils\\validation.py:1111: DataConversionWarning: A column-vector y was passed when a 1d array was expected. Please change the shape of y to (n_samples, ), for example using ravel().\n",
      "  y = column_or_1d(y, warn=True)\n",
      "c:\\Users\\Paris\\anaconda3\\envs\\desafio\\lib\\site-packages\\sklearn\\linear_model\\_logistic.py:444: ConvergenceWarning: lbfgs failed to converge (status=1):\n",
      "STOP: TOTAL NO. of ITERATIONS REACHED LIMIT.\n",
      "\n",
      "Increase the number of iterations (max_iter) or scale the data as shown in:\n",
      "    https://scikit-learn.org/stable/modules/preprocessing.html\n",
      "Please also refer to the documentation for alternative solver options:\n",
      "    https://scikit-learn.org/stable/modules/linear_model.html#logistic-regression\n",
      "  n_iter_i = _check_optimize_result(\n",
      "C:\\Users\\Paris\\AppData\\Local\\Temp\\ipykernel_3984\\2367934231.py:6: DataConversionWarning: A column-vector y was passed when a 1d array was expected. Please change the shape of y to (n_samples,), for example using ravel().\n",
      "  model.fit(X_train,y_train)\n",
      "c:\\Users\\Paris\\anaconda3\\envs\\desafio\\lib\\site-packages\\sklearn\\utils\\validation.py:1111: DataConversionWarning: A column-vector y was passed when a 1d array was expected. Please change the shape of y to (n_samples, ), for example using ravel().\n",
      "  y = column_or_1d(y, warn=True)\n",
      "c:\\Users\\Paris\\anaconda3\\envs\\desafio\\lib\\site-packages\\sklearn\\ensemble\\_gb.py:570: DataConversionWarning: A column-vector y was passed when a 1d array was expected. Please change the shape of y to (n_samples, ), for example using ravel().\n",
      "  y = column_or_1d(y, warn=True)\n",
      "c:\\Users\\Paris\\anaconda3\\envs\\desafio\\lib\\site-packages\\sklearn\\preprocessing\\_label.py:98: DataConversionWarning: A column-vector y was passed when a 1d array was expected. Please change the shape of y to (n_samples, ), for example using ravel().\n",
      "  y = column_or_1d(y, warn=True)\n",
      "c:\\Users\\Paris\\anaconda3\\envs\\desafio\\lib\\site-packages\\sklearn\\preprocessing\\_label.py:133: DataConversionWarning: A column-vector y was passed when a 1d array was expected. Please change the shape of y to (n_samples, ), for example using ravel().\n",
      "  y = column_or_1d(y, warn=True)\n"
     ]
    }
   ],
   "source": [
    "models = [log, tree, forest, ada, gbct, cat, lgb, xgb]\n",
    "names = ['Logistic', 'Decision Tree', 'Random Forest', 'AdaBoost', 'Gradient Boosting', 'CatBoost', 'Lightgbm', 'XGBoost']\n",
    "scores = []\n",
    "predictions = {}\n",
    "for idx, model in enumerate(models):\n",
    "    model.fit(X_train,y_train)\n",
    "    y_pred = model.predict(X_test)\n",
    "    predictions[names[idx]] = y_pred\n",
    "    scores.append(accuracy_score(y_pred, y_test))"
   ]
  },
  {
   "cell_type": "code",
   "execution_count": 67,
   "metadata": {},
   "outputs": [
    {
     "name": "stderr",
     "output_type": "stream",
     "text": [
      "c:\\Users\\Paris\\anaconda3\\envs\\desafio\\lib\\site-packages\\sklearn\\neural_network\\_multilayer_perceptron.py:1118: DataConversionWarning: A column-vector y was passed when a 1d array was expected. Please change the shape of y to (n_samples, ), for example using ravel().\n",
      "  y = column_or_1d(y, warn=True)\n"
     ]
    }
   ],
   "source": [
    "from sklearn.neural_network import MLPClassifier\n",
    "mlp = MLPClassifier(random_state=42)\n",
    "mlp.fit(X_train, y_train)\n",
    "scores.append(mlp.score(X_test, y_test))"
   ]
  },
  {
   "cell_type": "code",
   "execution_count": 68,
   "metadata": {},
   "outputs": [
    {
     "data": {
      "text/html": [
       "<div>\n",
       "<style scoped>\n",
       "    .dataframe tbody tr th:only-of-type {\n",
       "        vertical-align: middle;\n",
       "    }\n",
       "\n",
       "    .dataframe tbody tr th {\n",
       "        vertical-align: top;\n",
       "    }\n",
       "\n",
       "    .dataframe thead th {\n",
       "        text-align: right;\n",
       "    }\n",
       "</style>\n",
       "<table border=\"1\" class=\"dataframe\">\n",
       "  <thead>\n",
       "    <tr style=\"text-align: right;\">\n",
       "      <th></th>\n",
       "      <th>Accuracy</th>\n",
       "    </tr>\n",
       "  </thead>\n",
       "  <tbody>\n",
       "    <tr>\n",
       "      <th>Lightgbm</th>\n",
       "      <td>0.748000</td>\n",
       "    </tr>\n",
       "    <tr>\n",
       "      <th>MLP</th>\n",
       "      <td>0.745833</td>\n",
       "    </tr>\n",
       "    <tr>\n",
       "      <th>XGBoost</th>\n",
       "      <td>0.745333</td>\n",
       "    </tr>\n",
       "    <tr>\n",
       "      <th>AdaBoost</th>\n",
       "      <td>0.744667</td>\n",
       "    </tr>\n",
       "    <tr>\n",
       "      <th>Gradient Boosting</th>\n",
       "      <td>0.743833</td>\n",
       "    </tr>\n",
       "    <tr>\n",
       "      <th>CatBoost</th>\n",
       "      <td>0.743000</td>\n",
       "    </tr>\n",
       "    <tr>\n",
       "      <th>Logistic</th>\n",
       "      <td>0.735667</td>\n",
       "    </tr>\n",
       "    <tr>\n",
       "      <th>Random Forest</th>\n",
       "      <td>0.693667</td>\n",
       "    </tr>\n",
       "    <tr>\n",
       "      <th>Decision Tree</th>\n",
       "      <td>0.519000</td>\n",
       "    </tr>\n",
       "  </tbody>\n",
       "</table>\n",
       "</div>"
      ],
      "text/plain": [
       "                   Accuracy\n",
       "Lightgbm           0.748000\n",
       "MLP                0.745833\n",
       "XGBoost            0.745333\n",
       "AdaBoost           0.744667\n",
       "Gradient Boosting  0.743833\n",
       "CatBoost           0.743000\n",
       "Logistic           0.735667\n",
       "Random Forest      0.693667\n",
       "Decision Tree      0.519000"
      ]
     },
     "execution_count": 68,
     "metadata": {},
     "output_type": "execute_result"
    }
   ],
   "source": [
    "names = ['Logistic', 'Decision Tree', 'Random Forest', 'AdaBoost', 'Gradient Boosting', 'CatBoost', 'Lightgbm', 'XGBoost', 'MLP']\n",
    "pd.DataFrame(scores, index=names, columns=['Accuracy']).sort_values(by='Accuracy', ascending=False)"
   ]
  },
  {
   "cell_type": "code",
   "execution_count": 69,
   "metadata": {},
   "outputs": [
    {
     "data": {
      "text/html": [
       "<div>\n",
       "<style scoped>\n",
       "    .dataframe tbody tr th:only-of-type {\n",
       "        vertical-align: middle;\n",
       "    }\n",
       "\n",
       "    .dataframe tbody tr th {\n",
       "        vertical-align: top;\n",
       "    }\n",
       "\n",
       "    .dataframe thead th {\n",
       "        text-align: right;\n",
       "    }\n",
       "</style>\n",
       "<table border=\"1\" class=\"dataframe\">\n",
       "  <thead>\n",
       "    <tr style=\"text-align: right;\">\n",
       "      <th></th>\n",
       "      <th>feature_importance</th>\n",
       "    </tr>\n",
       "  </thead>\n",
       "  <tbody>\n",
       "    <tr>\n",
       "      <th>diff_alta</th>\n",
       "      <td>29.038276</td>\n",
       "    </tr>\n",
       "    <tr>\n",
       "      <th>age_18-35</th>\n",
       "      <td>23.500808</td>\n",
       "    </tr>\n",
       "    <tr>\n",
       "      <th>type_turistica</th>\n",
       "      <td>8.116513</td>\n",
       "    </tr>\n",
       "    <tr>\n",
       "      <th>type_historica</th>\n",
       "      <td>7.997408</td>\n",
       "    </tr>\n",
       "    <tr>\n",
       "      <th>diff_baja</th>\n",
       "      <td>6.940360</td>\n",
       "    </tr>\n",
       "    <tr>\n",
       "      <th>trans_a pie</th>\n",
       "      <td>6.228597</td>\n",
       "    </tr>\n",
       "    <tr>\n",
       "      <th>type_patrimonio</th>\n",
       "      <td>6.045688</td>\n",
       "    </tr>\n",
       "    <tr>\n",
       "      <th>time</th>\n",
       "      <td>3.854381</td>\n",
       "    </tr>\n",
       "    <tr>\n",
       "      <th>type_literaria</th>\n",
       "      <td>2.501717</td>\n",
       "    </tr>\n",
       "    <tr>\n",
       "      <th>trans_bicicleta</th>\n",
       "      <td>1.926458</td>\n",
       "    </tr>\n",
       "    <tr>\n",
       "      <th>price</th>\n",
       "      <td>0.531316</td>\n",
       "    </tr>\n",
       "    <tr>\n",
       "      <th>comp_pareja</th>\n",
       "      <td>0.471064</td>\n",
       "    </tr>\n",
       "    <tr>\n",
       "      <th>comp_solo</th>\n",
       "      <td>0.458081</td>\n",
       "    </tr>\n",
       "    <tr>\n",
       "      <th>age_0-18</th>\n",
       "      <td>0.457130</td>\n",
       "    </tr>\n",
       "    <tr>\n",
       "      <th>age_+45</th>\n",
       "      <td>0.418662</td>\n",
       "    </tr>\n",
       "    <tr>\n",
       "      <th>age_35-45</th>\n",
       "      <td>0.367635</td>\n",
       "    </tr>\n",
       "    <tr>\n",
       "      <th>comp_amigos</th>\n",
       "      <td>0.305977</td>\n",
       "    </tr>\n",
       "    <tr>\n",
       "      <th>comp_familia</th>\n",
       "      <td>0.278492</td>\n",
       "    </tr>\n",
       "    <tr>\n",
       "      <th>gender_hombre</th>\n",
       "      <td>0.211710</td>\n",
       "    </tr>\n",
       "    <tr>\n",
       "      <th>gender_otro</th>\n",
       "      <td>0.186854</td>\n",
       "    </tr>\n",
       "    <tr>\n",
       "      <th>gender_mujer</th>\n",
       "      <td>0.162875</td>\n",
       "    </tr>\n",
       "  </tbody>\n",
       "</table>\n",
       "</div>"
      ],
      "text/plain": [
       "                 feature_importance\n",
       "diff_alta                 29.038276\n",
       "age_18-35                 23.500808\n",
       "type_turistica             8.116513\n",
       "type_historica             7.997408\n",
       "diff_baja                  6.940360\n",
       "trans_a pie                6.228597\n",
       "type_patrimonio            6.045688\n",
       "time                       3.854381\n",
       "type_literaria             2.501717\n",
       "trans_bicicleta            1.926458\n",
       "price                      0.531316\n",
       "comp_pareja                0.471064\n",
       "comp_solo                  0.458081\n",
       "age_0-18                   0.457130\n",
       "age_+45                    0.418662\n",
       "age_35-45                  0.367635\n",
       "comp_amigos                0.305977\n",
       "comp_familia               0.278492\n",
       "gender_hombre              0.211710\n",
       "gender_otro                0.186854\n",
       "gender_mujer               0.162875"
      ]
     },
     "execution_count": 69,
     "metadata": {},
     "output_type": "execute_result"
    }
   ],
   "source": [
    "df_feature = pd.DataFrame(cat.get_feature_importance(), index=X.columns, columns=['feature_importance']).sort_values(by='feature_importance', ascending=False)\n",
    "df_feature"
   ]
  }
 ],
 "metadata": {
  "kernelspec": {
   "display_name": "Python 3.8.13 ('desafio')",
   "language": "python",
   "name": "python3"
  },
  "language_info": {
   "codemirror_mode": {
    "name": "ipython",
    "version": 3
   },
   "file_extension": ".py",
   "mimetype": "text/x-python",
   "name": "python",
   "nbconvert_exporter": "python",
   "pygments_lexer": "ipython3",
   "version": "3.8.13"
  },
  "orig_nbformat": 4,
  "vscode": {
   "interpreter": {
    "hash": "5d04af2a4c2eebf185407e64277cc7655766a357171489808da903e927244626"
   }
  }
 },
 "nbformat": 4,
 "nbformat_minor": 2
}
