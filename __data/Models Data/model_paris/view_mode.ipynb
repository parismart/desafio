{
 "cells": [
  {
   "cell_type": "code",
   "execution_count": 435,
   "metadata": {},
   "outputs": [],
   "source": [
    "import pandas as pd\n",
    "import numpy as np"
   ]
  },
  {
   "cell_type": "code",
   "execution_count": 436,
   "metadata": {},
   "outputs": [],
   "source": [
    "df = pd.read_csv('fake_users_data.csv', index_col=0)"
   ]
  },
  {
   "cell_type": "code",
   "execution_count": 437,
   "metadata": {},
   "outputs": [],
   "source": [
    "features = ['time', 'price', 'age_+45', 'age_0-18', 'age_18-35',\n",
    "       'age_35-45', 'gender_Hombre', 'gender_Mujer',\n",
    "       'gender_Otro', 'type_Histórica', 'type_Literaria',\n",
    "       'type_Patrimonio', 'type_Turística', 'diff_Alta', 'diff_Baja',\n",
    "       'comp_Amigos', 'comp_Familia', 'comp_Pareja', 'comp_Solo',\n",
    "       'trans_Bicicleta', 'trans_A Pie']"
   ]
  },
  {
   "cell_type": "code",
   "execution_count": 438,
   "metadata": {},
   "outputs": [],
   "source": [
    "get_user = (1, '35-45', 'Mujer', 3.5, 'Histórica', 'Gratis', 'Baja', 'Solo', 'A Pie', '15:00:55.655112')"
   ]
  },
  {
   "cell_type": "code",
   "execution_count": 439,
   "metadata": {},
   "outputs": [
    {
     "data": {
      "text/plain": [
       "array([['35-45', 'Mujer', '3.5', 'Histórica', 'Gratis', 'Baja', 'Solo',\n",
       "        'A Pie']], dtype='<U32')"
      ]
     },
     "execution_count": 439,
     "metadata": {},
     "output_type": "execute_result"
    }
   ],
   "source": [
    "get_user = np.array(get_user[1:-1]).reshape(1,8)\n",
    "get_user"
   ]
  },
  {
   "cell_type": "code",
   "execution_count": 440,
   "metadata": {},
   "outputs": [
    {
     "data": {
      "text/html": [
       "<div>\n",
       "<style scoped>\n",
       "    .dataframe tbody tr th:only-of-type {\n",
       "        vertical-align: middle;\n",
       "    }\n",
       "\n",
       "    .dataframe tbody tr th {\n",
       "        vertical-align: top;\n",
       "    }\n",
       "\n",
       "    .dataframe thead th {\n",
       "        text-align: right;\n",
       "    }\n",
       "</style>\n",
       "<table border=\"1\" class=\"dataframe\">\n",
       "  <thead>\n",
       "    <tr style=\"text-align: right;\">\n",
       "      <th></th>\n",
       "      <th>age</th>\n",
       "      <th>gender</th>\n",
       "      <th>time</th>\n",
       "      <th>type_route</th>\n",
       "      <th>price</th>\n",
       "      <th>difficulty</th>\n",
       "      <th>accompaniment</th>\n",
       "      <th>transport</th>\n",
       "    </tr>\n",
       "  </thead>\n",
       "  <tbody>\n",
       "    <tr>\n",
       "      <th>1</th>\n",
       "      <td>35-45</td>\n",
       "      <td>Mujer</td>\n",
       "      <td>3.5</td>\n",
       "      <td>Histórica</td>\n",
       "      <td>Gratis</td>\n",
       "      <td>Baja</td>\n",
       "      <td>Solo</td>\n",
       "      <td>A Pie</td>\n",
       "    </tr>\n",
       "  </tbody>\n",
       "</table>\n",
       "</div>"
      ],
      "text/plain": [
       "     age gender time type_route   price difficulty accompaniment transport\n",
       "1  35-45  Mujer  3.5  Histórica  Gratis       Baja          Solo     A Pie"
      ]
     },
     "execution_count": 440,
     "metadata": {},
     "output_type": "execute_result"
    }
   ],
   "source": [
    "user = pd.DataFrame(data = get_user, index = ['1'], columns = ['age', 'gender', 'time', 'type_route', 'price', 'difficulty',\n",
    "       'accompaniment', 'transport'])\n",
    "user"
   ]
  },
  {
   "cell_type": "code",
   "execution_count": 442,
   "metadata": {},
   "outputs": [],
   "source": [
    "user = pd.get_dummies(user, prefix=['age', 'gender', 'type', 'diff', 'comp', 'trans'], columns=['age', 'gender', 'type_route', 'difficulty','accompaniment', 'transport'])"
   ]
  },
  {
   "cell_type": "code",
   "execution_count": 443,
   "metadata": {},
   "outputs": [],
   "source": [
    "user = pd.DataFrame(data = user, columns=features)"
   ]
  },
  {
   "cell_type": "code",
   "execution_count": 444,
   "metadata": {},
   "outputs": [],
   "source": [
    "user = user.fillna(0)"
   ]
  },
  {
   "cell_type": "code",
   "execution_count": 445,
   "metadata": {},
   "outputs": [],
   "source": [
    "def mapping(x):\n",
    "    if x == 'Gratis':\n",
    "        return 1\n",
    "    elif x == '1-50 Euros':\n",
    "        return 2\n",
    "    elif x == '+50 Euros':\n",
    "        return 3\n",
    "    else:\n",
    "        return 9999\n",
    "\n",
    "user['price'] = user['price'].apply(mapping)"
   ]
  },
  {
   "cell_type": "code",
   "execution_count": 446,
   "metadata": {},
   "outputs": [
    {
     "name": "stderr",
     "output_type": "stream",
     "text": [
      "c:\\Users\\Paris\\anaconda3\\envs\\desafio\\lib\\site-packages\\sklearn\\base.py:329: UserWarning: Trying to unpickle estimator DecisionTreeClassifier from version 1.0.2 when using version 1.1.1. This might lead to breaking code or invalid results. Use at your own risk. For more info please refer to:\n",
      "https://scikit-learn.org/stable/model_persistence.html#security-maintainability-limitations\n",
      "  warnings.warn(\n",
      "c:\\Users\\Paris\\anaconda3\\envs\\desafio\\lib\\site-packages\\sklearn\\base.py:329: UserWarning: Trying to unpickle estimator RandomForestClassifier from version 1.0.2 when using version 1.1.1. This might lead to breaking code or invalid results. Use at your own risk. For more info please refer to:\n",
      "https://scikit-learn.org/stable/model_persistence.html#security-maintainability-limitations\n",
      "  warnings.warn(\n",
      "c:\\Users\\Paris\\anaconda3\\envs\\desafio\\lib\\site-packages\\sklearn\\base.py:493: FutureWarning: The feature names should match those that were passed during fit. Starting version 1.2, an error will be raised.\n",
      "Feature names unseen at fit time:\n",
      "- type_Histórica\n",
      "- type_Turística\n",
      "Feature names seen at fit time, yet now missing:\n",
      "- type_Historica\n",
      "- type_Turistica\n",
      "\n",
      "  warnings.warn(message, FutureWarning)\n"
     ]
    }
   ],
   "source": [
    "import pickle\n",
    "filename = 'finished_model.pkl'\n",
    "with open(filename, 'rb') as archivo_entrada:\n",
    "    model = pickle.load(archivo_entrada)\n",
    "\n",
    "pred = model.predict(user)"
   ]
  },
  {
   "cell_type": "code",
   "execution_count": 447,
   "metadata": {},
   "outputs": [
    {
     "data": {
      "text/plain": [
       "array([\"Ruta dels Pecats a l'entorn del Mercat Central\"], dtype=object)"
      ]
     },
     "execution_count": 447,
     "metadata": {},
     "output_type": "execute_result"
    }
   ],
   "source": [
    "pred"
   ]
  }
 ],
 "metadata": {
  "kernelspec": {
   "display_name": "Python 3.8.13 ('desafio')",
   "language": "python",
   "name": "python3"
  },
  "language_info": {
   "codemirror_mode": {
    "name": "ipython",
    "version": 3
   },
   "file_extension": ".py",
   "mimetype": "text/x-python",
   "name": "python",
   "nbconvert_exporter": "python",
   "pygments_lexer": "ipython3",
   "version": "3.8.13"
  },
  "orig_nbformat": 4,
  "vscode": {
   "interpreter": {
    "hash": "5d04af2a4c2eebf185407e64277cc7655766a357171489808da903e927244626"
   }
  }
 },
 "nbformat": 4,
 "nbformat_minor": 2
}
