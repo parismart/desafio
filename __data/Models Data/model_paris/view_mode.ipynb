{
 "cells": [
  {
   "cell_type": "code",
   "execution_count": 472,
   "metadata": {},
   "outputs": [],
   "source": [
    "import pandas as pd\n",
    "import numpy as np"
   ]
  },
  {
   "cell_type": "code",
   "execution_count": 473,
   "metadata": {},
   "outputs": [],
   "source": [
    "df = pd.read_csv('fake_users_data.csv', index_col=0)"
   ]
  },
  {
   "cell_type": "code",
   "execution_count": 474,
   "metadata": {},
   "outputs": [],
   "source": [
    "    features = ['time', 'price', 'age_+45', 'age_0-18', 'age_18-35',\n",
    "       'age_35-45', 'gender_hombre', 'gender_mujer',\n",
    "       'gender_otro', 'type_historica', 'type_literaria',\n",
    "       'type_patrimonio', 'type_turistica', 'diff_alta', 'diff_baja',\n",
    "       'comp_amigos', 'comp_familia', 'comp_pareja', 'comp_solo',\n",
    "       'trans_bicicleta', 'trans_a pie']"
   ]
  },
  {
   "cell_type": "code",
   "execution_count": 475,
   "metadata": {},
   "outputs": [],
   "source": [
    "get_user = (1, '35-45', 'mujer', 3.5, 'historica', 'gratis', 'baja', 'solo', 'a pie', '15:00:55.655112')"
   ]
  },
  {
   "cell_type": "code",
   "execution_count": 476,
   "metadata": {},
   "outputs": [
    {
     "data": {
      "text/plain": [
       "array([['35-45', 'mujer', '3.5', 'historica', 'gratis', 'baja', 'solo',\n",
       "        'a pie']], dtype='<U32')"
      ]
     },
     "execution_count": 476,
     "metadata": {},
     "output_type": "execute_result"
    }
   ],
   "source": [
    "get_user = np.array(get_user[1:-1]).reshape(1,8)\n",
    "get_user"
   ]
  },
  {
   "cell_type": "code",
   "execution_count": 477,
   "metadata": {},
   "outputs": [
    {
     "data": {
      "text/html": [
       "<div>\n",
       "<style scoped>\n",
       "    .dataframe tbody tr th:only-of-type {\n",
       "        vertical-align: middle;\n",
       "    }\n",
       "\n",
       "    .dataframe tbody tr th {\n",
       "        vertical-align: top;\n",
       "    }\n",
       "\n",
       "    .dataframe thead th {\n",
       "        text-align: right;\n",
       "    }\n",
       "</style>\n",
       "<table border=\"1\" class=\"dataframe\">\n",
       "  <thead>\n",
       "    <tr style=\"text-align: right;\">\n",
       "      <th></th>\n",
       "      <th>age</th>\n",
       "      <th>gender</th>\n",
       "      <th>time</th>\n",
       "      <th>type_route</th>\n",
       "      <th>price</th>\n",
       "      <th>difficulty</th>\n",
       "      <th>accompaniment</th>\n",
       "      <th>transport</th>\n",
       "    </tr>\n",
       "  </thead>\n",
       "  <tbody>\n",
       "    <tr>\n",
       "      <th>1</th>\n",
       "      <td>35-45</td>\n",
       "      <td>mujer</td>\n",
       "      <td>3.5</td>\n",
       "      <td>historica</td>\n",
       "      <td>gratis</td>\n",
       "      <td>baja</td>\n",
       "      <td>solo</td>\n",
       "      <td>a pie</td>\n",
       "    </tr>\n",
       "  </tbody>\n",
       "</table>\n",
       "</div>"
      ],
      "text/plain": [
       "     age gender time type_route   price difficulty accompaniment transport\n",
       "1  35-45  mujer  3.5  historica  gratis       baja          solo     a pie"
      ]
     },
     "execution_count": 477,
     "metadata": {},
     "output_type": "execute_result"
    }
   ],
   "source": [
    "user = pd.DataFrame(data = get_user, index = ['1'], columns = ['age', 'gender', 'time', 'type_route', 'price', 'difficulty',\n",
    "       'accompaniment', 'transport'])\n",
    "user"
   ]
  },
  {
   "cell_type": "code",
   "execution_count": 478,
   "metadata": {},
   "outputs": [],
   "source": [
    "user = pd.get_dummies(user, prefix=['age', 'gender', 'type', 'diff', 'comp', 'trans'], columns=['age', 'gender', 'type_route', 'difficulty','accompaniment', 'transport'])"
   ]
  },
  {
   "cell_type": "code",
   "execution_count": 479,
   "metadata": {},
   "outputs": [],
   "source": [
    "user = pd.DataFrame(data = user, columns=features)"
   ]
  },
  {
   "cell_type": "code",
   "execution_count": 480,
   "metadata": {},
   "outputs": [],
   "source": [
    "user = user.fillna(0)"
   ]
  },
  {
   "cell_type": "code",
   "execution_count": 481,
   "metadata": {},
   "outputs": [],
   "source": [
    "def mapping(x):\n",
    "    if x == 'gratis':\n",
    "        return 1\n",
    "    elif x == '1-50':\n",
    "        return 2\n",
    "    elif x == '+50':\n",
    "        return 3\n",
    "    else:\n",
    "        return 9999\n",
    "\n",
    "user['price'] = user['price'].apply(mapping)"
   ]
  },
  {
   "cell_type": "code",
   "execution_count": 482,
   "metadata": {},
   "outputs": [
    {
     "name": "stderr",
     "output_type": "stream",
     "text": [
      "c:\\Users\\Paris\\anaconda3\\envs\\desafio\\lib\\site-packages\\sklearn\\base.py:329: UserWarning: Trying to unpickle estimator DecisionTreeClassifier from version 1.0.2 when using version 1.1.1. This might lead to breaking code or invalid results. Use at your own risk. For more info please refer to:\n",
      "https://scikit-learn.org/stable/model_persistence.html#security-maintainability-limitations\n",
      "  warnings.warn(\n",
      "c:\\Users\\Paris\\anaconda3\\envs\\desafio\\lib\\site-packages\\sklearn\\base.py:329: UserWarning: Trying to unpickle estimator RandomForestClassifier from version 1.0.2 when using version 1.1.1. This might lead to breaking code or invalid results. Use at your own risk. For more info please refer to:\n",
      "https://scikit-learn.org/stable/model_persistence.html#security-maintainability-limitations\n",
      "  warnings.warn(\n",
      "c:\\Users\\Paris\\anaconda3\\envs\\desafio\\lib\\site-packages\\sklearn\\base.py:493: FutureWarning: The feature names should match those that were passed during fit. Starting version 1.2, an error will be raised.\n",
      "Feature names must be in the same order as they were in fit.\n",
      "\n",
      "  warnings.warn(message, FutureWarning)\n"
     ]
    }
   ],
   "source": [
    "import pickle\n",
    "filename = 'finished_model.pkl'\n",
    "with open(filename, 'rb') as archivo_entrada:\n",
    "    model = pickle.load(archivo_entrada)\n",
    "\n",
    "pred = model.predict(user)"
   ]
  },
  {
   "cell_type": "code",
   "execution_count": 483,
   "metadata": {},
   "outputs": [
    {
     "data": {
      "text/plain": [
       "array([\"Ruta dels Pecats a l'entorn del Mercat Central\"], dtype=object)"
      ]
     },
     "execution_count": 483,
     "metadata": {},
     "output_type": "execute_result"
    }
   ],
   "source": [
    "pred"
   ]
  }
 ],
 "metadata": {
  "kernelspec": {
   "display_name": "Python 3.8.13 ('desafio')",
   "language": "python",
   "name": "python3"
  },
  "language_info": {
   "codemirror_mode": {
    "name": "ipython",
    "version": 3
   },
   "file_extension": ".py",
   "mimetype": "text/x-python",
   "name": "python",
   "nbconvert_exporter": "python",
   "pygments_lexer": "ipython3",
   "version": "3.8.13"
  },
  "orig_nbformat": 4,
  "vscode": {
   "interpreter": {
    "hash": "5d04af2a4c2eebf185407e64277cc7655766a357171489808da903e927244626"
   }
  }
 },
 "nbformat": 4,
 "nbformat_minor": 2
}
