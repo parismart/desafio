{
 "cells": [
  {
   "cell_type": "code",
   "execution_count": 41,
   "metadata": {},
   "outputs": [],
   "source": [
    "import pandas as pd\n",
    "import numpy as np\n",
    "import pickle\n",
    "import seaborn as sns\n",
    "from matplotlib import pyplot as plt\n",
    "from sklearn.ensemble import RandomForestClassifier\n",
    "from sklearn.metrics import confusion_matrix, accuracy_score\n",
    "from sklearn.model_selection import train_test_split"
   ]
  },
  {
   "cell_type": "code",
   "execution_count": 42,
   "metadata": {},
   "outputs": [],
   "source": [
    "df = pd.read_csv('fake_users_data.csv', index_col=0)"
   ]
  },
  {
   "cell_type": "code",
   "execution_count": 43,
   "metadata": {},
   "outputs": [],
   "source": [
    "df = pd.get_dummies(df, prefix=['age', 'gender', 'type', 'diff', 'comp', 'trans'], columns=['age', 'gender', 'type_route', 'difficulty','accompaniment', 'transport'])"
   ]
  },
  {
   "cell_type": "code",
   "execution_count": 44,
   "metadata": {},
   "outputs": [],
   "source": [
    "def mapping(x):\n",
    "    if x == 'gratis':\n",
    "        return 1\n",
    "    elif x == '1-50':\n",
    "        return 2\n",
    "    elif x == '+50':\n",
    "        return 3\n",
    "    else:\n",
    "        return 9999\n",
    "\n",
    "df['price'] = df['price'].apply(mapping)"
   ]
  },
  {
   "cell_type": "code",
   "execution_count": 45,
   "metadata": {},
   "outputs": [
    {
     "data": {
      "text/html": [
       "<div>\n",
       "<style scoped>\n",
       "    .dataframe tbody tr th:only-of-type {\n",
       "        vertical-align: middle;\n",
       "    }\n",
       "\n",
       "    .dataframe tbody tr th {\n",
       "        vertical-align: top;\n",
       "    }\n",
       "\n",
       "    .dataframe thead th {\n",
       "        text-align: right;\n",
       "    }\n",
       "</style>\n",
       "<table border=\"1\" class=\"dataframe\">\n",
       "  <thead>\n",
       "    <tr style=\"text-align: right;\">\n",
       "      <th></th>\n",
       "      <th>time</th>\n",
       "      <th>price</th>\n",
       "      <th>route_id</th>\n",
       "      <th>age_+45</th>\n",
       "      <th>age_0-18</th>\n",
       "      <th>age_18-35</th>\n",
       "      <th>age_35-45</th>\n",
       "      <th>gender_hombre</th>\n",
       "      <th>gender_mujer</th>\n",
       "      <th>gender_otro</th>\n",
       "      <th>...</th>\n",
       "      <th>type_patrimonio</th>\n",
       "      <th>type_turistica</th>\n",
       "      <th>diff_alta</th>\n",
       "      <th>diff_baja</th>\n",
       "      <th>comp_amigos</th>\n",
       "      <th>comp_familia</th>\n",
       "      <th>comp_pareja</th>\n",
       "      <th>comp_solo</th>\n",
       "      <th>trans_a pie</th>\n",
       "      <th>trans_bicicleta</th>\n",
       "    </tr>\n",
       "  </thead>\n",
       "  <tbody>\n",
       "    <tr>\n",
       "      <th>0</th>\n",
       "      <td>1.5</td>\n",
       "      <td>1</td>\n",
       "      <td>No hay ruta</td>\n",
       "      <td>0</td>\n",
       "      <td>0</td>\n",
       "      <td>1</td>\n",
       "      <td>0</td>\n",
       "      <td>0</td>\n",
       "      <td>1</td>\n",
       "      <td>0</td>\n",
       "      <td>...</td>\n",
       "      <td>0</td>\n",
       "      <td>0</td>\n",
       "      <td>1</td>\n",
       "      <td>0</td>\n",
       "      <td>0</td>\n",
       "      <td>0</td>\n",
       "      <td>1</td>\n",
       "      <td>0</td>\n",
       "      <td>1</td>\n",
       "      <td>0</td>\n",
       "    </tr>\n",
       "    <tr>\n",
       "      <th>1</th>\n",
       "      <td>1.5</td>\n",
       "      <td>2</td>\n",
       "      <td>Trinitat - L'Almodí</td>\n",
       "      <td>0</td>\n",
       "      <td>1</td>\n",
       "      <td>0</td>\n",
       "      <td>0</td>\n",
       "      <td>0</td>\n",
       "      <td>1</td>\n",
       "      <td>0</td>\n",
       "      <td>...</td>\n",
       "      <td>1</td>\n",
       "      <td>0</td>\n",
       "      <td>1</td>\n",
       "      <td>0</td>\n",
       "      <td>0</td>\n",
       "      <td>0</td>\n",
       "      <td>0</td>\n",
       "      <td>1</td>\n",
       "      <td>1</td>\n",
       "      <td>0</td>\n",
       "    </tr>\n",
       "    <tr>\n",
       "      <th>2</th>\n",
       "      <td>1.5</td>\n",
       "      <td>3</td>\n",
       "      <td>Ruta València amb bicicleta</td>\n",
       "      <td>0</td>\n",
       "      <td>0</td>\n",
       "      <td>1</td>\n",
       "      <td>0</td>\n",
       "      <td>1</td>\n",
       "      <td>0</td>\n",
       "      <td>0</td>\n",
       "      <td>...</td>\n",
       "      <td>0</td>\n",
       "      <td>0</td>\n",
       "      <td>1</td>\n",
       "      <td>0</td>\n",
       "      <td>0</td>\n",
       "      <td>1</td>\n",
       "      <td>0</td>\n",
       "      <td>0</td>\n",
       "      <td>0</td>\n",
       "      <td>1</td>\n",
       "    </tr>\n",
       "    <tr>\n",
       "      <th>3</th>\n",
       "      <td>7.5</td>\n",
       "      <td>3</td>\n",
       "      <td>Ruta dels Pecats a l'entorn del Mercat Central</td>\n",
       "      <td>1</td>\n",
       "      <td>0</td>\n",
       "      <td>0</td>\n",
       "      <td>0</td>\n",
       "      <td>1</td>\n",
       "      <td>0</td>\n",
       "      <td>0</td>\n",
       "      <td>...</td>\n",
       "      <td>0</td>\n",
       "      <td>0</td>\n",
       "      <td>0</td>\n",
       "      <td>1</td>\n",
       "      <td>0</td>\n",
       "      <td>0</td>\n",
       "      <td>1</td>\n",
       "      <td>0</td>\n",
       "      <td>1</td>\n",
       "      <td>0</td>\n",
       "    </tr>\n",
       "    <tr>\n",
       "      <th>4</th>\n",
       "      <td>7.5</td>\n",
       "      <td>1</td>\n",
       "      <td>Torres de Quart - Temple</td>\n",
       "      <td>0</td>\n",
       "      <td>0</td>\n",
       "      <td>0</td>\n",
       "      <td>1</td>\n",
       "      <td>0</td>\n",
       "      <td>1</td>\n",
       "      <td>0</td>\n",
       "      <td>...</td>\n",
       "      <td>1</td>\n",
       "      <td>0</td>\n",
       "      <td>0</td>\n",
       "      <td>1</td>\n",
       "      <td>0</td>\n",
       "      <td>1</td>\n",
       "      <td>0</td>\n",
       "      <td>0</td>\n",
       "      <td>0</td>\n",
       "      <td>1</td>\n",
       "    </tr>\n",
       "    <tr>\n",
       "      <th>...</th>\n",
       "      <td>...</td>\n",
       "      <td>...</td>\n",
       "      <td>...</td>\n",
       "      <td>...</td>\n",
       "      <td>...</td>\n",
       "      <td>...</td>\n",
       "      <td>...</td>\n",
       "      <td>...</td>\n",
       "      <td>...</td>\n",
       "      <td>...</td>\n",
       "      <td>...</td>\n",
       "      <td>...</td>\n",
       "      <td>...</td>\n",
       "      <td>...</td>\n",
       "      <td>...</td>\n",
       "      <td>...</td>\n",
       "      <td>...</td>\n",
       "      <td>...</td>\n",
       "      <td>...</td>\n",
       "      <td>...</td>\n",
       "      <td>...</td>\n",
       "    </tr>\n",
       "    <tr>\n",
       "      <th>29995</th>\n",
       "      <td>7.5</td>\n",
       "      <td>1</td>\n",
       "      <td>Arbres: La volta al món</td>\n",
       "      <td>0</td>\n",
       "      <td>1</td>\n",
       "      <td>0</td>\n",
       "      <td>0</td>\n",
       "      <td>0</td>\n",
       "      <td>0</td>\n",
       "      <td>1</td>\n",
       "      <td>...</td>\n",
       "      <td>0</td>\n",
       "      <td>1</td>\n",
       "      <td>0</td>\n",
       "      <td>1</td>\n",
       "      <td>1</td>\n",
       "      <td>0</td>\n",
       "      <td>0</td>\n",
       "      <td>0</td>\n",
       "      <td>0</td>\n",
       "      <td>1</td>\n",
       "    </tr>\n",
       "    <tr>\n",
       "      <th>29996</th>\n",
       "      <td>1.5</td>\n",
       "      <td>3</td>\n",
       "      <td>Glorieta-Santa Catalina</td>\n",
       "      <td>1</td>\n",
       "      <td>0</td>\n",
       "      <td>0</td>\n",
       "      <td>0</td>\n",
       "      <td>0</td>\n",
       "      <td>0</td>\n",
       "      <td>1</td>\n",
       "      <td>...</td>\n",
       "      <td>1</td>\n",
       "      <td>0</td>\n",
       "      <td>1</td>\n",
       "      <td>0</td>\n",
       "      <td>0</td>\n",
       "      <td>0</td>\n",
       "      <td>0</td>\n",
       "      <td>1</td>\n",
       "      <td>0</td>\n",
       "      <td>1</td>\n",
       "    </tr>\n",
       "    <tr>\n",
       "      <th>29997</th>\n",
       "      <td>5.5</td>\n",
       "      <td>3</td>\n",
       "      <td>Entre Naranjos</td>\n",
       "      <td>0</td>\n",
       "      <td>0</td>\n",
       "      <td>0</td>\n",
       "      <td>1</td>\n",
       "      <td>0</td>\n",
       "      <td>0</td>\n",
       "      <td>1</td>\n",
       "      <td>...</td>\n",
       "      <td>0</td>\n",
       "      <td>0</td>\n",
       "      <td>0</td>\n",
       "      <td>1</td>\n",
       "      <td>1</td>\n",
       "      <td>0</td>\n",
       "      <td>0</td>\n",
       "      <td>0</td>\n",
       "      <td>1</td>\n",
       "      <td>0</td>\n",
       "    </tr>\n",
       "    <tr>\n",
       "      <th>29998</th>\n",
       "      <td>3.5</td>\n",
       "      <td>2</td>\n",
       "      <td>Trinitat - L'Almodí</td>\n",
       "      <td>1</td>\n",
       "      <td>0</td>\n",
       "      <td>0</td>\n",
       "      <td>0</td>\n",
       "      <td>1</td>\n",
       "      <td>0</td>\n",
       "      <td>0</td>\n",
       "      <td>...</td>\n",
       "      <td>0</td>\n",
       "      <td>0</td>\n",
       "      <td>1</td>\n",
       "      <td>0</td>\n",
       "      <td>0</td>\n",
       "      <td>0</td>\n",
       "      <td>0</td>\n",
       "      <td>1</td>\n",
       "      <td>1</td>\n",
       "      <td>0</td>\n",
       "    </tr>\n",
       "    <tr>\n",
       "      <th>29999</th>\n",
       "      <td>1.5</td>\n",
       "      <td>3</td>\n",
       "      <td>Sant Agustí - Portal Nou</td>\n",
       "      <td>1</td>\n",
       "      <td>0</td>\n",
       "      <td>0</td>\n",
       "      <td>0</td>\n",
       "      <td>1</td>\n",
       "      <td>0</td>\n",
       "      <td>0</td>\n",
       "      <td>...</td>\n",
       "      <td>1</td>\n",
       "      <td>0</td>\n",
       "      <td>0</td>\n",
       "      <td>1</td>\n",
       "      <td>1</td>\n",
       "      <td>0</td>\n",
       "      <td>0</td>\n",
       "      <td>0</td>\n",
       "      <td>1</td>\n",
       "      <td>0</td>\n",
       "    </tr>\n",
       "  </tbody>\n",
       "</table>\n",
       "<p>30000 rows × 22 columns</p>\n",
       "</div>"
      ],
      "text/plain": [
       "       time  price                                        route_id  age_+45  \\\n",
       "0       1.5      1                                     No hay ruta        0   \n",
       "1       1.5      2                             Trinitat - L'Almodí        0   \n",
       "2       1.5      3                     Ruta València amb bicicleta        0   \n",
       "3       7.5      3  Ruta dels Pecats a l'entorn del Mercat Central        1   \n",
       "4       7.5      1                        Torres de Quart - Temple        0   \n",
       "...     ...    ...                                             ...      ...   \n",
       "29995   7.5      1                         Arbres: La volta al món        0   \n",
       "29996   1.5      3                         Glorieta-Santa Catalina        1   \n",
       "29997   5.5      3                                  Entre Naranjos        0   \n",
       "29998   3.5      2                             Trinitat - L'Almodí        1   \n",
       "29999   1.5      3                        Sant Agustí - Portal Nou        1   \n",
       "\n",
       "       age_0-18  age_18-35  age_35-45  gender_hombre  gender_mujer  \\\n",
       "0             0          1          0              0             1   \n",
       "1             1          0          0              0             1   \n",
       "2             0          1          0              1             0   \n",
       "3             0          0          0              1             0   \n",
       "4             0          0          1              0             1   \n",
       "...         ...        ...        ...            ...           ...   \n",
       "29995         1          0          0              0             0   \n",
       "29996         0          0          0              0             0   \n",
       "29997         0          0          1              0             0   \n",
       "29998         0          0          0              1             0   \n",
       "29999         0          0          0              1             0   \n",
       "\n",
       "       gender_otro  ...  type_patrimonio  type_turistica  diff_alta  \\\n",
       "0                0  ...                0               0          1   \n",
       "1                0  ...                1               0          1   \n",
       "2                0  ...                0               0          1   \n",
       "3                0  ...                0               0          0   \n",
       "4                0  ...                1               0          0   \n",
       "...            ...  ...              ...             ...        ...   \n",
       "29995            1  ...                0               1          0   \n",
       "29996            1  ...                1               0          1   \n",
       "29997            1  ...                0               0          0   \n",
       "29998            0  ...                0               0          1   \n",
       "29999            0  ...                1               0          0   \n",
       "\n",
       "       diff_baja  comp_amigos  comp_familia  comp_pareja  comp_solo  \\\n",
       "0              0            0             0            1          0   \n",
       "1              0            0             0            0          1   \n",
       "2              0            0             1            0          0   \n",
       "3              1            0             0            1          0   \n",
       "4              1            0             1            0          0   \n",
       "...          ...          ...           ...          ...        ...   \n",
       "29995          1            1             0            0          0   \n",
       "29996          0            0             0            0          1   \n",
       "29997          1            1             0            0          0   \n",
       "29998          0            0             0            0          1   \n",
       "29999          1            1             0            0          0   \n",
       "\n",
       "       trans_a pie  trans_bicicleta  \n",
       "0                1                0  \n",
       "1                1                0  \n",
       "2                0                1  \n",
       "3                1                0  \n",
       "4                0                1  \n",
       "...            ...              ...  \n",
       "29995            0                1  \n",
       "29996            0                1  \n",
       "29997            1                0  \n",
       "29998            1                0  \n",
       "29999            1                0  \n",
       "\n",
       "[30000 rows x 22 columns]"
      ]
     },
     "execution_count": 45,
     "metadata": {},
     "output_type": "execute_result"
    }
   ],
   "source": [
    "df"
   ]
  },
  {
   "cell_type": "markdown",
   "metadata": {},
   "source": [
    "# DATA PREPARATION"
   ]
  },
  {
   "cell_type": "code",
   "execution_count": 46,
   "metadata": {},
   "outputs": [],
   "source": [
    "X = df.drop(columns=['route_id'], axis=1)\n",
    "y = df[['route_id']]"
   ]
  },
  {
   "cell_type": "code",
   "execution_count": 47,
   "metadata": {},
   "outputs": [],
   "source": [
    "X_train, X_test, y_train, y_test = train_test_split(X, y, test_size=0.2, random_state=42)"
   ]
  },
  {
   "cell_type": "code",
   "execution_count": 48,
   "metadata": {},
   "outputs": [
    {
     "name": "stderr",
     "output_type": "stream",
     "text": [
      "C:\\Users\\Paris\\AppData\\Local\\Temp\\ipykernel_4076\\2477965460.py:4: DataConversionWarning: A column-vector y was passed when a 1d array was expected. Please change the shape of y to (n_samples,), for example using ravel().\n",
      "  rnd_clf.fit(X_train, y_train)\n"
     ]
    }
   ],
   "source": [
    "rnd_clf = RandomForestClassifier(n_estimators=500,\n",
    "                                 max_leaf_nodes=16,\n",
    "                                 random_state=42)\n",
    "rnd_clf.fit(X_train, y_train)\n",
    "\n",
    "y_pred_rf = rnd_clf.predict(X_test)"
   ]
  },
  {
   "cell_type": "code",
   "execution_count": 49,
   "metadata": {},
   "outputs": [
    {
     "data": {
      "text/plain": [
       "array([\"Trinitat - L'Almodí\", \"Trinitat - L'Almodí\",\n",
       "       \"Trinitat - L'Almodí\", ..., 'Arbres monumentals i singulars',\n",
       "       \"Trinitat - L'Almodí\", 'Glorieta-Santa Catalina'], dtype=object)"
      ]
     },
     "execution_count": 49,
     "metadata": {},
     "output_type": "execute_result"
    }
   ],
   "source": [
    "y_pred_rf"
   ]
  },
  {
   "cell_type": "code",
   "execution_count": 50,
   "metadata": {},
   "outputs": [
    {
     "data": {
      "text/plain": [
       "0.6886666666666666"
      ]
     },
     "execution_count": 50,
     "metadata": {},
     "output_type": "execute_result"
    }
   ],
   "source": [
    "accuracy_score(y_test, y_pred_rf)"
   ]
  },
  {
   "cell_type": "code",
   "execution_count": 51,
   "metadata": {},
   "outputs": [
    {
     "data": {
      "text/plain": [
       "<AxesSubplot:>"
      ]
     },
     "execution_count": 51,
     "metadata": {},
     "output_type": "execute_result"
    },
    {
     "data": {
      "image/png": "[encoded data removed]",
      "text/plain": [
       "<Figure size 1440x1440 with 2 Axes>"
      ]
     },
     "metadata": {
      "needs_background": "light"
     },
     "output_type": "display_data"
    }
   ],
   "source": [
    "plt.figure(figsize=(20,20))\n",
    "sns.heatmap(confusion_matrix(y_test, y_pred_rf), annot=True)"
   ]
  },
  {
   "cell_type": "code",
   "execution_count": 52,
   "metadata": {},
   "outputs": [
    {
     "data": {
      "text/plain": [
       "array(['time', 'price', 'age_+45', 'age_0-18', 'age_18-35', 'age_35-45',\n",
       "       'gender_hombre', 'gender_mujer', 'gender_otro', 'type_historica',\n",
       "       'type_literaria', 'type_patrimonio', 'type_turistica', 'diff_alta',\n",
       "       'diff_baja', 'comp_amigos', 'comp_familia', 'comp_pareja',\n",
       "       'comp_solo', 'trans_a pie', 'trans_bicicleta'], dtype=object)"
      ]
     },
     "execution_count": 52,
     "metadata": {},
     "output_type": "execute_result"
    }
   ],
   "source": [
    "rnd_clf.feature_names_in_"
   ]
  },
  {
   "cell_type": "code",
   "execution_count": 53,
   "metadata": {},
   "outputs": [
    {
     "data": {
      "text/plain": [
       "array([1.77595672e-02, 2.13153945e-04, 1.55960595e-02, 1.66100001e-02,\n",
       "       1.79027774e-01, 1.77282477e-02, 4.68577928e-05, 3.99011362e-05,\n",
       "       6.58037485e-05, 1.01358601e-01, 6.53901224e-02, 6.40334617e-02,\n",
       "       8.89676148e-02, 1.80712675e-01, 1.87841075e-01, 8.79364724e-05,\n",
       "       5.85188688e-05, 6.64414633e-05, 6.35455072e-05, 3.39779604e-02,\n",
       "       3.03546824e-02])"
      ]
     },
     "execution_count": 53,
     "metadata": {},
     "output_type": "execute_result"
    }
   ],
   "source": [
    "rnd_clf.feature_importances_"
   ]
  },
  {
   "cell_type": "code",
   "execution_count": 54,
   "metadata": {},
   "outputs": [],
   "source": [
    "# Guardar modelo\n",
    "filename = 'finished_model.pkl'\n",
    "with open(filename, 'wb') as archivo_salida:\n",
    "    pickle.dump(rnd_clf, archivo_salida)"
   ]
  }
 ],
 "metadata": {
  "kernelspec": {
   "display_name": "Python 3.9.12 ('base')",
   "language": "python",
   "name": "python3"
  },
  "language_info": {
   "codemirror_mode": {
    "name": "ipython",
    "version": 3
   },
   "file_extension": ".py",
   "mimetype": "text/x-python",
   "name": "python",
   "nbconvert_exporter": "python",
   "pygments_lexer": "ipython3",
   "version": "3.9.12"
  },
  "orig_nbformat": 4,
  "vscode": {
   "interpreter": {
    "hash": "95e3d8074efb559d8e2ced0497847ee4b0fb80e8567305a15a19ad59074c6e51"
   }
  }
 },
 "nbformat": 4,
 "nbformat_minor": 2
}
