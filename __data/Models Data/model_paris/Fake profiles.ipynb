{
 "cells": [
  {
   "cell_type": "code",
   "execution_count": 59,
   "metadata": {},
   "outputs": [],
   "source": [
    "import numpy as np\n",
    "import pandas as pd"
   ]
  },
  {
   "cell_type": "markdown",
   "metadata": {},
   "source": [
    "### Creating fake data with random choices"
   ]
  },
  {
   "cell_type": "code",
   "execution_count": 60,
   "metadata": {},
   "outputs": [],
   "source": [
    "# function to create a dataframe with fake values for our synthetic users\n",
    "def make_users(num):\n",
    "    \n",
    "    fake_users = []\n",
    "\n",
    "    for i in range(num): \n",
    "        # lists to randomly assign to users\n",
    "        age\t = ['0-18', '18-35','35-45','+45']\n",
    "        gender = ['hombre', 'mujer', 'otro']\n",
    "        company = ['solo','pareja','amigos','familia']\n",
    "        time = [1.5,3.5,5.5,7.5]\n",
    "        price = ['gratis', '1-50', '+50']\n",
    "        difficulty = ['alta', 'baja']\n",
    "        transport = ['a pie', 'bicicleta']\n",
    "        type_route = ['historica', 'turistica', 'literaria', 'patrimonio']\n",
    "        route_id = [None]\n",
    "\n",
    "        fake_user = {\n",
    "            'age':np.random.choice(age),\n",
    "            'gender': np.random.choice(gender),\n",
    "            'time': np.random.choice(time),\n",
    "            'type_route': np.random.choice(type_route),\n",
    "            'price': np.random.choice(price),\n",
    "            'difficulty': np.random.choice(difficulty),\n",
    "            'accompaniment': np.random.choice(company),\n",
    "            'transport': np.random.choice(transport),\n",
    "            'route_id': np.nan,}\n",
    "        \n",
    "        fake_users.append(fake_user)\n",
    "\n",
    "    users_df = pd.DataFrame(fake_users)\n",
    "    \n",
    "    return users_df\n",
    "\n"
   ]
  },
  {
   "cell_type": "code",
   "execution_count": 61,
   "metadata": {},
   "outputs": [],
   "source": [
    "df_fake = make_users(30000)"
   ]
  },
  {
   "cell_type": "code",
   "execution_count": 62,
   "metadata": {},
   "outputs": [],
   "source": [
    "def input_target(df_users):\n",
    "    df = pd.read_csv('routes.csv', index_col=0)\n",
    "\n",
    "    for idx, i in enumerate(df_users.iterrows()):\n",
    "        df_routes = df.copy()\n",
    "        if i[1].age == '18-35':\n",
    "            df_routes = df_routes.loc[df_routes.age == 0, :]\n",
    "            if i[1].transport == 'a pie':\n",
    "                df_routes = df_routes.loc[df_routes.transport == 'peu', :]\n",
    "                if i[1].difficulty == 'alta':\n",
    "                    df_routes = df_routes.loc[df_routes.dificulty == 'media', :]\n",
    "                    if i[1].type_route == 'literaria':\n",
    "                        df_routes = df_routes.loc[df_routes.type == 'Literària', :]\n",
    "                    elif i[1].type_route == 'turistica':\n",
    "                         df_routes = df_routes.loc[df_routes.type == 'Turística', :]\n",
    "                    elif i[1].type_route == 'historica':\n",
    "                         df_routes = df_routes.loc[df_routes.type == 'Històrica', :]\n",
    "                    elif i[1].type_route == 'patrimonio':\n",
    "                         df_routes = df_routes.loc[df_routes.type == 'Patrimonial', :]\n",
    "                else:\n",
    "                    df_routes = df_routes.loc[df_routes.dificulty == 'baja', :]\n",
    "                    if i[1].type_route == 'literaria':\n",
    "                        df_routes = df_routes.loc[df_routes.type == 'Literària', :]\n",
    "                    elif i[1].type_route == 'turistica':\n",
    "                         df_routes = df_routes.loc[df_routes.type == 'Turística', :]\n",
    "                    elif i[1].type_route == 'historica':\n",
    "                         df_routes = df_routes.loc[df_routes.type == 'Històrica', :]\n",
    "                    elif i[1].type_route == 'patrimonio':\n",
    "                         df_routes = df_routes.loc[df_routes.type == 'Patrimonial', :]\n",
    "            else:\n",
    "                df_routes = df_routes.loc[df_routes.transport == 'bicicleta', :]\n",
    "                if i[1].difficulty == 'alta':\n",
    "                    df_routes = df_routes.loc[df_routes.dificulty == 'media', :]\n",
    "                else: \n",
    "                    df_routes = df_routes.loc[df_routes.dificulty == 'baja', :]\n",
    "        else:\n",
    "            df_routes = df_routes.loc[df_routes.age == 1, :]\n",
    "            if i[1].difficulty == 'alta':\n",
    "                df_routes = df_routes.loc[df_routes.dificulty == 'media', :]\n",
    "            else:\n",
    "                df_routes = df_routes.loc[df_routes.dificulty == 'baja', :]\n",
    "                if i[1].type_route == 'literaria':\n",
    "                    df_routes = df_routes.loc[df_routes.type == 'Literària', :]\n",
    "                elif i[1].type_route == 'turistica':\n",
    "                        df_routes = df_routes.loc[df_routes.type == 'Turística', :]\n",
    "                elif i[1].type_route == 'historica':\n",
    "                        df_routes = df_routes.loc[df_routes.type == 'Històrica', :]\n",
    "                elif i[1].type_route == 'patrimonio':\n",
    "                        df_routes = df_routes.loc[df_routes.type == 'Patrimonial', :]\n",
    "                        if i[1].time < 2:\n",
    "                            df_routes = df_routes.loc[df_routes.duration == 60, :]\n",
    "                        elif i[1].time > 6:\n",
    "                            df_routes = df_routes.loc[df_routes.duration == 420, :]\n",
    "                        else:\n",
    "                            df_routes = df_routes.loc[df_routes.duration == 360, :]\n",
    "\n",
    "        routes = list(df_routes.name)\n",
    "\n",
    "        if routes == []:\n",
    "            routes.append('No hay ruta')\n",
    "        df_users.loc[idx, 'route_id'] = np.random.choice(routes)\n",
    "                      \n",
    "    return df_users\n"
   ]
  },
  {
   "cell_type": "code",
   "execution_count": 63,
   "metadata": {},
   "outputs": [],
   "source": [
    "df_fake = input_target(df_fake)\n"
   ]
  },
  {
   "cell_type": "code",
   "execution_count": 64,
   "metadata": {},
   "outputs": [
    {
     "data": {
      "text/plain": [
       "Glorieta-Santa Catalina                           5591\n",
       "Trinitat - L'Almodí                               5554\n",
       "Ruta dels Pecats a l'entorn del Mercat Central    2832\n",
       "Arbres: La volta al món                           2739\n",
       "Ruta València amb bicicleta                       1894\n",
       "Contes Blasco Ibañez – Ruta 1                     1423\n",
       "Ruta Carrer Russafa - la Llotja                   1391\n",
       "Entre Naranjos                                    1372\n",
       "Arbres monumentals i singulars                     960\n",
       "Ruta Cultural Anell Ciclista                       911\n",
       "Torres de Quart - Temple                           725\n",
       "Sant Agustí - Portal Nou                           684\n",
       "Ruta pel Centre Històric                           541\n",
       "No hay ruta                                        518\n",
       "Ruta Valencia en la Memòria                        495\n",
       "Serrans - Palau de la Generalitat                  482\n",
       "Jardins del Reial - Glorieta                       284\n",
       "Sant Agustí – Pont de Fusta                        238\n",
       "Ruta de la Seda                                    231\n",
       "La barraca                                         230\n",
       "Ruta recinte enmurallat d'època islàmica           226\n",
       "Contes Blasco Ibañez – Ruta 2                      210\n",
       "Arbres: Un passeig per l’Albereda                  165\n",
       "Arbres: Els indians                                163\n",
       "Arbres: Un viatge pel Mediterrani                  141\n",
       "Name: route_id, dtype: int64"
      ]
     },
     "execution_count": 64,
     "metadata": {},
     "output_type": "execute_result"
    }
   ],
   "source": [
    "df_fake.route_id.value_counts()"
   ]
  },
  {
   "cell_type": "code",
   "execution_count": 65,
   "metadata": {},
   "outputs": [],
   "source": [
    "df_fake.to_csv('fake_users_data.csv')"
   ]
  }
 ],
 "metadata": {
  "kernelspec": {
   "display_name": "Python 3.9.12 ('base')",
   "language": "python",
   "name": "python3"
  },
  "language_info": {
   "codemirror_mode": {
    "name": "ipython",
    "version": 3
   },
   "file_extension": ".py",
   "mimetype": "text/x-python",
   "name": "python",
   "nbconvert_exporter": "python",
   "pygments_lexer": "ipython3",
   "version": "3.9.12"
  },
  "orig_nbformat": 4,
  "vscode": {
   "interpreter": {
    "hash": "95e3d8074efb559d8e2ced0497847ee4b0fb80e8567305a15a19ad59074c6e51"
   }
  }
 },
 "nbformat": 4,
 "nbformat_minor": 2
}
