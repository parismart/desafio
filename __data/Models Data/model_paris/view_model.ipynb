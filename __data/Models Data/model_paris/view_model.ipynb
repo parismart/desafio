{
 "cells": [
  {
   "cell_type": "code",
   "execution_count": 3,
   "metadata": {},
   "outputs": [],
   "source": [
    "import pandas as pd\n",
    "import numpy as np\n",
    "import pickle"
   ]
  },
  {
   "cell_type": "code",
   "execution_count": 4,
   "metadata": {},
   "outputs": [],
   "source": [
    "get_user = (1, '35-45', 'mujer', 3.5, 'historica', 'gratis', 'baja', 'solo', 'a pie', '15:00:55.655112')"
   ]
  },
  {
   "cell_type": "code",
   "execution_count": 5,
   "metadata": {},
   "outputs": [
    {
     "data": {
      "text/plain": [
       "['+45mujer0.5historicagratisaltasoloa pie']"
      ]
     },
     "execution_count": 5,
     "metadata": {},
     "output_type": "execute_result"
    }
   ],
   "source": [
    "['+45' 'mujer' '0.5' 'historica' 'gratis' 'alta' 'solo' 'a pie']"
   ]
  },
  {
   "cell_type": "code",
   "execution_count": 6,
   "metadata": {},
   "outputs": [
    {
     "data": {
      "text/plain": [
       "array([['35-45', 'mujer', '3.5', 'historica', 'gratis', 'baja', 'solo',\n",
       "        'a pie']], dtype='<U32')"
      ]
     },
     "execution_count": 6,
     "metadata": {},
     "output_type": "execute_result"
    }
   ],
   "source": [
    "get_user = np.array(get_user[1:-1]).reshape(1,8)\n",
    "get_user"
   ]
  },
  {
   "cell_type": "code",
   "execution_count": 7,
   "metadata": {},
   "outputs": [
    {
     "data": {
      "text/html": [
       "<div>\n",
       "<style scoped>\n",
       "    .dataframe tbody tr th:only-of-type {\n",
       "        vertical-align: middle;\n",
       "    }\n",
       "\n",
       "    .dataframe tbody tr th {\n",
       "        vertical-align: top;\n",
       "    }\n",
       "\n",
       "    .dataframe thead th {\n",
       "        text-align: right;\n",
       "    }\n",
       "</style>\n",
       "<table border=\"1\" class=\"dataframe\">\n",
       "  <thead>\n",
       "    <tr style=\"text-align: right;\">\n",
       "      <th></th>\n",
       "      <th>age</th>\n",
       "      <th>gender</th>\n",
       "      <th>time</th>\n",
       "      <th>type_route</th>\n",
       "      <th>price</th>\n",
       "      <th>difficulty</th>\n",
       "      <th>accompaniment</th>\n",
       "      <th>transport</th>\n",
       "    </tr>\n",
       "  </thead>\n",
       "  <tbody>\n",
       "    <tr>\n",
       "      <th>1</th>\n",
       "      <td>35-45</td>\n",
       "      <td>mujer</td>\n",
       "      <td>3.5</td>\n",
       "      <td>historica</td>\n",
       "      <td>gratis</td>\n",
       "      <td>baja</td>\n",
       "      <td>solo</td>\n",
       "      <td>a pie</td>\n",
       "    </tr>\n",
       "  </tbody>\n",
       "</table>\n",
       "</div>"
      ],
      "text/plain": [
       "     age gender time type_route   price difficulty accompaniment transport\n",
       "1  35-45  mujer  3.5  historica  gratis       baja          solo     a pie"
      ]
     },
     "execution_count": 7,
     "metadata": {},
     "output_type": "execute_result"
    }
   ],
   "source": [
    "get_user = pd.DataFrame(data = get_user, index = ['1'], columns = ['age', 'gender', 'time', 'type_route', 'price', 'difficulty',\n",
    "       'accompaniment', 'transport'])\n",
    "get_user"
   ]
  },
  {
   "cell_type": "code",
   "execution_count": 8,
   "metadata": {},
   "outputs": [
    {
     "data": {
      "text/html": [
       "<div>\n",
       "<style scoped>\n",
       "    .dataframe tbody tr th:only-of-type {\n",
       "        vertical-align: middle;\n",
       "    }\n",
       "\n",
       "    .dataframe tbody tr th {\n",
       "        vertical-align: top;\n",
       "    }\n",
       "\n",
       "    .dataframe thead th {\n",
       "        text-align: right;\n",
       "    }\n",
       "</style>\n",
       "<table border=\"1\" class=\"dataframe\">\n",
       "  <thead>\n",
       "    <tr style=\"text-align: right;\">\n",
       "      <th></th>\n",
       "      <th>time</th>\n",
       "      <th>price</th>\n",
       "      <th>age_35-45</th>\n",
       "      <th>gender_mujer</th>\n",
       "      <th>type_historica</th>\n",
       "      <th>diff_baja</th>\n",
       "      <th>comp_solo</th>\n",
       "      <th>trans_a pie</th>\n",
       "    </tr>\n",
       "  </thead>\n",
       "  <tbody>\n",
       "    <tr>\n",
       "      <th>1</th>\n",
       "      <td>3.5</td>\n",
       "      <td>gratis</td>\n",
       "      <td>1</td>\n",
       "      <td>1</td>\n",
       "      <td>1</td>\n",
       "      <td>1</td>\n",
       "      <td>1</td>\n",
       "      <td>1</td>\n",
       "    </tr>\n",
       "  </tbody>\n",
       "</table>\n",
       "</div>"
      ],
      "text/plain": [
       "  time   price  age_35-45  gender_mujer  type_historica  diff_baja  comp_solo  \\\n",
       "1  3.5  gratis          1             1               1          1          1   \n",
       "\n",
       "   trans_a pie  \n",
       "1            1  "
      ]
     },
     "execution_count": 8,
     "metadata": {},
     "output_type": "execute_result"
    }
   ],
   "source": [
    "get_user = pd.get_dummies(get_user, prefix=['age', 'gender', 'type', 'diff', 'comp', 'trans'], columns=['age', 'gender', 'type_route', 'difficulty','accompaniment', 'transport'])\n",
    "get_user"
   ]
  },
  {
   "cell_type": "code",
   "execution_count": 9,
   "metadata": {},
   "outputs": [],
   "source": [
    "features = ['time', 'price', 'age_+45', 'age_0-18', 'age_18-35',\n",
    "       'age_35-45', 'gender_hombre', 'gender_mujer',\n",
    "       'gender_otro', 'route_type_historica', 'route_type_literaria',\n",
    "       'route_type_patrimonio', 'route_type_turistica', 'diff_alta', 'diff_baja',\n",
    "       'comp_amigos', 'comp_familia', 'comp_pareja', 'comp_solo', 'trans_a pie', 'trans_bicicleta']"
   ]
  },
  {
   "cell_type": "code",
   "execution_count": 10,
   "metadata": {},
   "outputs": [
    {
     "data": {
      "text/html": [
       "<div>\n",
       "<style scoped>\n",
       "    .dataframe tbody tr th:only-of-type {\n",
       "        vertical-align: middle;\n",
       "    }\n",
       "\n",
       "    .dataframe tbody tr th {\n",
       "        vertical-align: top;\n",
       "    }\n",
       "\n",
       "    .dataframe thead th {\n",
       "        text-align: right;\n",
       "    }\n",
       "</style>\n",
       "<table border=\"1\" class=\"dataframe\">\n",
       "  <thead>\n",
       "    <tr style=\"text-align: right;\">\n",
       "      <th></th>\n",
       "      <th>time</th>\n",
       "      <th>price</th>\n",
       "      <th>age_+45</th>\n",
       "      <th>age_0-18</th>\n",
       "      <th>age_18-35</th>\n",
       "      <th>age_35-45</th>\n",
       "      <th>gender_hombre</th>\n",
       "      <th>gender_mujer</th>\n",
       "      <th>gender_otro</th>\n",
       "      <th>route_type_historica</th>\n",
       "      <th>...</th>\n",
       "      <th>route_type_patrimonio</th>\n",
       "      <th>route_type_turistica</th>\n",
       "      <th>diff_alta</th>\n",
       "      <th>diff_baja</th>\n",
       "      <th>comp_amigos</th>\n",
       "      <th>comp_familia</th>\n",
       "      <th>comp_pareja</th>\n",
       "      <th>comp_solo</th>\n",
       "      <th>trans_a pie</th>\n",
       "      <th>trans_bicicleta</th>\n",
       "    </tr>\n",
       "  </thead>\n",
       "  <tbody>\n",
       "    <tr>\n",
       "      <th>1</th>\n",
       "      <td>3.5</td>\n",
       "      <td>gratis</td>\n",
       "      <td>NaN</td>\n",
       "      <td>NaN</td>\n",
       "      <td>NaN</td>\n",
       "      <td>1</td>\n",
       "      <td>NaN</td>\n",
       "      <td>1</td>\n",
       "      <td>NaN</td>\n",
       "      <td>NaN</td>\n",
       "      <td>...</td>\n",
       "      <td>NaN</td>\n",
       "      <td>NaN</td>\n",
       "      <td>NaN</td>\n",
       "      <td>1</td>\n",
       "      <td>NaN</td>\n",
       "      <td>NaN</td>\n",
       "      <td>NaN</td>\n",
       "      <td>1</td>\n",
       "      <td>1</td>\n",
       "      <td>NaN</td>\n",
       "    </tr>\n",
       "  </tbody>\n",
       "</table>\n",
       "<p>1 rows × 21 columns</p>\n",
       "</div>"
      ],
      "text/plain": [
       "  time   price  age_+45  age_0-18  age_18-35  age_35-45  gender_hombre  \\\n",
       "1  3.5  gratis      NaN       NaN        NaN          1            NaN   \n",
       "\n",
       "   gender_mujer  gender_otro  route_type_historica  ...  \\\n",
       "1             1          NaN                   NaN  ...   \n",
       "\n",
       "   route_type_patrimonio  route_type_turistica  diff_alta  diff_baja  \\\n",
       "1                    NaN                   NaN        NaN          1   \n",
       "\n",
       "   comp_amigos  comp_familia  comp_pareja  comp_solo  trans_a pie  \\\n",
       "1          NaN           NaN          NaN          1            1   \n",
       "\n",
       "   trans_bicicleta  \n",
       "1              NaN  \n",
       "\n",
       "[1 rows x 21 columns]"
      ]
     },
     "execution_count": 10,
     "metadata": {},
     "output_type": "execute_result"
    }
   ],
   "source": [
    "get_user = pd.DataFrame(data = get_user, columns=features)\n",
    "get_user"
   ]
  },
  {
   "cell_type": "code",
   "execution_count": 11,
   "metadata": {},
   "outputs": [
    {
     "data": {
      "text/html": [
       "<div>\n",
       "<style scoped>\n",
       "    .dataframe tbody tr th:only-of-type {\n",
       "        vertical-align: middle;\n",
       "    }\n",
       "\n",
       "    .dataframe tbody tr th {\n",
       "        vertical-align: top;\n",
       "    }\n",
       "\n",
       "    .dataframe thead th {\n",
       "        text-align: right;\n",
       "    }\n",
       "</style>\n",
       "<table border=\"1\" class=\"dataframe\">\n",
       "  <thead>\n",
       "    <tr style=\"text-align: right;\">\n",
       "      <th></th>\n",
       "      <th>time</th>\n",
       "      <th>price</th>\n",
       "      <th>age_+45</th>\n",
       "      <th>age_0-18</th>\n",
       "      <th>age_18-35</th>\n",
       "      <th>age_35-45</th>\n",
       "      <th>gender_hombre</th>\n",
       "      <th>gender_mujer</th>\n",
       "      <th>gender_otro</th>\n",
       "      <th>route_type_historica</th>\n",
       "      <th>...</th>\n",
       "      <th>route_type_patrimonio</th>\n",
       "      <th>route_type_turistica</th>\n",
       "      <th>diff_alta</th>\n",
       "      <th>diff_baja</th>\n",
       "      <th>comp_amigos</th>\n",
       "      <th>comp_familia</th>\n",
       "      <th>comp_pareja</th>\n",
       "      <th>comp_solo</th>\n",
       "      <th>trans_a pie</th>\n",
       "      <th>trans_bicicleta</th>\n",
       "    </tr>\n",
       "  </thead>\n",
       "  <tbody>\n",
       "    <tr>\n",
       "      <th>1</th>\n",
       "      <td>3.5</td>\n",
       "      <td>gratis</td>\n",
       "      <td>0.0</td>\n",
       "      <td>0.0</td>\n",
       "      <td>0.0</td>\n",
       "      <td>1</td>\n",
       "      <td>0.0</td>\n",
       "      <td>1</td>\n",
       "      <td>0.0</td>\n",
       "      <td>0.0</td>\n",
       "      <td>...</td>\n",
       "      <td>0.0</td>\n",
       "      <td>0.0</td>\n",
       "      <td>0.0</td>\n",
       "      <td>1</td>\n",
       "      <td>0.0</td>\n",
       "      <td>0.0</td>\n",
       "      <td>0.0</td>\n",
       "      <td>1</td>\n",
       "      <td>1</td>\n",
       "      <td>0.0</td>\n",
       "    </tr>\n",
       "  </tbody>\n",
       "</table>\n",
       "<p>1 rows × 21 columns</p>\n",
       "</div>"
      ],
      "text/plain": [
       "  time   price  age_+45  age_0-18  age_18-35  age_35-45  gender_hombre  \\\n",
       "1  3.5  gratis      0.0       0.0        0.0          1            0.0   \n",
       "\n",
       "   gender_mujer  gender_otro  route_type_historica  ...  \\\n",
       "1             1          0.0                   0.0  ...   \n",
       "\n",
       "   route_type_patrimonio  route_type_turistica  diff_alta  diff_baja  \\\n",
       "1                    0.0                   0.0        0.0          1   \n",
       "\n",
       "   comp_amigos  comp_familia  comp_pareja  comp_solo  trans_a pie  \\\n",
       "1          0.0           0.0          0.0          1            1   \n",
       "\n",
       "   trans_bicicleta  \n",
       "1              0.0  \n",
       "\n",
       "[1 rows x 21 columns]"
      ]
     },
     "execution_count": 11,
     "metadata": {},
     "output_type": "execute_result"
    }
   ],
   "source": [
    "get_user = get_user.fillna(0)\n",
    "get_user"
   ]
  },
  {
   "cell_type": "code",
   "execution_count": 12,
   "metadata": {},
   "outputs": [
    {
     "data": {
      "text/html": [
       "<div>\n",
       "<style scoped>\n",
       "    .dataframe tbody tr th:only-of-type {\n",
       "        vertical-align: middle;\n",
       "    }\n",
       "\n",
       "    .dataframe tbody tr th {\n",
       "        vertical-align: top;\n",
       "    }\n",
       "\n",
       "    .dataframe thead th {\n",
       "        text-align: right;\n",
       "    }\n",
       "</style>\n",
       "<table border=\"1\" class=\"dataframe\">\n",
       "  <thead>\n",
       "    <tr style=\"text-align: right;\">\n",
       "      <th></th>\n",
       "      <th>time</th>\n",
       "      <th>price</th>\n",
       "      <th>age_+45</th>\n",
       "      <th>age_0-18</th>\n",
       "      <th>age_18-35</th>\n",
       "      <th>age_35-45</th>\n",
       "      <th>gender_hombre</th>\n",
       "      <th>gender_mujer</th>\n",
       "      <th>gender_otro</th>\n",
       "      <th>route_type_historica</th>\n",
       "      <th>...</th>\n",
       "      <th>route_type_patrimonio</th>\n",
       "      <th>route_type_turistica</th>\n",
       "      <th>diff_alta</th>\n",
       "      <th>diff_baja</th>\n",
       "      <th>comp_amigos</th>\n",
       "      <th>comp_familia</th>\n",
       "      <th>comp_pareja</th>\n",
       "      <th>comp_solo</th>\n",
       "      <th>trans_a pie</th>\n",
       "      <th>trans_bicicleta</th>\n",
       "    </tr>\n",
       "  </thead>\n",
       "  <tbody>\n",
       "    <tr>\n",
       "      <th>1</th>\n",
       "      <td>3.5</td>\n",
       "      <td>1</td>\n",
       "      <td>0.0</td>\n",
       "      <td>0.0</td>\n",
       "      <td>0.0</td>\n",
       "      <td>1</td>\n",
       "      <td>0.0</td>\n",
       "      <td>1</td>\n",
       "      <td>0.0</td>\n",
       "      <td>0.0</td>\n",
       "      <td>...</td>\n",
       "      <td>0.0</td>\n",
       "      <td>0.0</td>\n",
       "      <td>0.0</td>\n",
       "      <td>1</td>\n",
       "      <td>0.0</td>\n",
       "      <td>0.0</td>\n",
       "      <td>0.0</td>\n",
       "      <td>1</td>\n",
       "      <td>1</td>\n",
       "      <td>0.0</td>\n",
       "    </tr>\n",
       "  </tbody>\n",
       "</table>\n",
       "<p>1 rows × 21 columns</p>\n",
       "</div>"
      ],
      "text/plain": [
       "  time  price  age_+45  age_0-18  age_18-35  age_35-45  gender_hombre  \\\n",
       "1  3.5      1      0.0       0.0        0.0          1            0.0   \n",
       "\n",
       "   gender_mujer  gender_otro  route_type_historica  ...  \\\n",
       "1             1          0.0                   0.0  ...   \n",
       "\n",
       "   route_type_patrimonio  route_type_turistica  diff_alta  diff_baja  \\\n",
       "1                    0.0                   0.0        0.0          1   \n",
       "\n",
       "   comp_amigos  comp_familia  comp_pareja  comp_solo  trans_a pie  \\\n",
       "1          0.0           0.0          0.0          1            1   \n",
       "\n",
       "   trans_bicicleta  \n",
       "1              0.0  \n",
       "\n",
       "[1 rows x 21 columns]"
      ]
     },
     "execution_count": 12,
     "metadata": {},
     "output_type": "execute_result"
    }
   ],
   "source": [
    "def mapping(x):\n",
    "    if x == 'gratis':\n",
    "        return 1\n",
    "    elif x == '1-50':\n",
    "        return 2\n",
    "    elif x == '+50':\n",
    "        return 3\n",
    "    else:\n",
    "        return 0\n",
    "\n",
    "get_user['price'] = get_user['price'].apply(mapping)\n",
    "get_user"
   ]
  },
  {
   "cell_type": "code",
   "execution_count": null,
   "metadata": {},
   "outputs": [],
   "source": [
    "filename = 'model/log_model.pkl'\n",
    "with open(filename, 'rb') as archivo_entrada:\n",
    "    model = pickle.load(archivo_entrada)"
   ]
  },
  {
   "cell_type": "code",
   "execution_count": null,
   "metadata": {},
   "outputs": [
    {
     "name": "stderr",
     "output_type": "stream",
     "text": [
      "c:\\Users\\Paris\\anaconda3\\envs\\desafio\\lib\\site-packages\\sklearn\\base.py:493: FutureWarning: The feature names should match those that were passed during fit. Starting version 1.2, an error will be raised.\n",
      "Feature names must be in the same order as they were in fit.\n",
      "\n",
      "  warnings.warn(message, FutureWarning)\n"
     ]
    },
    {
     "data": {
      "text/plain": [
       "array([14], dtype=int64)"
      ]
     },
     "execution_count": 22,
     "metadata": {},
     "output_type": "execute_result"
    }
   ],
   "source": [
    "pred = model.predict(get_user)\n",
    "pred"
   ]
  }
 ],
 "metadata": {
  "kernelspec": {
   "display_name": "Python 3.8.13 ('desafio')",
   "language": "python",
   "name": "python3"
  },
  "language_info": {
   "codemirror_mode": {
    "name": "ipython",
    "version": 3
   },
   "file_extension": ".py",
   "mimetype": "text/x-python",
   "name": "python",
   "nbconvert_exporter": "python",
   "pygments_lexer": "ipython3",
   "version": "3.8.13"
  },
  "orig_nbformat": 4,
  "vscode": {
   "interpreter": {
    "hash": "5d04af2a4c2eebf185407e64277cc7655766a357171489808da903e927244626"
   }
  }
 },
 "nbformat": 4,
 "nbformat_minor": 2
}
